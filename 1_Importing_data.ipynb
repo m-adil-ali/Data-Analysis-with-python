{
 "cells": [
  {
   "cell_type": "markdown",
   "metadata": {},
   "source": [
    "# Introduction to importing data with Python\n",
    "\n",
    "1. **Variety of Data Sources**:\n",
    "   - Flat files like .txt and .csv.\n",
    "   - Files native to other software i.e., Excel spreadsheets and files from Stata, SAS, and MATLAB.\n",
    "   - Relational databases including SQLite and PostgreSQL.\n",
    "\n",
    "2. **Classification of Text Files**:\n",
    "   - Plain text files, for example, literary works like excerpts from Mark Twain's \"The Adventures of Huckleberry Finn\".\n",
    "   - Structured data text files like \"titanic.csv\", where each row represents an individual (such as a passenger) and each column denotes attributes like gender, cabin, and survival status.\n",
    "\n",
    "3. **Reading and Handling Text Files**:\n",
    "   - Basic file reading using Python's `open` function with mode 'r' for read-only access, ensuring you don’t accidentally modify the file.\n",
    "   - Importance of closing the file connection after reading, using `file.close()`.\n",
    "   - Best practices like using the context manager (`with` statement) to automatically handle file closing.\n",
    "\n",
    "   - How to display the contents of a file in the console using `print()`.\n",
    "   - Different file access modes, with a mention of mode 'w' for writing to files, though not focused on in this course.\n",
    "4. **Enhanced File Management**:\n",
    "   - Introduction to using context managers for optimal file management, ensuring files are closed post-operations.\n",
    "   - Interactive exercises will include tasks like printing file contents and specific lines, useful for managing large files.\n",
    "\n",
    "5. **Using NumPy for Efficient Data Handling**:\n",
    "   - An introduction to the Python library NumPy to facilitate the import and management of numerical data from flat files.\n",
    "\n",
    "These points provide a comprehensive overview of the necessary skills for importing and managing various data file types using Python, focusing on practical methods and best practices."
   ]
  },
  {
   "cell_type": "markdown",
   "metadata": {},
   "source": [
    "#  Dealing with flat files"
   ]
  },
  {
   "cell_type": "markdown",
   "metadata": {},
   "source": [
    "## 1- Reading a text file"
   ]
  },
  {
   "cell_type": "code",
   "execution_count": 2,
   "metadata": {},
   "outputs": [],
   "source": [
    "file_name= \"sample.txt\"\n",
    "# file= open(file_name, mode=\"r\")\n",
    "file= open(file_name, \"r\")\n",
    "txt= file.read()"
   ]
  },
  {
   "cell_type": "code",
   "execution_count": 3,
   "metadata": {},
   "outputs": [],
   "source": [
    "file.close()"
   ]
  },
  {
   "cell_type": "code",
   "execution_count": 4,
   "metadata": {},
   "outputs": [
    {
     "data": {
      "text/plain": [
       "''"
      ]
     },
     "execution_count": 4,
     "metadata": {},
     "output_type": "execute_result"
    }
   ],
   "source": [
    "txt"
   ]
  },
  {
   "cell_type": "code",
   "execution_count": 5,
   "metadata": {},
   "outputs": [
    {
     "name": "stdout",
     "output_type": "stream",
     "text": [
      "\n"
     ]
    }
   ],
   "source": [
    "print(txt)"
   ]
  },
  {
   "cell_type": "markdown",
   "metadata": {},
   "source": [
    "# Writing to any file"
   ]
  },
  {
   "cell_type": "code",
   "execution_count": 6,
   "metadata": {},
   "outputs": [],
   "source": [
    "file_name= \"sample.txt\"\n",
    "file = open(file_name, mode='w')\n",
    "file.close()"
   ]
  },
  {
   "cell_type": "markdown",
   "metadata": {},
   "source": [
    "# Context manager with"
   ]
  },
  {
   "cell_type": "code",
   "execution_count": 7,
   "metadata": {},
   "outputs": [
    {
     "name": "stdout",
     "output_type": "stream",
     "text": [
      "\n"
     ]
    }
   ],
   "source": [
    "with open('sample.txt', 'r') as file:\n",
    "    print(file.read())"
   ]
  },
  {
   "cell_type": "markdown",
   "metadata": {},
   "source": [
    "**Practice**\n",
    "\n",
    "-   Open the txt file as read-only.\n",
    "-   Print the contents.\n",
    "-   Check whether the file is closed.\n",
    "-   Close the file.\n",
    "-   Check again that the file is closed."
   ]
  },
  {
   "cell_type": "code",
   "execution_count": 8,
   "metadata": {},
   "outputs": [
    {
     "name": "stdout",
     "output_type": "stream",
     "text": [
      "\n",
      "False\n",
      "True\n"
     ]
    }
   ],
   "source": [
    "# Open a file: file\n",
    "file = open(\"sample.txt\", mode=\"r\")\n",
    "\n",
    "# Print it\n",
    "print(file.read())\n",
    "\n",
    "# Check whether file is closed\n",
    "print(file.closed)\n",
    "\n",
    "# Close file\n",
    "\n",
    "file.close()\n",
    "# Check whether file is closed\n",
    "\n",
    "print(file.closed)"
   ]
  },
  {
   "cell_type": "markdown",
   "metadata": {},
   "source": [
    "### Magic commands"
   ]
  },
  {
   "cell_type": "code",
   "execution_count": 9,
   "metadata": {},
   "outputs": [
    {
     "name": "stderr",
     "output_type": "stream",
     "text": [
      "'ls' is not recognized as an internal or external command,\n",
      "operable program or batch file.\n"
     ]
    }
   ],
   "source": [
    "! ls"
   ]
  },
  {
   "cell_type": "markdown",
   "metadata": {},
   "source": [
    "### Importing text files linewise"
   ]
  },
  {
   "cell_type": "markdown",
   "metadata": {},
   "source": [
    "# Zen of Python"
   ]
  },
  {
   "cell_type": "code",
   "execution_count": 10,
   "metadata": {},
   "outputs": [
    {
     "name": "stdout",
     "output_type": "stream",
     "text": [
      "The Zen of Python, by Tim Peters\n",
      "\n",
      "Beautiful is better than ugly.\n",
      "Explicit is better than implicit.\n",
      "Simple is better than complex.\n",
      "Complex is better than complicated.\n",
      "Flat is better than nested.\n",
      "Sparse is better than dense.\n",
      "Readability counts.\n",
      "Special cases aren't special enough to break the rules.\n",
      "Although practicality beats purity.\n",
      "Errors should never pass silently.\n",
      "Unless explicitly silenced.\n",
      "In the face of ambiguity, refuse the temptation to guess.\n",
      "There should be one-- and preferably only one --obvious way to do it.\n",
      "Although that way may not be obvious at first unless you're Dutch.\n",
      "Now is better than never.\n",
      "Although never is often better than *right* now.\n",
      "If the implementation is hard to explain, it's a bad idea.\n",
      "If the implementation is easy to explain, it may be a good idea.\n",
      "Namespaces are one honking great idea -- let's do more of those!\n"
     ]
    }
   ],
   "source": [
    "import this"
   ]
  },
  {
   "cell_type": "markdown",
   "metadata": {},
   "source": [
    "# Importing Data with NumPy\n",
    "\n",
    "-   NumPy is essential for numerical data handling in Python.\n",
    "-   Use `loadtxt()` or `genfromtxt()` for importing numerical datasets, like MNIST\n"
   ]
  },
  {
   "cell_type": "code",
   "execution_count": 11,
   "metadata": {},
   "outputs": [],
   "source": [
    "import numpy as np"
   ]
  },
  {
   "cell_type": "code",
   "execution_count": 12,
   "metadata": {},
   "outputs": [],
   "source": [
    "data = np.loadtxt('mnist.txt', delimiter=',')"
   ]
  },
  {
   "cell_type": "markdown",
   "metadata": {},
   "source": [
    "data"
   ]
  },
  {
   "cell_type": "code",
   "execution_count": 13,
   "metadata": {},
   "outputs": [
    {
     "data": {
      "text/plain": [
       "array([[1., 0., 0., ..., 0., 0., 0.],\n",
       "       [0., 0., 0., ..., 0., 0., 0.],\n",
       "       [1., 0., 0., ..., 0., 0., 0.],\n",
       "       ...,\n",
       "       [2., 0., 0., ..., 0., 0., 0.],\n",
       "       [0., 0., 0., ..., 0., 0., 0.],\n",
       "       [5., 0., 0., ..., 0., 0., 0.]])"
      ]
     },
     "execution_count": 13,
     "metadata": {},
     "output_type": "execute_result"
    }
   ],
   "source": [
    "data"
   ]
  },
  {
   "cell_type": "markdown",
   "metadata": {},
   "source": [
    "# Introduction to Importing Flat Files with NumPy\n",
    "- Brief overview of opening text files using Python's built-in `open` function.\n",
    "- Introduction to using NumPy for importing numerical data into numpy arrays.\n",
    "- Benefits of using numpy arrays: efficiency, speed, and clean data handling.\n",
    "\n",
    "# Why Use NumPy?\n",
    "- NumPy arrays as the Python standard for numerical data storage.\n",
    "- Importance for other Python packages, like scikit-learn.\n",
    "- Built-in functions in NumPy like `loadtxt` and `genfromtxt` facilitate efficient data import.\n",
    "\n",
    "# Basic Import with NumPy\n",
    "- How to import NumPy: `import numpy as np`\n",
    "- Using `np.loadtxt` to load flat files: requires filename and delimiter.\n",
    "- Setting the delimiter: Default is whitespace, often needs to be specified.\n",
    "\n",
    "# Customizing NumPy Import\n",
    "- Optional parameters to better control data import:\n",
    "  - `skiprows` to skip header rows, e.g., `skiprows=1`.\n",
    "  - `usecols` to specify which columns to import, e.g., `usecols=[0, 2]`.\n",
    "\n",
    "# Handling Different DataTypes\n",
    "- Using `dtype` parameter to specify data types, e.g., `dtype='str'` for importing all strings.\n",
    "- Challenges with mixed data types in flat files.\n",
    "- Example of issues: Importing complex datasets like the Titanic dataset with both floats and strings.\n",
    "\n"
   ]
  },
  {
   "cell_type": "markdown",
   "metadata": {},
   "source": [
    "# Importing Data with Pandas\n",
    "\n",
    "Pandas provides a powerful DataFrame object, which is ideal for handling labeled data with columns of potentially different types. Here’s how to import data using pandas:\n",
    "\n",
    "```\n",
    "import pandas as pd\n",
    "data = pd.read_csv('titanic.csv')"
   ]
  },
  {
   "cell_type": "markdown",
   "metadata": {},
   "source": [
    "# Flat Files in Practice\n",
    "\n",
    "Flat files like `.csv` are widely used for simple and straightforward data storage. They represent data in rows and columns, making them easy to process and analyze."
   ]
  },
  {
   "cell_type": "code",
   "execution_count": null,
   "metadata": {},
   "outputs": [],
   "source": []
  },
  {
   "cell_type": "markdown",
   "metadata": {},
   "source": [
    "**Why does to identify type syntax is written as # Print datatype of digits**\n",
    "**print(type(digits)) and not like this: print(digits.type()).**\n",
    " \n",
    " The way types are identified in Python reflects its design philosophy and structural decisions. In Python, the syntax `print(type(digits))` is used to determine the type of an object like `digits` for a few key reasons:\n",
    "\n",
    "1. **Built-in `type()` Function**: Python uses the built-in function `type()` to return the type of an object. The syntax `type(object)` is consistent with other built-in functions like `len()` for length and `id()` for identity, which also follow the pattern of `function(argument)`. This consistency makes Python intuitive and predictable.\n",
    "\n",
    "2. **Separation of Data and Operations**: In Python, types are not bound as methods to the objects. This design decision means that objects like integers, strings, or lists do not carry their type-checking methods. Instead, such functionalities are implemented through external functions (like `type()`) or in specific methods bound to all objects (like `__class__`). This separation helps keep objects lightweight and minimizes redundancy in method definitions across different types.\n",
    "\n",
    "3. **Python’s Dynamic Typing**: Python is a dynamically typed language, meaning that the type of a variable is determined at runtime. This dynamic nature is why a separate function like `type()` is more suitable. It can be applied to any variable at any point in its lifecycle, regardless of its current type, enhancing flexibility.\n",
    "\n",
    "4. **Object-Oriented Approach**: The syntax `print(digits.type())` implies that `type` would be a method specific to the `digits` object. However, in Python, not every object needs to define its own method to reveal its type; instead, the universal `type()` function queries an object for its type. This approach adheres to Python's philosophy of simple, readable code that can be universally applied.\n",
    "\n",
    "In essence, `type(object)` as a function call is an example of Python's approach to providing utilities that are general and can be used across all types of objects, making the language easy to learn and use while maintaining a clear and consistent syntax."
   ]
  },
  {
   "cell_type": "markdown",
   "metadata": {},
   "source": []
  },
  {
   "cell_type": "markdown",
   "metadata": {},
   "source": [
    "-   Complete the first call to np.loadtxt() by passing file as the first argument.\n",
    "-   Execute print(data[0]) to print the first element of data.\n",
    "-   Complete the second call to np.loadtxt(). The file you're importing is tab-delimited, the datatype is float, and you want to skip the first row.\n",
    "-   Print the 10th element of data_float by completing the print() command. Be guided by the previous print() call.\n",
    "-   Execute the rest of the code to visualize the data."
   ]
  },
  {
   "cell_type": "code",
   "execution_count": 14,
   "metadata": {},
   "outputs": [],
   "source": [
    "import matplotlib.pyplot as plt"
   ]
  },
  {
   "cell_type": "code",
   "execution_count": 15,
   "metadata": {},
   "outputs": [
    {
     "ename": "SyntaxError",
     "evalue": "invalid syntax (2895674036.py, line 5)",
     "output_type": "error",
     "traceback": [
      "\u001b[1;36m  Cell \u001b[1;32mIn[15], line 5\u001b[1;36m\u001b[0m\n\u001b[1;33m    data =\u001b[0m\n\u001b[1;37m           ^\u001b[0m\n\u001b[1;31mSyntaxError\u001b[0m\u001b[1;31m:\u001b[0m invalid syntax\n"
     ]
    }
   ],
   "source": [
    "# Assign filename: file\n",
    "file = 'seaslug.txt'\n",
    "\n",
    "# Import file: data using np_load\n",
    "data = \n",
    "\n",
    "# Print the first element of data\n",
    "print(data[0])\n",
    "\n",
    "# Import data as floats and skip the first row: data_float\n",
    "data_float = \n",
    "\n",
    "# Print the 10th element of data_float\n",
    "print(____)\n",
    "\n",
    "# Plot a scatterplot of the data\n",
    "plt.scatter(data_float[:, 0], data_float[:, 1])\n",
    "plt.xlabel('time (min.)')\n",
    "plt.ylabel('percentage of larvae')\n",
    "plt.show()\n",
    "\n",
    "#  **`plt.scatter(data_float[:, 0], data_float[:, 1])`**:\n",
    "# - `data_float[:, 0]`: This part of the code is indexing a multidimensional array named `data_float`. The `[:, 0]` part means \"select all rows from the first column\". This is likely the x-axis data for the scatterplot.\n",
    "# - `data_float[:, 1]`: Similarly, this indexes the second column of the `data_float` array, selecting all rows from this column. This represents the y-axis data for the scatterplot.\n",
    "\n",
    "# The code essentially takes a dataset (`data_float`) which appears to be in the form of a 2D array, and plots the first column of the array against the second column as points in a scatterplot. Each point in the scatterplot represents one row of the dataset, with its respective values from the first and second columns determining its position on the x-axis and y-axis, respectively.\n",
    "\n"
   ]
  },
  {
   "cell_type": "markdown",
   "metadata": {},
   "source": [
    "# Working with mixed datatypes\n",
    "Much of the time you will need to import datasets which have different datatypes in different columns; one column may contain strings and another floats, for example. The function `np.loadtxt()` will freak at this. There is another function, `np.genfromtxt()`, which can handle such structures. If we pass `dtype=None` to it, it will figure out what types each column should be.\n",
    "\n",
    "-   Import 'titanic.csv' using the function np.genfromtxt()\n",
    "-   print the entire column with the name Survived. What are the last 4 values of this column?"
   ]
  },
  {
   "cell_type": "code",
   "execution_count": null,
   "metadata": {},
   "outputs": [
    {
     "name": "stderr",
     "output_type": "stream",
     "text": [
      "C:\\Users\\DELL\\AppData\\Local\\Temp\\ipykernel_22604\\3771359666.py:1: VisibleDeprecationWarning: Reading unicode strings without specifying the encoding argument is deprecated. Set the encoding, use None for the system default.\n",
      "  data = np.genfromtxt('titanic.csv', delimiter=\",\", names=True, dtype=None)\n"
     ]
    },
    {
     "data": {
      "text/plain": [
       "array([1, 0, 1, 0])"
      ]
     },
     "execution_count": 25,
     "metadata": {},
     "output_type": "execute_result"
    }
   ],
   "source": [
    "data = \n"
   ]
  },
  {
   "cell_type": "markdown",
   "metadata": {},
   "source": [
    "###  There is also another function `np.recfromcsv()` that behaves similarly to np.genfromtxt(), except that its default dtype is None\n",
    "\n",
    "-   Import titanic.csv using the function np.recfromcsv() and assign it to the variable, d. You'll only need to pass file to it because it has the defaults delimiter=',' and names=True in addition to dtype=None!\n",
    "-   Run the remaining code to print the first three entries of the resulting array d."
   ]
  },
  {
   "cell_type": "code",
   "execution_count": null,
   "metadata": {},
   "outputs": [
    {
     "name": "stdout",
     "output_type": "stream",
     "text": [
      "[(1, 0, 3, b'male', 22., 1, 0, b'A/5 21171',  7.25  , b'', b'S')\n",
      " (2, 1, 1, b'female', 38., 1, 0, b'PC 17599', 71.2833, b'C85', b'C')\n",
      " (3, 1, 3, b'female', 26., 0, 0, b'STON/O2. 3101282',  7.925 , b'', b'S')]\n"
     ]
    },
    {
     "name": "stderr",
     "output_type": "stream",
     "text": [
      "c:\\Users\\DELL\\AppData\\Local\\Programs\\Python\\Python312\\Lib\\site-packages\\numpy\\lib\\npyio.py:2539: VisibleDeprecationWarning: Reading unicode strings without specifying the encoding argument is deprecated. Set the encoding, use None for the system default.\n",
      "  output = genfromtxt(fname, **kwargs)\n"
     ]
    }
   ],
   "source": [
    "# Assign the filename: file\n",
    "file = 'titanic.csv'\n",
    "\n",
    "# Import file using np.recfromcsv: d\n",
    "d=np.recfromcsv(file)\n",
    "\n",
    "# Print out first three entries of d\n",
    "print(d[:3])\n"
   ]
  },
  {
   "cell_type": "markdown",
   "metadata": {},
   "source": [
    "# R Vs Pandas\n",
    "\n",
    "Hadley Wickham's tweet succinctly highlights the conceptual differences between a matrix and a data frame, two common data structures in programming, particularly in R, which he has extensively contributed to with packages like `ggplot2` and `dplyr`.\n",
    "\n",
    "1. **Matrix**: A matrix is a two-dimensional array in which each element has the same type. Matrices are generally used for numerical data that suits mathematical operations. The rows and columns in a matrix often do not have intrinsic meanings beyond their position and are used primarily for organizing the data in a structured form. For instance, in a matrix representing distances between cities, both rows and columns represent cities, and their intersection represents the distance.\n",
    "\n",
    "2. **Data Frame**: A data frame, on the other hand, is more akin to a dataset in statistics where each column represents a variable (or feature), and each row represents an observation (or record). This structure is more flexible than a matrix because each column in a data frame can contain data of different types (e.g., numeric, character, logical). In this way, a data frame is much closer to how data is structured and used in statistical analysis or data science, where each observation might have several attributes of different types.\n",
    "\n",
    "For example, consider a data frame of patient data where each row is a patient, and each column might represent different variables like age (numeric), gender (categorical), and diagnosis (textual).\n",
    "\n",
    "This distinction is crucial for data analysis because it affects how one manipulates and analyses the data. Data frames are typically more suitable for most statistical analysis tasks because they naturally accommodate datasets with a variety of data types and a clear distinction between different variables (columns) and different observations (rows).\n",
    "\n",
    "| Feature           | Matrix                          | Data Frame                      |\n",
    "|-------------------|---------------------------------|---------------------------------|\n",
    "| **Dimensions**    | 2-dimensional                   | 2-dimensional                   |\n",
    "| **Data Type**     | Homogeneous (all elements of the same type) | Heterogeneous (elements can be of different types) |\n",
    "| **Structure**     | Rectangular grid, typically used for numerical data | Collection of vectors of equal length, ideal for datasets |\n",
    "| **Usage**         | Suitable for mathematical operations like matrix multiplication | Suitable for statistical analysis and data manipulation |\n",
    "| **Column Types**  | Not applicable (only one type allowed) | Each column can have a different type (numeric, character, logical, etc.) |\n",
    "| **Row Meaning**   | Rows and columns are interchangeable; often represent dimensions in mathematical contexts | Rows represent individual observations or records |\n",
    "| **Column Meaning**| Columns are typically just another dimension, similar to rows | Columns represent variables or features of the data |\n"
   ]
  },
  {
   "attachments": {
    "image.png": {
     "image/png": "[encoded data removed]"
    }
   },
   "cell_type": "markdown",
   "metadata": {},
   "source": [
    "![image.png](attachment:image.png)"
   ]
  },
  {
   "cell_type": "markdown",
   "metadata": {},
   "source": [
    "1. **Vector**: A vector is a one-dimensional array, shown as a vertical column of elements. It's the simplest form of data storage in this context, holding elements of the same type (e.g., all numbers or all strings).\n",
    "\n",
    "2. **Matrix**: Next to the vector, the matrix is shown as a two-dimensional grid of elements. In a matrix, all elements must be of the same type. It is used for operations where data needs to be structured in rows and columns (e.g., mathematical matrix operations).\n",
    "\n",
    "3. **Array**: This is represented by a three-dimensional block in the image, highlighting its capability to store multi-dimensional data. Like matrices, arrays can hold homogeneous data types but can extend into more than two dimensions.\n",
    "\n",
    "4. **Data Frame**: This is visualized as a two-dimensional grid, similar to a matrix. However, a key difference, not depicted in the image but critical in practice, is that each column in a data frame can hold different types of data (e.g., one column could be integers, another floats, and another strings). This structure makes data frames particularly useful for statistical analysis and handling real-world data sets.\n",
    "\n",
    "5. **List**: The list is shown with a bullet point format, suggesting its ability to hold different types of elements, including vectors, matrices, arrays, data frames, or even other lists. Lists are very flexible and can be considered as a collection of elements organized under one variable.\n",
    "\n",
    "Each data structure offers different advantages and limitations, making them suitable for various programming and data handling tasks. The image provides a visual summary of how each structure organizes its content, from simple to more complex arrangements."
   ]
  },
  {
   "cell_type": "markdown",
   "metadata": {},
   "source": [
    "| Aspect                  | Data Wrangling                                         | Data Preprocessing                                       |\n",
    "|-------------------------|--------------------------------------------------------|----------------------------------------------------------|\n",
    "| **Purpose**             | To transform and map raw data from one format to another, making it more suitable for analysis. | To prepare data for analysis by cleaning and formatting it, often through automated processing. |\n",
    "| **Focus**               | Cleaning and unifying messy and complex data sets for easy access and analysis. | Preparing data specifically for machine learning and statistical models, ensuring compatibility and optimal performance. |\n",
    "| **Activities**          | Merging multiple data sources, handling missing values, correcting inconsistencies, reshaping data formats. | Scaling, normalization, feature extraction, and encoding categorical variables. |\n",
    "| **Tools**               | SQL, pandas in Python, dplyr in R.                     | Scikit-learn in Python, caret in R, preprocessing libraries. |\n",
    "| **Outcome**             | Cleaned and structured data set ready for any kind of detailed analysis. | Data specifically formatted to meet the requirements of algorithms used in machine learning and statistical modeling. |\n",
    "| **Usage in Workflow**   | Often the initial step in data analysis after data collection. | Typically follows general data cleaning and is more narrowly focused on preparing data for specific analytical methods. |\n"
   ]
  },
  {
   "cell_type": "markdown",
   "metadata": {},
   "source": [
    "# Customizing your pandas import \n",
    "### Importing file with Nan and tab delimited\n",
    "\n",
    "-   Complete the sep (the pandas version of delim), comment and na_values arguments of pd.read_csv()\n",
    "\n",
    "-   comment takes characters that comments occur after in the file, which in this case is '#'. \n",
    "\n",
    "-   na_values takes a list of strings to recognize as NA/NaN, in this case the string 'Nothing'.\n",
    "\n",
    "-   Print the head of the resulting DataFrame and plot the histogram of the 'Age' of passengers aboard the Titanic."
   ]
  },
  {
   "cell_type": "code",
   "execution_count": null,
   "metadata": {},
   "outputs": [
    {
     "name": "stdout",
     "output_type": "stream",
     "text": [
      "   PassengerId  Survived  Pclass     Sex   Age  SibSp  Parch     Ticket  \\\n",
      "0            1       0.0       3    male   NaN      1      0  A/5 21171   \n",
      "1            2       1.0       1     NaN  38.0      1      0   PC 17599   \n",
      "2            3       NaN       3  female  26.0      0      0        NaN   \n",
      "3            4       NaN       1     NaN  35.0      1      0     113803   \n",
      "4            5       0.0       3    male  35.0      0      0        NaN   \n",
      "5            6       0.0       3    male   NaN      0      0     330877   \n",
      "6            7       0.0       1     NaN  54.0      0      0      17463   \n",
      "7            8       0.0       3    male   2.0      3      1     349909   \n",
      "8            9       1.0       3  female  27.0      0      2     347742   \n",
      "9           10       1.0       2  female  14.0      1      0     237736   \n",
      "\n",
      "      Fare Cabin Embarked  \n",
      "0   7.2500   NaN        S  \n",
      "1  71.2833   C85        C  \n",
      "2   7.9250   NaN       S   \n",
      "3  53.1000  C123        S  \n",
      "4   8.0500   NaN        S  \n",
      "5   8.4583   NaN       Q   \n",
      "6  51.8625   E46        S  \n",
      "7  21.0750   NaN        S  \n",
      "8  11.1333   NaN        S  \n",
      "9  30.0708   NaN       C   \n"
     ]
    },
    {
     "data": {
      "image/png": "[encoded data removed]",
      "text/plain": [
       "<Figure size 640x480 with 1 Axes>"
      ]
     },
     "metadata": {},
     "output_type": "display_data"
    }
   ],
   "source": [
    "# Import matplotlib.pyplot as plt\n",
    "import matplotlib.pyplot as plt\n",
    "import pandas as pd\n",
    "# Assign filename: file\n",
    "file = 'titanic corrupt.txt'\n",
    "\n",
    "# Import file: data\n",
    "data = pd.read_csv(file, sep=\"\\t\", comment=\"#\", na_values=\"Nothing\")\n",
    "\n",
    "# Print the head of the DataFrame\n",
    "print(data.head(10))\n",
    "\n",
    "# Plot 'Age' variable in a histogram\n",
    "pd.DataFrame.hist(data[['Age']])\n",
    "plt.xlabel('Age (years)')\n",
    "plt.ylabel('count')\n",
    "plt.show()\n"
   ]
  },
  {
   "cell_type": "markdown",
   "metadata": {},
   "source": [
    "Pickled files are a way of serializing and deserializing Python object structures into a byte stream, allowing you to save Python objects to a file and load them back into your Python program. \n",
    "\n",
    "## Pickled Files in Python\n",
    "\n",
    "### What is Pickling?\n",
    "\n",
    "**Pickling** is the process by which Python objects are converted into a byte stream, and **unpickling** is the reverse process, where the byte stream (from a binary file or bytes-like object) is converted back into Python objects. Pickling is done using the `pickle` module included with Python.\n",
    "\n",
    "### Use Cases for Pickling\n",
    "\n",
    "- **Saving program state**: When you need to pause a program or shut it down and later resume exactly where it left off.\n",
    "- **Data Serialization**: Easily transferring data between different Python programs or instances.\n",
    "\n",
    "### How to Use the `pickle` Module\n",
    "\n",
    "1. **Import the Module**:\n",
    "   ```python\n",
    "   import pickle\n",
    "   ```\n",
    "\n",
    "2. **Pickling an Object**:\n",
    "   ```python\n",
    "   with open('filename.pkl', 'wb') as file:\n",
    "       pickle.dump(your_object, file)\n",
    "   ```\n",
    "\n",
    "3. **Unpickling an Object**:\n",
    "   ```python\n",
    "   with open('filename.pkl', 'rb') as file:\n",
    "       your_object = pickle.load(file)\n",
    "   ```\n",
    "\n",
    "### Important Considerations\n",
    "\n",
    "- **Security**: Never unpickle data received from an untrusted or unauthenticated source. Unpickling can execute arbitrary code.\n",
    "- **Python Specific**: Pickled files are not guaranteed to be cross-language; they are typically only useful for Python programs.\n",
    "\n",
    "### Limitations\n",
    "\n",
    "- **Compatibility Issues**: Objects pickled with one version of Python may not unpickle correctly with another Python version.\n",
    "- **Efficiency**: For large data sets, other serialization formats like JSON or CSV might be more efficient or appropriate, depending on the context.\n",
    "```"
   ]
  },
  {
   "cell_type": "markdown",
   "metadata": {},
   "source": [
    ">   file.xlsx is not a flat because it is a spreadsheet consisting of many sheets, not a single table.\n",
    "\n",
    "No, spreadsheets are not typically considered flat files, although they are often used in contexts similar to flat files. Here’s a breakdown of the key differences:\n",
    "\n",
    "### **Flat Files**\n",
    "Flat files are simple text files that contain records (rows) of data. Each record typically consists of fields (columns) that are delimited by a specific character, such as a comma (CSV file) or tab (TSV file). Here are some characteristics of flat files:\n",
    "- **Data Homogeneity**: All records in a flat file typically follow the same format.\n",
    "- **No Structural Metadata**: Flat files generally do not contain any metadata about the structure of the data itself, like data types or relations between fields.\n",
    "- **Simple**: They are easy to read and write by many programs but are limited in functionality.\n",
    "\n",
    "### **Spreadsheets**\n",
    "Spreadsheets, like those created in Microsoft Excel or Google Sheets, are more complex:\n",
    "- **Support for Multiple Data Types**: Spreadsheets can handle different data types within the cells.\n",
    "- **Embedded Formulas and Functions**: They can contain formulas, functions, and references between cells.\n",
    "- **Structural and Formatting Features**: Spreadsheets support cell formatting (e.g., colors, fonts), cell merging, and other visual layout features.\n",
    "- **Multiple Sheets**: A single spreadsheet file can contain multiple sheets, each with its own set of data and configurations.\n",
    "\n",
    "### **Why Spreadsheets Are Not Flat Files**\n",
    "Spreadsheets often go beyond simple text data storage by offering features that support complex data manipulation, presentation, and interactivity that flat files do not provide. While you can save a spreadsheet in a format like CSV, doing so strips away all but the simplest text and number data, converting it into a flat file format. However, the original spreadsheet before saving to CSV contains much more information and functionality than a flat file could support."
   ]
  },
  {
   "cell_type": "markdown",
   "metadata": {},
   "source": [
    "# Pickle"
   ]
  },
  {
   "cell_type": "markdown",
   "metadata": {},
   "source": [
    "-   Import the pickle package.\n",
    "-   Complete the second argument of open() so that it is read only for a binary file. This argument will be -   a string of two letters, one signifying 'read only', the other 'binary'.\n",
    "-   Pass the correct argument to pickle.load(); it should use the variable that is bound to open.\n",
    "-   Print the data, d.\n",
    "-   Print the datatype of d; take your mind back to your previous use of the function type()."
   ]
  },
  {
   "cell_type": "code",
   "execution_count": null,
   "metadata": {},
   "outputs": [
    {
     "name": "stdout",
     "output_type": "stream",
     "text": [
      "      id  sepal_length  sepal_width  petal_length  petal_width    species\n",
      "0      1           5.1          3.5           1.4          0.2     setosa\n",
      "1      2           4.9          3.0           1.4          0.2     setosa\n",
      "2      3           4.7          3.2           1.3          0.2     setosa\n",
      "3      4           4.6          3.1           1.5          0.2     setosa\n",
      "4      5           5.0          3.6           1.4          0.2     setosa\n",
      "..   ...           ...          ...           ...          ...        ...\n",
      "145  146           6.7          3.0           5.2          2.3  virginica\n",
      "146  147           6.3          2.5           5.0          1.9  virginica\n",
      "147  148           6.5          3.0           5.2          2.0  virginica\n",
      "148  149           6.2          3.4           5.4          2.3  virginica\n",
      "149  150           5.9          3.0           5.1          1.8  virginica\n",
      "\n",
      "[150 rows x 6 columns]\n"
     ]
    }
   ],
   "source": [
    "import pickle\n",
    "with open(\"iris.pkl\", \"rb\") as iris:\n",
    "    d = pickle.load(iris)\n",
    "print(d)\n"
   ]
  },
  {
   "cell_type": "code",
   "execution_count": null,
   "metadata": {},
   "outputs": [
    {
     "name": "stdout",
     "output_type": "stream",
     "text": [
      "      id  sepal_length  sepal_width  petal_length  petal_width    species\n",
      "0      1           5.1          3.5           1.4          0.2     setosa\n",
      "1      2           4.9          3.0           1.4          0.2     setosa\n",
      "2      3           4.7          3.2           1.3          0.2     setosa\n",
      "3      4           4.6          3.1           1.5          0.2     setosa\n",
      "4      5           5.0          3.6           1.4          0.2     setosa\n",
      "..   ...           ...          ...           ...          ...        ...\n",
      "145  146           6.7          3.0           5.2          2.3  virginica\n",
      "146  147           6.3          2.5           5.0          1.9  virginica\n",
      "147  148           6.5          3.0           5.2          2.0  virginica\n",
      "148  149           6.2          3.4           5.4          2.3  virginica\n",
      "149  150           5.9          3.0           5.1          1.8  virginica\n",
      "\n",
      "[150 rows x 6 columns]\n",
      "<class 'pandas.core.frame.DataFrame'>\n"
     ]
    }
   ],
   "source": [
    "# Import pickle package\n",
    "import pickle\n",
    "\n",
    "# Open pickle file and load data: d\n",
    "with open('iris.pkl', \"rb\") as file:\n",
    "    d = pickle.load(file)\n",
    "\n",
    "# Print d\n",
    "print(d)\n",
    "\n",
    "# Print datatype of d\n",
    "print(type(d))"
   ]
  },
  {
   "cell_type": "markdown",
   "metadata": {},
   "source": [
    "## Importing SAS files\n",
    "\n",
    "-   You have file 'sales.sas7bdat', load its contents to a DataFrame df_sas, using the method to_data_frame() on the object file.\n",
    "-   Print the head of the DataFrame df_sas.\n",
    "-   Execute your entire script to produce a histogram plot!"
   ]
  },
  {
   "cell_type": "code",
   "execution_count": null,
   "metadata": {},
   "outputs": [
    {
     "name": "stdout",
     "output_type": "stream",
     "text": [
      "     YEAR     P           S\n",
      "0  1950.0  12.9  181.899994\n",
      "1  1951.0  11.9  245.000000\n",
      "2  1952.0  10.7  250.199997\n",
      "3  1953.0  11.3  265.899994\n",
      "4  1954.0  11.2  248.500000\n"
     ]
    },
    {
     "data": {
      "image/png": "[encoded data removed]",
      "text/plain": [
       "<Figure size 640x480 with 1 Axes>"
      ]
     },
     "metadata": {},
     "output_type": "display_data"
    }
   ],
   "source": [
    "# Import sas7bdat package\n",
    "import pandas as pd\n",
    "import matplotlib.pyplot as plt\n",
    "# ! pip install sas7bdat\n",
    "\n",
    "from sas7bdat import SAS7BDAT\n",
    "\n",
    "with SAS7BDAT(\"sales.sas7bdat\") as file:\n",
    "    df_sas= file.to_data_frame() # Save file to a DataFrame: df_sas\n",
    "\n",
    "# Print head of DataFrame\n",
    "print(df_sas.head())\n",
    "\n",
    "# Plot histogram of DataFrame features (pandas and pyplot already imported)\n",
    "pd.DataFrame.hist(df_sas[['P']])\n",
    "plt.ylabel('count')\n",
    "plt.show()"
   ]
  },
  {
   "cell_type": "markdown",
   "metadata": {},
   "source": [
    "## HDF5 files\n",
    "\n",
    "### Using h5py to import HDF5 files\n",
    "\n",
    "LIGO data plus documentation and tutorials [link](https://gwosc.org/events/GW150914/). \n",
    "\n",
    "Tutorial on Signal Processing [link](https://gwosc.org/GW150914data/LOSC_Event_tutorial_GW150914.html).\n",
    "\n",
    "\n",
    "-   Assign the name of the file to the variable file.\n",
    "-   Load the file as read only into the variable data.\n",
    "-   Print the datatype of data.\n",
    "-   Print the names of the groups in the HDF5 file 'LIGO_data.hdf5'.\n"
   ]
  },
  {
   "cell_type": "code",
   "execution_count": null,
   "metadata": {},
   "outputs": [],
   "source": [
    "# ! pip install h5py\n",
    "import h5py\n",
    "import numpy as np"
   ]
  },
  {
   "cell_type": "code",
   "execution_count": null,
   "metadata": {},
   "outputs": [],
   "source": [
    "file= \"L-L1_LOSC_4_V1-1126259446-32.hdf5\""
   ]
  },
  {
   "cell_type": "code",
   "execution_count": null,
   "metadata": {},
   "outputs": [
    {
     "name": "stdout",
     "output_type": "stream",
     "text": [
      "<class 'h5py._hl.files.File'>\n",
      "meta\n",
      "quality\n",
      "strain\n"
     ]
    }
   ],
   "source": [
    "# Load file: data\n",
    "data = h5py.File(file, \"r\")\n",
    "\n",
    "# Print the datatype of the loaded file\n",
    "\n",
    "print(type(data))\n",
    "\n",
    "# Print the keys of the file\n",
    "for key in data.keys():\n",
    "    print(key)\n"
   ]
  },
  {
   "cell_type": "markdown",
   "metadata": {},
   "source": [
    "## Extracting data from your HDF5 file\n",
    "\n",
    "-   Assign the HDF5 group data['strain'] to group.\n",
    "-   In the for loop, print out the keys of the HDF5 group in group.\n",
    "-   Assign the time series data data['strain']['Strain'] to a NumPy array called strain.\n",
    "-   Set num_samples equal to 10000, the number of time points we wish to sample.\n",
    "-   Execute the rest of the code to produce a plot of the time series data in LIGO_data.hdf5."
   ]
  },
  {
   "cell_type": "code",
   "execution_count": null,
   "metadata": {},
   "outputs": [
    {
     "name": "stdout",
     "output_type": "stream",
     "text": [
      "Strain\n"
     ]
    }
   ],
   "source": [
    "# Get the HDF5 group: group\n",
    "group = data['strain']\n",
    "\n",
    "# Check out keys of group\n",
    "for key in group.keys():\n",
    "    print(key)\n"
   ]
  },
  {
   "cell_type": "code",
   "execution_count": null,
   "metadata": {},
   "outputs": [
    {
     "data": {
      "image/png": "[encoded data removed]",
      "text/plain": [
       "<Figure size 640x480 with 1 Axes>"
      ]
     },
     "metadata": {},
     "output_type": "display_data"
    }
   ],
   "source": [
    "\n",
    "# Set variable equal to time series data: strain\n",
    "strain = np.array(data['strain']['Strain']) \n",
    "\n",
    "# This line extracts a dataset named 'Strain' from the 'strain' group and converts it into a NumPy array. This is the primary data that will be analyzed and plotted.\n",
    "\n",
    "# Set number of time points to sample: num_samples\n",
    "num_samples = 10000\n",
    "\n",
    "# Set time vector\n",
    "time = np.arange(0, 1, 1/num_samples) \n",
    "# This line uses the np.arange function from the NumPy library to create an array called time. \n",
    "# The np.arange function generates values starting from 0 up to (but not including) 1, with a step size of 1/num_samples. \n",
    "# In this case, with num_samples being 10000, the step size is 0.0001. This creates a uniformly spaced time vector with 10000 points over a 1 second interval.\n",
    "\n",
    "# Plot data\n",
    "plt.plot(time, strain[:num_samples]) #This line plots the strain data against the time vector. strain[:num_samples] implies that we are only plotting the first num_samples data points from the strain array. The assumption here is that strain is an array with at least num_samples elements.\n",
    "plt.xlabel('GPS Time (s)')\n",
    "plt.ylabel('strain')\n",
    "plt.show()\n",
    "\n",
    "#To visualize how a certain parameter (in this case, 'strain') changes over time.\n"
   ]
  },
  {
   "cell_type": "code",
   "execution_count": null,
   "metadata": {},
   "outputs": [
    {
     "data": {
      "text/plain": [
       "({'meta': h5py._hl.group.Group,\n",
       "  'meta/Description': h5py._hl.dataset.Dataset,\n",
       "  'meta/DescriptionURL': h5py._hl.dataset.Dataset,\n",
       "  'meta/Detector': h5py._hl.dataset.Dataset,\n",
       "  'meta/Duration': h5py._hl.dataset.Dataset,\n",
       "  'meta/GPSstart': h5py._hl.dataset.Dataset,\n",
       "  'meta/Observatory': h5py._hl.dataset.Dataset,\n",
       "  'meta/Type': h5py._hl.dataset.Dataset,\n",
       "  'meta/UTCstart': h5py._hl.dataset.Dataset,\n",
       "  'quality': h5py._hl.group.Group,\n",
       "  'quality/detail': h5py._hl.group.Group,\n",
       "  'quality/injections': h5py._hl.group.Group,\n",
       "  'quality/injections/InjDescriptions': h5py._hl.dataset.Dataset,\n",
       "  'quality/injections/InjShortnames': h5py._hl.dataset.Dataset,\n",
       "  'quality/injections/Injmask': h5py._hl.dataset.Dataset,\n",
       "  'quality/simple': h5py._hl.group.Group,\n",
       "  'quality/simple/DQDescriptions': h5py._hl.dataset.Dataset,\n",
       "  'quality/simple/DQShortnames': h5py._hl.dataset.Dataset,\n",
       "  'quality/simple/DQmask': h5py._hl.dataset.Dataset,\n",
       "  'strain': h5py._hl.group.Group,\n",
       "  'strain/Strain': h5py._hl.dataset.Dataset},\n",
       " ItemsViewHDF5(<Closed HDF5 group>))"
      ]
     },
     "execution_count": 41,
     "metadata": {},
     "output_type": "execute_result"
    }
   ],
   "source": [
    "import h5py\n",
    "\n",
    "# Open the HDF5 file to inspect its contents\n",
    "file_path = 'L-L1_LOSC_4_V1-1126259446-32.hdf5'\n",
    "with h5py.File(file_path, 'r') as file:\n",
    "    # List all groups and datasets in the file\n",
    "    contents = {}\n",
    "    file.visititems(lambda name, obj: contents.update({name: type(obj)}))\n",
    "    # Get general info about the root\n",
    "    root_info = file[\"/\"].items()\n",
    "\n",
    "contents, root_info\n"
   ]
  },
  {
   "cell_type": "markdown",
   "metadata": {},
   "source": [
    "HDF5 file contains data and metadata grouped primarily under a few categories: meta, quality, and strain. Here’s a breakdown of each and what they might contain:\n",
    "\n",
    "**meta Group:**\n",
    "This group holds metadata about the dataset. It includes:\n",
    "-   Description: A text description of the dataset.\n",
    "-   DescriptionURL: A URL with more information.\n",
    "-   Detector: Information about the detector used.\n",
    "-   Duration: The time duration covered by the data.\n",
    "-   GPSstart: The start time in GPS seconds.\n",
    "-   Observatory: The location of the observatory.\n",
    "-   Type: The type of data or the format.\n",
    "-   UTCstart: The start time in UTC.\n",
    "**quality Group:**\n",
    "Contains data about the quality of the recordings:\n",
    "detail: Further details on data quality.\n",
    "-   injections:\n",
    "-   InjDescriptions: Descriptions of injected signals.\n",
    "-   InjShortnames: Short names for injections.\n",
    "-   Injmask: A mask array indicating where injections are present.\n",
    "simple:\n",
    "-   DQDescriptions: Descriptions of data quality flags.\n",
    "-   DQShortnames: Short names for data quality flags.\n",
    "-   DQmask: A mask array for data quality flags.\n",
    "**strain Group:**\n",
    "Contains the actual data:\n",
    "\n",
    "\n",
    "### Strain:\n",
    "\n",
    "Retrieving the size and shape of the strain/Strain dataset next"
   ]
  },
  {
   "cell_type": "code",
   "execution_count": null,
   "metadata": {},
   "outputs": [
    {
     "data": {
      "text/plain": [
       "((131072,), dtype('<f8'))"
      ]
     },
     "execution_count": 42,
     "metadata": {},
     "output_type": "execute_result"
    }
   ],
   "source": [
    "# Re-open the HDF5 file and extract detailed information about the 'strain/Strain' dataset\n",
    "with h5py.File(file_path, 'r') as file:\n",
    "    strain_data = file['strain/Strain']\n",
    "    strain_shape = strain_data.shape  # Get the shape of the dataset\n",
    "    strain_dtype = strain_data.dtype  # Get the data type of the dataset\n",
    "\n",
    "strain_shape, strain_dtype\n"
   ]
  },
  {
   "cell_type": "markdown",
   "metadata": {},
   "source": [
    "The dataset strain/Strain within this file contains **131,072 entries**. The data type of these entries is **float64** (double precision floating-point), which is common for precise scientific measurements like strain in gravitational wave detectors."
   ]
  },
  {
   "cell_type": "markdown",
   "metadata": {},
   "source": [
    "As a matter of fact, LIGO's strain data is typically sampled at 4096 Hz or 16384 Hz, meaning it records 4096 or 16384 data points per second respectively. The number of entries in a strain dataset within an HDF5 file can be calculated by multiplying the sampling rate by the duration in seconds of the recording period covered by the file.\n",
    "\n",
    "For example, if you have a file that includes one hour of data sampled at 4096 Hz, the number of entries would be:\n",
    "\n",
    "```\n",
    "Entries = 4096 samples/second × 3600 seconds = 14,745,600 entries for one hour\n",
    "\n",
    "```"
   ]
  },
  {
   "cell_type": "code",
   "execution_count": null,
   "metadata": {},
   "outputs": [],
   "source": []
  },
  {
   "cell_type": "markdown",
   "metadata": {},
   "source": [
    "# Relational Databases"
   ]
  },
  {
   "cell_type": "markdown",
   "metadata": {},
   "source": [
    "-   Import the function create_engine from the module sqlalchemy.\n",
    "-   Create an engine to connect to the SQLite database 'Chinook.sqlite' and assign it to engine.\n",
    "-   Using the method table_names() on the engine engine, assign the table names of 'Chinook.sqlite' to the variable table_names.\n",
    "-   Print the object table_names to the shell."
   ]
  },
  {
   "cell_type": "code",
   "execution_count": null,
   "metadata": {},
   "outputs": [
    {
     "name": "stdout",
     "output_type": "stream",
     "text": [
      "['Album', 'Artist', 'Customer', 'Employee', 'Genre', 'Invoice', 'InvoiceLine', 'MediaType', 'Playlist', 'PlaylistTrack', 'Track']\n"
     ]
    }
   ],
   "source": [
    "# Import necessary module\n",
    "# ! pip install sqlalchemy\n",
    "import pandas as pd\n",
    "# !pip install --upgrade sqlalchemy\n",
    "from sqlalchemy import create_engine, inspect\n",
    "# Create engine: engine\n",
    "engine = create_engine('sqlite:///Chinook.sqlite')\n",
    "\n",
    "# # Save the table names to a list: table_names\n",
    "# table_names = engine.table_names()\n",
    "\n",
    "# # Print the table names to the shell\n",
    "\n",
    "# print(table_names)\n",
    "\n",
    "\n",
    "# Create inspector\n",
    "inspector = inspect(engine)\n",
    "\n",
    "# Get table names from inspector\n",
    "table_names = inspector.get_table_names()\n",
    "\n",
    "# Print the table names\n",
    "print(table_names)\n"
   ]
  },
  {
   "cell_type": "markdown",
   "metadata": {},
   "source": [
    "---\n",
    "\n",
    "-   Execute the SQL query that selects the columns LastName and Title from the Employee table. Store the results in the variable rs.\n",
    "-   Apply the method fetchmany() to rs in order to retrieve 3 of the records. Store them in the DataFrame df.\n",
    "-   Using the rs object, set the DataFrame's column names to the corresponding names of the table columns."
   ]
  },
  {
   "cell_type": "code",
   "execution_count": null,
   "metadata": {},
   "outputs": [
    {
     "name": "stdout",
     "output_type": "stream",
     "text": [
      "3\n",
      "  LastName                Title\n",
      "0    Adams      General Manager\n",
      "1  Edwards        Sales Manager\n",
      "2  Peacock  Sales Support Agent\n"
     ]
    }
   ],
   "source": [
    "# Open engine in context manager\n",
    "# Perform query and save results to DataFrame: df\n",
    "from sqlalchemy import create_engine, text\n",
    "engine= create_engine(\"sqlite:///Chinook.sqlite\")\n",
    "with engine.connect() as con:\n",
    "    query= text(\"SELECT LastName, Title FROM Employee\")\n",
    "    rs = con.execute(query)\n",
    "    df = pd.DataFrame(rs.fetchmany(size=3))\n",
    "    df.columns = rs.keys()\n",
    "\n",
    "# Print the length of the DataFrame df\n",
    "print(len(df))\n",
    "\n",
    "# Print the head of the DataFrame df\n",
    "print(df.head())"
   ]
  },
  {
   "cell_type": "code",
   "execution_count": null,
   "metadata": {},
   "outputs": [],
   "source": [
    "\n",
    "## Import necessary module\n",
    "# # ! pip install sqlalchemy\n",
    "# import pandas as pd\n",
    "# !pip install --upgrade sqlalchemy\n",
    "# from sqlalchemy import create_engine\n",
    "# # Create engine: engine\n",
    "# engine = create_engine('sqlite:///Chinook.sqlite')\n",
    "\n",
    "# # Open engine in context manager\n",
    "# # Perform query and save results to DataFrame: df\n",
    "# with engine.connect() as con:\n",
    "#     rs = con.execute(\"SELECT LastName, Title FROM Employee\")\n",
    "#     df = pd.DataFrame(rs.fetchmany(size=3))\n",
    "#     df.columns = rs.keys()\n",
    "\n",
    "# # Print the length of the DataFrame df\n",
    "# print(len(df))\n",
    "\n",
    "# # Print the head of the DataFrame df\n",
    "# print(df.head())\n",
    "\n",
    "# ! >>>>>>>>>>>>>>>     ObjectNotExecutableError: Not an executable object: 'SELECT LastName, Title FROM Employee'<<<<<<<<<<<<<<<<<<<<<<<<<<<<"
   ]
  },
  {
   "cell_type": "markdown",
   "metadata": {},
   "source": []
  },
  {
   "cell_type": "code",
   "execution_count": null,
   "metadata": {},
   "outputs": [
    {
     "name": "stdout",
     "output_type": "stream",
     "text": [
      "3\n",
      "  LastName                Title\n",
      "0    Adams      General Manager\n",
      "1  Edwards        Sales Manager\n",
      "2  Peacock  Sales Support Agent\n"
     ]
    }
   ],
   "source": [
    "# Import necessary module\n",
    "import pandas as pd\n",
    "import sqlalchemy\n",
    "from sqlalchemy import create_engine, text\n",
    "\n",
    "# # Install or upgrade SQLAlchemy if not already done\n",
    "# !pip install --upgrade sqlalchemy\n",
    "\n",
    "# Create engine: engine\n",
    "engine = create_engine('sqlite:///Chinook.sqlite')\n",
    "\n",
    "# Open engine in context manager\n",
    "# Perform query and save results to DataFrame: df\n",
    "with engine.connect() as con:\n",
    "    query = text(\"SELECT LastName, Title FROM Employee\")\n",
    "    rs = con.execute(query)\n",
    "    df = pd.DataFrame(rs.fetchmany(size=3))\n",
    "    df.columns = rs.keys()\n",
    "\n",
    "# Print the length of the DataFrame df\n",
    "print(len(df))\n",
    "\n",
    "# Print the head of the DataFrame df\n",
    "print(df.head())\n",
    "# By using text() function from SQLAlchemy, we create a TextClause object that represents the SQL query, and then we pass this object to the execute() method. "
   ]
  },
  {
   "cell_type": "markdown",
   "metadata": {},
   "source": [
    "---\n",
    "\n",
    "# Importing flat files from the web\n",
    "\n",
    "-   Import the function urlretrieve from the subpackage urllib.request.\n",
    "-   Assign the URL of the file to the variable url.\n",
    "-   Use the function urlretrieve() to save the file locally as 'winequality-red.csv'.\n",
    "-   Execute the remaining code to load 'winequality-red.csv' in a pandas DataFrame and to print its head to the shell.\n",
    "\n"
   ]
  },
  {
   "cell_type": "code",
   "execution_count": null,
   "metadata": {},
   "outputs": [
    {
     "name": "stdout",
     "output_type": "stream",
     "text": [
      "   fixed acidity  volatile acidity  citric acid  residual sugar  chlorides  \\\n",
      "0            7.4              0.70         0.00             1.9      0.076   \n",
      "1            7.8              0.88         0.00             2.6      0.098   \n",
      "2            7.8              0.76         0.04             2.3      0.092   \n",
      "3           11.2              0.28         0.56             1.9      0.075   \n",
      "4            7.4              0.70         0.00             1.9      0.076   \n",
      "\n",
      "   free sulfur dioxide  total sulfur dioxide  density    pH  sulphates  \\\n",
      "0                 11.0                  34.0   0.9978  3.51       0.56   \n",
      "1                 25.0                  67.0   0.9968  3.20       0.68   \n",
      "2                 15.0                  54.0   0.9970  3.26       0.65   \n",
      "3                 17.0                  60.0   0.9980  3.16       0.58   \n",
      "4                 11.0                  34.0   0.9978  3.51       0.56   \n",
      "\n",
      "   alcohol  quality  \n",
      "0      9.4        5  \n",
      "1      9.8        5  \n",
      "2      9.8        5  \n",
      "3      9.8        6  \n",
      "4      9.4        5  \n"
     ]
    }
   ],
   "source": [
    "# Import package\n",
    "from ____ import ____\n",
    "\n",
    "# Import pandas\n",
    "import pandas as pd\n",
    "\n",
    "# Assign url of file: url\n",
    "url= 'https://assets.datacamp.com/production/course_1606/datasets/winequality-red.csv'\n",
    "\n",
    "# Save file locally\n",
    "\n",
    "\n",
    "# Read file into a DataFrame and print its head\n",
    "df = pd.read_csv('winequality-red.csv', sep=';')\n",
    "print(df.head())"
   ]
  },
  {
   "cell_type": "markdown",
   "metadata": {},
   "source": [
    "# Without saving file"
   ]
  },
  {
   "cell_type": "code",
   "execution_count": null,
   "metadata": {},
   "outputs": [
    {
     "name": "stdout",
     "output_type": "stream",
     "text": [
      "   fixed acidity  volatile acidity  citric acid  residual sugar  chlorides  \\\n",
      "0            7.4              0.70         0.00             1.9      0.076   \n",
      "1            7.8              0.88         0.00             2.6      0.098   \n",
      "2            7.8              0.76         0.04             2.3      0.092   \n",
      "3           11.2              0.28         0.56             1.9      0.075   \n",
      "4            7.4              0.70         0.00             1.9      0.076   \n",
      "\n",
      "   free sulfur dioxide  total sulfur dioxide  density    pH  sulphates  \\\n",
      "0                 11.0                  34.0   0.9978  3.51       0.56   \n",
      "1                 25.0                  67.0   0.9968  3.20       0.68   \n",
      "2                 15.0                  54.0   0.9970  3.26       0.65   \n",
      "3                 17.0                  60.0   0.9980  3.16       0.58   \n",
      "4                 11.0                  34.0   0.9978  3.51       0.56   \n",
      "\n",
      "   alcohol  quality  \n",
      "0      9.4        5  \n",
      "1      9.8        5  \n",
      "2      9.8        5  \n",
      "3      9.8        6  \n",
      "4      9.4        5  \n"
     ]
    }
   ],
   "source": [
    "# Import packages\n",
    "import matplotlib.pyplot as plt\n",
    "import pandas as pd\n",
    "\n",
    "# Assign url of file: url\n",
    "url= 'https://assets.datacamp.com/production/course_1606/datasets/winequality-red.csv'\n",
    "\n",
    "\n",
    "# Read file into a DataFrame: df\n",
    "df= pd.read_csv(url, sep=\";\")\n",
    "\n",
    "# Print the head of the DataFrame\n",
    "print(df.head())"
   ]
  },
  {
   "cell_type": "markdown",
   "metadata": {},
   "source": [
    "# Importing non-flat files from the web\n",
    "\n",
    "Assign the URL of the file to the variable url.\n",
    "Read the file in url into a dictionary xls using pd.read_excel() recalling that, in order to import all sheets you need to pass None to the argument sheet_name.\n",
    "Print the names of the sheets in the Excel spreadsheet; these will be the keys of the dictionary xls.\n",
    "Print the head of the first sheet using the sheet name, not the index of the sheet! The sheet name is '1700'"
   ]
  },
  {
   "cell_type": "code",
   "execution_count": 19,
   "metadata": {},
   "outputs": [
    {
     "name": "stdout",
     "output_type": "stream",
     "text": [
      "dict_keys(['1700', '1900'])\n"
     ]
    }
   ],
   "source": [
    "# Import package\n",
    "import pandas as pd\n",
    "# from urllib.request import urlretrieve\n",
    "\n",
    "# Assign url of file: url\n",
    "\n",
    "url= 'https://assets.datacamp.com/course/importing_data_into_r/latitude.xls'\n",
    "\n",
    "# Read in all sheets of Excel file: xls\n",
    "xls= pd.read_excel(url,sheet_name=None )\n",
    "\n",
    "# xls\n",
    "\n",
    "# Print the sheetnames to the shell\n",
    "print(xls.keys())\n",
    "\n",
    "\n",
    "# # Print the head of the first sheet (using its name, NOT its index)\n",
    "# print(__________)\n"
   ]
  },
  {
   "cell_type": "code",
   "execution_count": null,
   "metadata": {},
   "outputs": [],
   "source": []
  }
 ],
 "metadata": {
  "kernelspec": {
   "display_name": "Python 3",
   "language": "python",
   "name": "python3"
  },
  "language_info": {
   "codemirror_mode": {
    "name": "ipython",
    "version": 3
   },
   "file_extension": ".py",
   "mimetype": "text/x-python",
   "name": "python",
   "nbconvert_exporter": "python",
   "pygments_lexer": "ipython3",
   "version": "3.12.0"
  }
 },
 "nbformat": 4,
 "nbformat_minor": 2
}

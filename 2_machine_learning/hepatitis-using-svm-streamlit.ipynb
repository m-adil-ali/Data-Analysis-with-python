{
 "cells": [
  {
   "cell_type": "markdown",
   "metadata": {
    "papermill": {
     "duration": 0.035688,
     "end_time": "2021-03-23T01:54:07.851182",
     "exception": false,
     "start_time": "2021-03-23T01:54:07.815494",
     "status": "completed"
    },
    "tags": []
   },
   "source": [
    "**Attribute information:**\n",
    "\n",
    "1. **target**: DIE (1), LIVE (2)\n",
    "2. **age**: 10, 20, 30, 40, 50, 60, 70, 80\n",
    "3. **gender**: male (1), female (2)\n",
    "\n",
    "           ------ no = 2,   yes = 1 ------\n",
    "\n",
    "4. **steroid**: no, yes \n",
    "5. **antivirals**: no, yes \n",
    "6. **fatique**: no, yes \n",
    "7. **malaise**: no, yes \n",
    "8. **anorexia**: no, yes \n",
    "9. **liverBig**: no, yes \n",
    "10. **liverFirm**: no, yes \n",
    "11. **spleen**: no, yes \n",
    "12. **spiders**: no, yes\n",
    "13. **ascites**: no, yes \n",
    "14. **varices**: no, yes\n",
    "15. **histology**: no, yes\n",
    "\n",
    "\n",
    "16. **bilirubin**: 0.39, 0.80, 1.20, 2.00, 3.00, 4.00 -- \n",
    "17. **alk**: 33, 80, 120, 160, 200, 250 ---\n",
    "18. **sgot**: 13, 100, 200, 300, 400, 500, ---\n",
    "19. **albu**: 2.1, 3.0, 3.8, 4.5, 5.0, 6.0, --- \n",
    "20. **protime**: 10, 20, 30, 40, 50, 60, 70, 80, 90, --- \n",
    "\n",
    "        NA's are represented with \"?\""
   ]
  },
  {
   "cell_type": "markdown",
   "metadata": {
    "papermill": {
     "duration": 0.032359,
     "end_time": "2021-03-23T01:54:07.916534",
     "exception": false,
     "start_time": "2021-03-23T01:54:07.884175",
     "status": "completed"
    },
    "tags": []
   },
   "source": [
    "## Dataset Reading and Pre-Processing steps"
   ]
  },
  {
   "cell_type": "markdown",
   "metadata": {
    "papermill": {
     "duration": 0.032665,
     "end_time": "2021-03-23T01:54:07.981840",
     "exception": false,
     "start_time": "2021-03-23T01:54:07.949175",
     "status": "completed"
    },
    "tags": []
   },
   "source": [
    "import required libraries"
   ]
  },
  {
   "cell_type": "code",
   "execution_count": 1,
   "metadata": {
    "execution": {
     "iopub.execute_input": "2021-03-23T01:54:08.053827Z",
     "iopub.status.busy": "2021-03-23T01:54:08.053124Z",
     "iopub.status.idle": "2021-03-23T01:54:08.822655Z",
     "shell.execute_reply": "2021-03-23T01:54:08.821132Z"
    },
    "papermill": {
     "duration": 0.807829,
     "end_time": "2021-03-23T01:54:08.822879",
     "exception": false,
     "start_time": "2021-03-23T01:54:08.015050",
     "status": "completed"
    },
    "tags": []
   },
   "outputs": [],
   "source": [
    "\n",
    "import numpy as np\n",
    "import pandas as pd\n",
    "from sklearn.model_selection import train_test_split\n",
    "from sklearn.preprocessing import StandardScaler\n",
    "from sklearn.metrics import confusion_matrix"
   ]
  },
  {
   "cell_type": "code",
   "execution_count": 2,
   "metadata": {
    "execution": {
     "iopub.execute_input": "2021-03-23T01:54:08.895258Z",
     "iopub.status.busy": "2021-03-23T01:54:08.893488Z",
     "iopub.status.idle": "2021-03-23T01:54:08.895857Z",
     "shell.execute_reply": "2021-03-23T01:54:08.896357Z"
    },
    "papermill": {
     "duration": 0.039963,
     "end_time": "2021-03-23T01:54:08.896509",
     "exception": false,
     "start_time": "2021-03-23T01:54:08.856546",
     "status": "completed"
    },
    "tags": []
   },
   "outputs": [],
   "source": [
    "#Code to ignore warnings\n",
    "import warnings\n",
    "warnings.filterwarnings(\"ignore\")"
   ]
  },
  {
   "cell_type": "markdown",
   "metadata": {
    "papermill": {
     "duration": 0.032669,
     "end_time": "2021-03-23T01:54:08.962033",
     "exception": false,
     "start_time": "2021-03-23T01:54:08.929364",
     "status": "completed"
    },
    "tags": []
   },
   "source": [
    "###### 1. Read the HEPATITIS dataset and check the data shapes"
   ]
  },
  {
   "cell_type": "code",
   "execution_count": 3,
   "metadata": {
    "execution": {
     "iopub.execute_input": "2021-03-23T01:54:09.034499Z",
     "iopub.status.busy": "2021-03-23T01:54:09.033945Z",
     "iopub.status.idle": "2021-03-23T01:54:09.046507Z",
     "shell.execute_reply": "2021-03-23T01:54:09.045991Z"
    },
    "papermill": {
     "duration": 0.051653,
     "end_time": "2021-03-23T01:54:09.046619",
     "exception": false,
     "start_time": "2021-03-23T01:54:08.994966",
     "status": "completed"
    },
    "tags": []
   },
   "outputs": [],
   "source": [
    "## Read \"hepatitis.csv\" using pandas\n",
    "# target =  1: Die; 2: Live \n",
    "data = pd.read_csv(\"hepatitis.csv\", na_values=\"?\")"
   ]
  },
  {
   "cell_type": "code",
   "execution_count": 4,
   "metadata": {
    "execution": {
     "iopub.execute_input": "2021-03-23T01:54:09.119790Z",
     "iopub.status.busy": "2021-03-23T01:54:09.119175Z",
     "iopub.status.idle": "2021-03-23T01:54:09.123030Z",
     "shell.execute_reply": "2021-03-23T01:54:09.123426Z"
    },
    "papermill": {
     "duration": 0.043763,
     "end_time": "2021-03-23T01:54:09.123553",
     "exception": false,
     "start_time": "2021-03-23T01:54:09.079790",
     "status": "completed"
    },
    "tags": []
   },
   "outputs": [
    {
     "data": {
      "text/plain": [
       "(155, 21)"
      ]
     },
     "execution_count": 4,
     "metadata": {},
     "output_type": "execute_result"
    }
   ],
   "source": [
    "data.shape"
   ]
  },
  {
   "cell_type": "code",
   "execution_count": 5,
   "metadata": {
    "execution": {
     "iopub.execute_input": "2021-03-23T01:54:09.211573Z",
     "iopub.status.busy": "2021-03-23T01:54:09.211077Z",
     "iopub.status.idle": "2021-03-23T01:54:09.225865Z",
     "shell.execute_reply": "2021-03-23T01:54:09.225171Z"
    },
    "papermill": {
     "duration": 0.068924,
     "end_time": "2021-03-23T01:54:09.225985",
     "exception": false,
     "start_time": "2021-03-23T01:54:09.157061",
     "status": "completed"
    },
    "tags": []
   },
   "outputs": [
    {
     "data": {
      "text/html": [
       "<div>\n",
       "<style scoped>\n",
       "    .dataframe tbody tr th:only-of-type {\n",
       "        vertical-align: middle;\n",
       "    }\n",
       "\n",
       "    .dataframe tbody tr th {\n",
       "        vertical-align: top;\n",
       "    }\n",
       "\n",
       "    .dataframe thead th {\n",
       "        text-align: right;\n",
       "    }\n",
       "</style>\n",
       "<table border=\"1\" class=\"dataframe\">\n",
       "  <thead>\n",
       "    <tr style=\"text-align: right;\">\n",
       "      <th></th>\n",
       "      <th>ID</th>\n",
       "      <th>target</th>\n",
       "      <th>age</th>\n",
       "      <th>gender</th>\n",
       "      <th>steroid</th>\n",
       "      <th>antivirals</th>\n",
       "      <th>fatigue</th>\n",
       "      <th>malaise</th>\n",
       "      <th>anorexia</th>\n",
       "      <th>liverBig</th>\n",
       "      <th>...</th>\n",
       "      <th>spleen</th>\n",
       "      <th>spiders</th>\n",
       "      <th>ascites</th>\n",
       "      <th>varices</th>\n",
       "      <th>bili</th>\n",
       "      <th>alk</th>\n",
       "      <th>sgot</th>\n",
       "      <th>albu</th>\n",
       "      <th>protime</th>\n",
       "      <th>histology</th>\n",
       "    </tr>\n",
       "  </thead>\n",
       "  <tbody>\n",
       "    <tr>\n",
       "      <th>0</th>\n",
       "      <td>1</td>\n",
       "      <td>2</td>\n",
       "      <td>30</td>\n",
       "      <td>2</td>\n",
       "      <td>1.0</td>\n",
       "      <td>2</td>\n",
       "      <td>2.0</td>\n",
       "      <td>2.0</td>\n",
       "      <td>2.0</td>\n",
       "      <td>1.0</td>\n",
       "      <td>...</td>\n",
       "      <td>2.0</td>\n",
       "      <td>2.0</td>\n",
       "      <td>2.0</td>\n",
       "      <td>2.0</td>\n",
       "      <td>1.0</td>\n",
       "      <td>85.0</td>\n",
       "      <td>18.0</td>\n",
       "      <td>4.0</td>\n",
       "      <td>NaN</td>\n",
       "      <td>1</td>\n",
       "    </tr>\n",
       "    <tr>\n",
       "      <th>1</th>\n",
       "      <td>2</td>\n",
       "      <td>2</td>\n",
       "      <td>50</td>\n",
       "      <td>1</td>\n",
       "      <td>1.0</td>\n",
       "      <td>2</td>\n",
       "      <td>1.0</td>\n",
       "      <td>2.0</td>\n",
       "      <td>2.0</td>\n",
       "      <td>1.0</td>\n",
       "      <td>...</td>\n",
       "      <td>2.0</td>\n",
       "      <td>2.0</td>\n",
       "      <td>2.0</td>\n",
       "      <td>2.0</td>\n",
       "      <td>0.9</td>\n",
       "      <td>135.0</td>\n",
       "      <td>42.0</td>\n",
       "      <td>3.5</td>\n",
       "      <td>NaN</td>\n",
       "      <td>1</td>\n",
       "    </tr>\n",
       "    <tr>\n",
       "      <th>2</th>\n",
       "      <td>3</td>\n",
       "      <td>2</td>\n",
       "      <td>78</td>\n",
       "      <td>1</td>\n",
       "      <td>2.0</td>\n",
       "      <td>2</td>\n",
       "      <td>1.0</td>\n",
       "      <td>2.0</td>\n",
       "      <td>2.0</td>\n",
       "      <td>2.0</td>\n",
       "      <td>...</td>\n",
       "      <td>2.0</td>\n",
       "      <td>2.0</td>\n",
       "      <td>2.0</td>\n",
       "      <td>2.0</td>\n",
       "      <td>0.7</td>\n",
       "      <td>96.0</td>\n",
       "      <td>32.0</td>\n",
       "      <td>4.0</td>\n",
       "      <td>NaN</td>\n",
       "      <td>1</td>\n",
       "    </tr>\n",
       "    <tr>\n",
       "      <th>3</th>\n",
       "      <td>4</td>\n",
       "      <td>2</td>\n",
       "      <td>31</td>\n",
       "      <td>1</td>\n",
       "      <td>NaN</td>\n",
       "      <td>1</td>\n",
       "      <td>2.0</td>\n",
       "      <td>2.0</td>\n",
       "      <td>2.0</td>\n",
       "      <td>2.0</td>\n",
       "      <td>...</td>\n",
       "      <td>2.0</td>\n",
       "      <td>2.0</td>\n",
       "      <td>2.0</td>\n",
       "      <td>2.0</td>\n",
       "      <td>0.7</td>\n",
       "      <td>46.0</td>\n",
       "      <td>52.0</td>\n",
       "      <td>4.0</td>\n",
       "      <td>80.0</td>\n",
       "      <td>1</td>\n",
       "    </tr>\n",
       "    <tr>\n",
       "      <th>4</th>\n",
       "      <td>5</td>\n",
       "      <td>2</td>\n",
       "      <td>34</td>\n",
       "      <td>1</td>\n",
       "      <td>2.0</td>\n",
       "      <td>2</td>\n",
       "      <td>2.0</td>\n",
       "      <td>2.0</td>\n",
       "      <td>2.0</td>\n",
       "      <td>2.0</td>\n",
       "      <td>...</td>\n",
       "      <td>2.0</td>\n",
       "      <td>2.0</td>\n",
       "      <td>2.0</td>\n",
       "      <td>2.0</td>\n",
       "      <td>1.0</td>\n",
       "      <td>NaN</td>\n",
       "      <td>200.0</td>\n",
       "      <td>4.0</td>\n",
       "      <td>NaN</td>\n",
       "      <td>1</td>\n",
       "    </tr>\n",
       "  </tbody>\n",
       "</table>\n",
       "<p>5 rows × 21 columns</p>\n",
       "</div>"
      ],
      "text/plain": [
       "   ID  target  age  gender  steroid  antivirals  fatigue  malaise  anorexia  \\\n",
       "0   1       2   30       2      1.0           2      2.0      2.0       2.0   \n",
       "1   2       2   50       1      1.0           2      1.0      2.0       2.0   \n",
       "2   3       2   78       1      2.0           2      1.0      2.0       2.0   \n",
       "3   4       2   31       1      NaN           1      2.0      2.0       2.0   \n",
       "4   5       2   34       1      2.0           2      2.0      2.0       2.0   \n",
       "\n",
       "   liverBig  ...  spleen  spiders  ascites  varices  bili    alk   sgot  albu  \\\n",
       "0       1.0  ...     2.0      2.0      2.0      2.0   1.0   85.0   18.0   4.0   \n",
       "1       1.0  ...     2.0      2.0      2.0      2.0   0.9  135.0   42.0   3.5   \n",
       "2       2.0  ...     2.0      2.0      2.0      2.0   0.7   96.0   32.0   4.0   \n",
       "3       2.0  ...     2.0      2.0      2.0      2.0   0.7   46.0   52.0   4.0   \n",
       "4       2.0  ...     2.0      2.0      2.0      2.0   1.0    NaN  200.0   4.0   \n",
       "\n",
       "   protime  histology  \n",
       "0      NaN          1  \n",
       "1      NaN          1  \n",
       "2      NaN          1  \n",
       "3     80.0          1  \n",
       "4      NaN          1  \n",
       "\n",
       "[5 rows x 21 columns]"
      ]
     },
     "execution_count": 5,
     "metadata": {},
     "output_type": "execute_result"
    }
   ],
   "source": [
    "data.head()"
   ]
  },
  {
   "cell_type": "markdown",
   "metadata": {
    "papermill": {
     "duration": 0.034303,
     "end_time": "2021-03-23T01:54:09.294534",
     "exception": false,
     "start_time": "2021-03-23T01:54:09.260231",
     "status": "completed"
    },
    "tags": []
   },
   "source": [
    "###### 2. Check basic summary statistics of the data"
   ]
  },
  {
   "cell_type": "code",
   "execution_count": 6,
   "metadata": {
    "execution": {
     "iopub.execute_input": "2021-03-23T01:54:09.372060Z",
     "iopub.status.busy": "2021-03-23T01:54:09.371482Z",
     "iopub.status.idle": "2021-03-23T01:54:09.425208Z",
     "shell.execute_reply": "2021-03-23T01:54:09.425630Z"
    },
    "papermill": {
     "duration": 0.096756,
     "end_time": "2021-03-23T01:54:09.425807",
     "exception": false,
     "start_time": "2021-03-23T01:54:09.329051",
     "status": "completed"
    },
    "tags": []
   },
   "outputs": [
    {
     "data": {
      "text/html": [
       "<div>\n",
       "<style scoped>\n",
       "    .dataframe tbody tr th:only-of-type {\n",
       "        vertical-align: middle;\n",
       "    }\n",
       "\n",
       "    .dataframe tbody tr th {\n",
       "        vertical-align: top;\n",
       "    }\n",
       "\n",
       "    .dataframe thead th {\n",
       "        text-align: right;\n",
       "    }\n",
       "</style>\n",
       "<table border=\"1\" class=\"dataframe\">\n",
       "  <thead>\n",
       "    <tr style=\"text-align: right;\">\n",
       "      <th></th>\n",
       "      <th>ID</th>\n",
       "      <th>target</th>\n",
       "      <th>age</th>\n",
       "      <th>gender</th>\n",
       "      <th>steroid</th>\n",
       "      <th>antivirals</th>\n",
       "      <th>fatigue</th>\n",
       "      <th>malaise</th>\n",
       "      <th>anorexia</th>\n",
       "      <th>liverBig</th>\n",
       "      <th>...</th>\n",
       "      <th>spleen</th>\n",
       "      <th>spiders</th>\n",
       "      <th>ascites</th>\n",
       "      <th>varices</th>\n",
       "      <th>bili</th>\n",
       "      <th>alk</th>\n",
       "      <th>sgot</th>\n",
       "      <th>albu</th>\n",
       "      <th>protime</th>\n",
       "      <th>histology</th>\n",
       "    </tr>\n",
       "  </thead>\n",
       "  <tbody>\n",
       "    <tr>\n",
       "      <th>count</th>\n",
       "      <td>155.000000</td>\n",
       "      <td>155.000000</td>\n",
       "      <td>155.000000</td>\n",
       "      <td>155.000000</td>\n",
       "      <td>154.000000</td>\n",
       "      <td>155.000000</td>\n",
       "      <td>154.000000</td>\n",
       "      <td>154.000000</td>\n",
       "      <td>154.000000</td>\n",
       "      <td>145.000000</td>\n",
       "      <td>...</td>\n",
       "      <td>150.00000</td>\n",
       "      <td>150.000000</td>\n",
       "      <td>150.000000</td>\n",
       "      <td>150.00000</td>\n",
       "      <td>149.000000</td>\n",
       "      <td>126.000000</td>\n",
       "      <td>151.00000</td>\n",
       "      <td>139.000000</td>\n",
       "      <td>88.000000</td>\n",
       "      <td>155.000000</td>\n",
       "    </tr>\n",
       "    <tr>\n",
       "      <th>mean</th>\n",
       "      <td>78.000000</td>\n",
       "      <td>1.793548</td>\n",
       "      <td>41.200000</td>\n",
       "      <td>1.103226</td>\n",
       "      <td>1.506494</td>\n",
       "      <td>1.845161</td>\n",
       "      <td>1.350649</td>\n",
       "      <td>1.603896</td>\n",
       "      <td>1.792208</td>\n",
       "      <td>1.827586</td>\n",
       "      <td>...</td>\n",
       "      <td>1.80000</td>\n",
       "      <td>1.660000</td>\n",
       "      <td>1.866667</td>\n",
       "      <td>1.88000</td>\n",
       "      <td>1.427517</td>\n",
       "      <td>105.325397</td>\n",
       "      <td>85.89404</td>\n",
       "      <td>3.817266</td>\n",
       "      <td>61.852273</td>\n",
       "      <td>1.451613</td>\n",
       "    </tr>\n",
       "    <tr>\n",
       "      <th>std</th>\n",
       "      <td>44.888751</td>\n",
       "      <td>0.406070</td>\n",
       "      <td>12.565878</td>\n",
       "      <td>0.305240</td>\n",
       "      <td>0.501589</td>\n",
       "      <td>0.362923</td>\n",
       "      <td>0.478730</td>\n",
       "      <td>0.490682</td>\n",
       "      <td>0.407051</td>\n",
       "      <td>0.379049</td>\n",
       "      <td>...</td>\n",
       "      <td>0.40134</td>\n",
       "      <td>0.475296</td>\n",
       "      <td>0.341073</td>\n",
       "      <td>0.32605</td>\n",
       "      <td>1.212149</td>\n",
       "      <td>51.508109</td>\n",
       "      <td>89.65089</td>\n",
       "      <td>0.651523</td>\n",
       "      <td>22.875244</td>\n",
       "      <td>0.499266</td>\n",
       "    </tr>\n",
       "    <tr>\n",
       "      <th>min</th>\n",
       "      <td>1.000000</td>\n",
       "      <td>1.000000</td>\n",
       "      <td>7.000000</td>\n",
       "      <td>1.000000</td>\n",
       "      <td>1.000000</td>\n",
       "      <td>1.000000</td>\n",
       "      <td>1.000000</td>\n",
       "      <td>1.000000</td>\n",
       "      <td>1.000000</td>\n",
       "      <td>1.000000</td>\n",
       "      <td>...</td>\n",
       "      <td>1.00000</td>\n",
       "      <td>1.000000</td>\n",
       "      <td>1.000000</td>\n",
       "      <td>1.00000</td>\n",
       "      <td>0.300000</td>\n",
       "      <td>26.000000</td>\n",
       "      <td>14.00000</td>\n",
       "      <td>2.100000</td>\n",
       "      <td>0.000000</td>\n",
       "      <td>1.000000</td>\n",
       "    </tr>\n",
       "    <tr>\n",
       "      <th>25%</th>\n",
       "      <td>39.500000</td>\n",
       "      <td>2.000000</td>\n",
       "      <td>32.000000</td>\n",
       "      <td>1.000000</td>\n",
       "      <td>1.000000</td>\n",
       "      <td>2.000000</td>\n",
       "      <td>1.000000</td>\n",
       "      <td>1.000000</td>\n",
       "      <td>2.000000</td>\n",
       "      <td>2.000000</td>\n",
       "      <td>...</td>\n",
       "      <td>2.00000</td>\n",
       "      <td>1.000000</td>\n",
       "      <td>2.000000</td>\n",
       "      <td>2.00000</td>\n",
       "      <td>0.700000</td>\n",
       "      <td>74.250000</td>\n",
       "      <td>31.50000</td>\n",
       "      <td>3.400000</td>\n",
       "      <td>46.000000</td>\n",
       "      <td>1.000000</td>\n",
       "    </tr>\n",
       "    <tr>\n",
       "      <th>50%</th>\n",
       "      <td>78.000000</td>\n",
       "      <td>2.000000</td>\n",
       "      <td>39.000000</td>\n",
       "      <td>1.000000</td>\n",
       "      <td>2.000000</td>\n",
       "      <td>2.000000</td>\n",
       "      <td>1.000000</td>\n",
       "      <td>2.000000</td>\n",
       "      <td>2.000000</td>\n",
       "      <td>2.000000</td>\n",
       "      <td>...</td>\n",
       "      <td>2.00000</td>\n",
       "      <td>2.000000</td>\n",
       "      <td>2.000000</td>\n",
       "      <td>2.00000</td>\n",
       "      <td>1.000000</td>\n",
       "      <td>85.000000</td>\n",
       "      <td>58.00000</td>\n",
       "      <td>4.000000</td>\n",
       "      <td>61.000000</td>\n",
       "      <td>1.000000</td>\n",
       "    </tr>\n",
       "    <tr>\n",
       "      <th>75%</th>\n",
       "      <td>116.500000</td>\n",
       "      <td>2.000000</td>\n",
       "      <td>50.000000</td>\n",
       "      <td>1.000000</td>\n",
       "      <td>2.000000</td>\n",
       "      <td>2.000000</td>\n",
       "      <td>2.000000</td>\n",
       "      <td>2.000000</td>\n",
       "      <td>2.000000</td>\n",
       "      <td>2.000000</td>\n",
       "      <td>...</td>\n",
       "      <td>2.00000</td>\n",
       "      <td>2.000000</td>\n",
       "      <td>2.000000</td>\n",
       "      <td>2.00000</td>\n",
       "      <td>1.500000</td>\n",
       "      <td>132.250000</td>\n",
       "      <td>100.50000</td>\n",
       "      <td>4.200000</td>\n",
       "      <td>76.250000</td>\n",
       "      <td>2.000000</td>\n",
       "    </tr>\n",
       "    <tr>\n",
       "      <th>max</th>\n",
       "      <td>155.000000</td>\n",
       "      <td>2.000000</td>\n",
       "      <td>78.000000</td>\n",
       "      <td>2.000000</td>\n",
       "      <td>2.000000</td>\n",
       "      <td>2.000000</td>\n",
       "      <td>2.000000</td>\n",
       "      <td>2.000000</td>\n",
       "      <td>2.000000</td>\n",
       "      <td>2.000000</td>\n",
       "      <td>...</td>\n",
       "      <td>2.00000</td>\n",
       "      <td>2.000000</td>\n",
       "      <td>2.000000</td>\n",
       "      <td>2.00000</td>\n",
       "      <td>8.000000</td>\n",
       "      <td>295.000000</td>\n",
       "      <td>648.00000</td>\n",
       "      <td>6.400000</td>\n",
       "      <td>100.000000</td>\n",
       "      <td>2.000000</td>\n",
       "    </tr>\n",
       "  </tbody>\n",
       "</table>\n",
       "<p>8 rows × 21 columns</p>\n",
       "</div>"
      ],
      "text/plain": [
       "               ID      target         age      gender     steroid  antivirals  \\\n",
       "count  155.000000  155.000000  155.000000  155.000000  154.000000  155.000000   \n",
       "mean    78.000000    1.793548   41.200000    1.103226    1.506494    1.845161   \n",
       "std     44.888751    0.406070   12.565878    0.305240    0.501589    0.362923   \n",
       "min      1.000000    1.000000    7.000000    1.000000    1.000000    1.000000   \n",
       "25%     39.500000    2.000000   32.000000    1.000000    1.000000    2.000000   \n",
       "50%     78.000000    2.000000   39.000000    1.000000    2.000000    2.000000   \n",
       "75%    116.500000    2.000000   50.000000    1.000000    2.000000    2.000000   \n",
       "max    155.000000    2.000000   78.000000    2.000000    2.000000    2.000000   \n",
       "\n",
       "          fatigue     malaise    anorexia    liverBig  ...     spleen  \\\n",
       "count  154.000000  154.000000  154.000000  145.000000  ...  150.00000   \n",
       "mean     1.350649    1.603896    1.792208    1.827586  ...    1.80000   \n",
       "std      0.478730    0.490682    0.407051    0.379049  ...    0.40134   \n",
       "min      1.000000    1.000000    1.000000    1.000000  ...    1.00000   \n",
       "25%      1.000000    1.000000    2.000000    2.000000  ...    2.00000   \n",
       "50%      1.000000    2.000000    2.000000    2.000000  ...    2.00000   \n",
       "75%      2.000000    2.000000    2.000000    2.000000  ...    2.00000   \n",
       "max      2.000000    2.000000    2.000000    2.000000  ...    2.00000   \n",
       "\n",
       "          spiders     ascites    varices        bili         alk       sgot  \\\n",
       "count  150.000000  150.000000  150.00000  149.000000  126.000000  151.00000   \n",
       "mean     1.660000    1.866667    1.88000    1.427517  105.325397   85.89404   \n",
       "std      0.475296    0.341073    0.32605    1.212149   51.508109   89.65089   \n",
       "min      1.000000    1.000000    1.00000    0.300000   26.000000   14.00000   \n",
       "25%      1.000000    2.000000    2.00000    0.700000   74.250000   31.50000   \n",
       "50%      2.000000    2.000000    2.00000    1.000000   85.000000   58.00000   \n",
       "75%      2.000000    2.000000    2.00000    1.500000  132.250000  100.50000   \n",
       "max      2.000000    2.000000    2.00000    8.000000  295.000000  648.00000   \n",
       "\n",
       "             albu     protime   histology  \n",
       "count  139.000000   88.000000  155.000000  \n",
       "mean     3.817266   61.852273    1.451613  \n",
       "std      0.651523   22.875244    0.499266  \n",
       "min      2.100000    0.000000    1.000000  \n",
       "25%      3.400000   46.000000    1.000000  \n",
       "50%      4.000000   61.000000    1.000000  \n",
       "75%      4.200000   76.250000    2.000000  \n",
       "max      6.400000  100.000000    2.000000  \n",
       "\n",
       "[8 rows x 21 columns]"
      ]
     },
     "execution_count": 6,
     "metadata": {},
     "output_type": "execute_result"
    }
   ],
   "source": [
    "data.describe()"
   ]
  },
  {
   "cell_type": "markdown",
   "metadata": {
    "papermill": {
     "duration": 0.034535,
     "end_time": "2021-03-23T01:54:09.495693",
     "exception": false,
     "start_time": "2021-03-23T01:54:09.461158",
     "status": "completed"
    },
    "tags": []
   },
   "source": [
    "###### 3. Check for value counts in target variable"
   ]
  },
  {
   "cell_type": "code",
   "execution_count": 7,
   "metadata": {
    "execution": {
     "iopub.execute_input": "2021-03-23T01:54:09.571007Z",
     "iopub.status.busy": "2021-03-23T01:54:09.570443Z",
     "iopub.status.idle": "2021-03-23T01:54:09.575721Z",
     "shell.execute_reply": "2021-03-23T01:54:09.576118Z"
    },
    "papermill": {
     "duration": 0.045879,
     "end_time": "2021-03-23T01:54:09.576253",
     "exception": false,
     "start_time": "2021-03-23T01:54:09.530374",
     "status": "completed"
    },
    "tags": []
   },
   "outputs": [
    {
     "data": {
      "text/plain": [
       "target\n",
       "2    123\n",
       "1     32\n",
       "Name: count, dtype: int64"
      ]
     },
     "execution_count": 7,
     "metadata": {},
     "output_type": "execute_result"
    }
   ],
   "source": [
    "data.target.value_counts()"
   ]
  },
  {
   "cell_type": "markdown",
   "metadata": {
    "papermill": {
     "duration": 0.034928,
     "end_time": "2021-03-23T01:54:09.646147",
     "exception": false,
     "start_time": "2021-03-23T01:54:09.611219",
     "status": "completed"
    },
    "tags": []
   },
   "source": [
    "#### 4. Check the datatype of each variable"
   ]
  },
  {
   "cell_type": "code",
   "execution_count": 8,
   "metadata": {
    "execution": {
     "iopub.execute_input": "2021-03-23T01:54:09.722973Z",
     "iopub.status.busy": "2021-03-23T01:54:09.722165Z",
     "iopub.status.idle": "2021-03-23T01:54:09.725887Z",
     "shell.execute_reply": "2021-03-23T01:54:09.725430Z"
    },
    "papermill": {
     "duration": 0.044248,
     "end_time": "2021-03-23T01:54:09.725997",
     "exception": false,
     "start_time": "2021-03-23T01:54:09.681749",
     "status": "completed"
    },
    "scrolled": true,
    "tags": []
   },
   "outputs": [
    {
     "data": {
      "text/plain": [
       "ID              int64\n",
       "target          int64\n",
       "age             int64\n",
       "gender          int64\n",
       "steroid       float64\n",
       "antivirals      int64\n",
       "fatigue       float64\n",
       "malaise       float64\n",
       "anorexia      float64\n",
       "liverBig      float64\n",
       "liverFirm     float64\n",
       "spleen        float64\n",
       "spiders       float64\n",
       "ascites       float64\n",
       "varices       float64\n",
       "bili          float64\n",
       "alk           float64\n",
       "sgot          float64\n",
       "albu          float64\n",
       "protime       float64\n",
       "histology       int64\n",
       "dtype: object"
      ]
     },
     "execution_count": 8,
     "metadata": {},
     "output_type": "execute_result"
    }
   ],
   "source": [
    "data.dtypes"
   ]
  },
  {
   "cell_type": "code",
   "execution_count": 9,
   "metadata": {},
   "outputs": [
    {
     "name": "stdout",
     "output_type": "stream",
     "text": [
      "ID            155\n",
      "target          2\n",
      "age            49\n",
      "gender          2\n",
      "steroid         2\n",
      "antivirals      2\n",
      "fatigue         2\n",
      "malaise         2\n",
      "anorexia        2\n",
      "liverBig        2\n",
      "liverFirm       2\n",
      "spleen          2\n",
      "spiders         2\n",
      "ascites         2\n",
      "varices         2\n",
      "bili           34\n",
      "alk            83\n",
      "sgot           84\n",
      "albu           29\n",
      "protime        44\n",
      "histology       2\n",
      "dtype: int64\n"
     ]
    }
   ],
   "source": [
    "unique_counts = data.nunique()\n",
    "print(unique_counts)\n",
    "# for column, count in unique_counts.items():\n",
    "#     print(f\"Column '{column}' has {count} unique values.\")\n"
   ]
  },
  {
   "cell_type": "code",
   "execution_count": 10,
   "metadata": {
    "execution": {
     "iopub.execute_input": "2021-03-23T01:54:09.801029Z",
     "iopub.status.busy": "2021-03-23T01:54:09.800377Z",
     "iopub.status.idle": "2021-03-23T01:54:09.820892Z",
     "shell.execute_reply": "2021-03-23T01:54:09.820003Z"
    },
    "papermill": {
     "duration": 0.059401,
     "end_time": "2021-03-23T01:54:09.821013",
     "exception": false,
     "start_time": "2021-03-23T01:54:09.761612",
     "status": "completed"
    },
    "scrolled": false,
    "tags": []
   },
   "outputs": [],
   "source": [
    "cat_cols = data.columns[data.nunique() < 5]"
   ]
  },
  {
   "cell_type": "code",
   "execution_count": 11,
   "metadata": {
    "execution": {
     "iopub.execute_input": "2021-03-23T01:54:09.898840Z",
     "iopub.status.busy": "2021-03-23T01:54:09.898056Z",
     "iopub.status.idle": "2021-03-23T01:54:09.902448Z",
     "shell.execute_reply": "2021-03-23T01:54:09.902048Z"
    },
    "papermill": {
     "duration": 0.045868,
     "end_time": "2021-03-23T01:54:09.902560",
     "exception": false,
     "start_time": "2021-03-23T01:54:09.856692",
     "status": "completed"
    },
    "tags": []
   },
   "outputs": [],
   "source": [
    "num_cols = data.columns[data.nunique() >= 5]"
   ]
  },
  {
   "cell_type": "markdown",
   "metadata": {
    "papermill": {
     "duration": 0.035429,
     "end_time": "2021-03-23T01:54:09.973727",
     "exception": false,
     "start_time": "2021-03-23T01:54:09.938298",
     "status": "completed"
    },
    "tags": []
   },
   "source": [
    "#### 5. Drop columns which are not significant"
   ]
  },
  {
   "cell_type": "code",
   "execution_count": 12,
   "metadata": {
    "execution": {
     "iopub.execute_input": "2021-03-23T01:54:10.055052Z",
     "iopub.status.busy": "2021-03-23T01:54:10.054232Z",
     "iopub.status.idle": "2021-03-23T01:54:10.058548Z",
     "shell.execute_reply": "2021-03-23T01:54:10.059027Z"
    },
    "papermill": {
     "duration": 0.048224,
     "end_time": "2021-03-23T01:54:10.059160",
     "exception": false,
     "start_time": "2021-03-23T01:54:10.010936",
     "status": "completed"
    },
    "tags": []
   },
   "outputs": [],
   "source": [
    "data.drop([\"ID\"], axis = 1, inplace=True)\n",
    "num_cols = data.columns[data.nunique() >= 5]"
   ]
  },
  {
   "cell_type": "code",
   "execution_count": 13,
   "metadata": {
    "execution": {
     "iopub.execute_input": "2021-03-23T01:54:10.149573Z",
     "iopub.status.busy": "2021-03-23T01:54:10.148755Z",
     "iopub.status.idle": "2021-03-23T01:54:10.152244Z",
     "shell.execute_reply": "2021-03-23T01:54:10.152725Z"
    },
    "papermill": {
     "duration": 0.05788,
     "end_time": "2021-03-23T01:54:10.152881",
     "exception": false,
     "start_time": "2021-03-23T01:54:10.095001",
     "status": "completed"
    },
    "tags": []
   },
   "outputs": [
    {
     "data": {
      "text/html": [
       "<div>\n",
       "<style scoped>\n",
       "    .dataframe tbody tr th:only-of-type {\n",
       "        vertical-align: middle;\n",
       "    }\n",
       "\n",
       "    .dataframe tbody tr th {\n",
       "        vertical-align: top;\n",
       "    }\n",
       "\n",
       "    .dataframe thead th {\n",
       "        text-align: right;\n",
       "    }\n",
       "</style>\n",
       "<table border=\"1\" class=\"dataframe\">\n",
       "  <thead>\n",
       "    <tr style=\"text-align: right;\">\n",
       "      <th></th>\n",
       "      <th>target</th>\n",
       "      <th>age</th>\n",
       "      <th>gender</th>\n",
       "      <th>steroid</th>\n",
       "      <th>antivirals</th>\n",
       "      <th>fatigue</th>\n",
       "      <th>malaise</th>\n",
       "      <th>anorexia</th>\n",
       "      <th>liverBig</th>\n",
       "      <th>liverFirm</th>\n",
       "      <th>spleen</th>\n",
       "      <th>spiders</th>\n",
       "      <th>ascites</th>\n",
       "      <th>varices</th>\n",
       "      <th>bili</th>\n",
       "      <th>alk</th>\n",
       "      <th>sgot</th>\n",
       "      <th>albu</th>\n",
       "      <th>protime</th>\n",
       "      <th>histology</th>\n",
       "    </tr>\n",
       "  </thead>\n",
       "  <tbody>\n",
       "    <tr>\n",
       "      <th>0</th>\n",
       "      <td>2</td>\n",
       "      <td>30</td>\n",
       "      <td>2</td>\n",
       "      <td>1.0</td>\n",
       "      <td>2</td>\n",
       "      <td>2.0</td>\n",
       "      <td>2.0</td>\n",
       "      <td>2.0</td>\n",
       "      <td>1.0</td>\n",
       "      <td>2.0</td>\n",
       "      <td>2.0</td>\n",
       "      <td>2.0</td>\n",
       "      <td>2.0</td>\n",
       "      <td>2.0</td>\n",
       "      <td>1.0</td>\n",
       "      <td>85.0</td>\n",
       "      <td>18.0</td>\n",
       "      <td>4.0</td>\n",
       "      <td>NaN</td>\n",
       "      <td>1</td>\n",
       "    </tr>\n",
       "    <tr>\n",
       "      <th>1</th>\n",
       "      <td>2</td>\n",
       "      <td>50</td>\n",
       "      <td>1</td>\n",
       "      <td>1.0</td>\n",
       "      <td>2</td>\n",
       "      <td>1.0</td>\n",
       "      <td>2.0</td>\n",
       "      <td>2.0</td>\n",
       "      <td>1.0</td>\n",
       "      <td>2.0</td>\n",
       "      <td>2.0</td>\n",
       "      <td>2.0</td>\n",
       "      <td>2.0</td>\n",
       "      <td>2.0</td>\n",
       "      <td>0.9</td>\n",
       "      <td>135.0</td>\n",
       "      <td>42.0</td>\n",
       "      <td>3.5</td>\n",
       "      <td>NaN</td>\n",
       "      <td>1</td>\n",
       "    </tr>\n",
       "    <tr>\n",
       "      <th>2</th>\n",
       "      <td>2</td>\n",
       "      <td>78</td>\n",
       "      <td>1</td>\n",
       "      <td>2.0</td>\n",
       "      <td>2</td>\n",
       "      <td>1.0</td>\n",
       "      <td>2.0</td>\n",
       "      <td>2.0</td>\n",
       "      <td>2.0</td>\n",
       "      <td>2.0</td>\n",
       "      <td>2.0</td>\n",
       "      <td>2.0</td>\n",
       "      <td>2.0</td>\n",
       "      <td>2.0</td>\n",
       "      <td>0.7</td>\n",
       "      <td>96.0</td>\n",
       "      <td>32.0</td>\n",
       "      <td>4.0</td>\n",
       "      <td>NaN</td>\n",
       "      <td>1</td>\n",
       "    </tr>\n",
       "    <tr>\n",
       "      <th>3</th>\n",
       "      <td>2</td>\n",
       "      <td>31</td>\n",
       "      <td>1</td>\n",
       "      <td>NaN</td>\n",
       "      <td>1</td>\n",
       "      <td>2.0</td>\n",
       "      <td>2.0</td>\n",
       "      <td>2.0</td>\n",
       "      <td>2.0</td>\n",
       "      <td>2.0</td>\n",
       "      <td>2.0</td>\n",
       "      <td>2.0</td>\n",
       "      <td>2.0</td>\n",
       "      <td>2.0</td>\n",
       "      <td>0.7</td>\n",
       "      <td>46.0</td>\n",
       "      <td>52.0</td>\n",
       "      <td>4.0</td>\n",
       "      <td>80.0</td>\n",
       "      <td>1</td>\n",
       "    </tr>\n",
       "    <tr>\n",
       "      <th>4</th>\n",
       "      <td>2</td>\n",
       "      <td>34</td>\n",
       "      <td>1</td>\n",
       "      <td>2.0</td>\n",
       "      <td>2</td>\n",
       "      <td>2.0</td>\n",
       "      <td>2.0</td>\n",
       "      <td>2.0</td>\n",
       "      <td>2.0</td>\n",
       "      <td>2.0</td>\n",
       "      <td>2.0</td>\n",
       "      <td>2.0</td>\n",
       "      <td>2.0</td>\n",
       "      <td>2.0</td>\n",
       "      <td>1.0</td>\n",
       "      <td>NaN</td>\n",
       "      <td>200.0</td>\n",
       "      <td>4.0</td>\n",
       "      <td>NaN</td>\n",
       "      <td>1</td>\n",
       "    </tr>\n",
       "  </tbody>\n",
       "</table>\n",
       "</div>"
      ],
      "text/plain": [
       "   target  age  gender  steroid  antivirals  fatigue  malaise  anorexia  \\\n",
       "0       2   30       2      1.0           2      2.0      2.0       2.0   \n",
       "1       2   50       1      1.0           2      1.0      2.0       2.0   \n",
       "2       2   78       1      2.0           2      1.0      2.0       2.0   \n",
       "3       2   31       1      NaN           1      2.0      2.0       2.0   \n",
       "4       2   34       1      2.0           2      2.0      2.0       2.0   \n",
       "\n",
       "   liverBig  liverFirm  spleen  spiders  ascites  varices  bili    alk   sgot  \\\n",
       "0       1.0        2.0     2.0      2.0      2.0      2.0   1.0   85.0   18.0   \n",
       "1       1.0        2.0     2.0      2.0      2.0      2.0   0.9  135.0   42.0   \n",
       "2       2.0        2.0     2.0      2.0      2.0      2.0   0.7   96.0   32.0   \n",
       "3       2.0        2.0     2.0      2.0      2.0      2.0   0.7   46.0   52.0   \n",
       "4       2.0        2.0     2.0      2.0      2.0      2.0   1.0    NaN  200.0   \n",
       "\n",
       "   albu  protime  histology  \n",
       "0   4.0      NaN          1  \n",
       "1   3.5      NaN          1  \n",
       "2   4.0      NaN          1  \n",
       "3   4.0     80.0          1  \n",
       "4   4.0      NaN          1  "
      ]
     },
     "execution_count": 13,
     "metadata": {},
     "output_type": "execute_result"
    }
   ],
   "source": [
    "data.head()"
   ]
  },
  {
   "cell_type": "markdown",
   "metadata": {
    "papermill": {
     "duration": 0.036463,
     "end_time": "2021-03-23T01:54:10.225853",
     "exception": false,
     "start_time": "2021-03-23T01:54:10.189390",
     "status": "completed"
    },
    "tags": []
   },
   "source": [
    "#### 6. Identify the Categorical Columns and store them in a variable cat_cols and numerical into num_cols"
   ]
  },
  {
   "cell_type": "code",
   "execution_count": 14,
   "metadata": {
    "execution": {
     "iopub.execute_input": "2021-03-23T01:54:10.312911Z",
     "iopub.status.busy": "2021-03-23T01:54:10.312156Z",
     "iopub.status.idle": "2021-03-23T01:54:10.314588Z",
     "shell.execute_reply": "2021-03-23T01:54:10.315125Z"
    },
    "papermill": {
     "duration": 0.044189,
     "end_time": "2021-03-23T01:54:10.315257",
     "exception": false,
     "start_time": "2021-03-23T01:54:10.271068",
     "status": "completed"
    },
    "tags": []
   },
   "outputs": [],
   "source": [
    "num_cols = [\"age\", \"bili\", \"alk\", \"sgot\", \"albu\", \"protime\"]\n",
    "cat_cols = ['gender', 'steroid', 'antivirals', 'fatigue', 'malaise', 'anorexia', 'liverBig', \n",
    "            'liverFirm', 'spleen', 'spiders', 'ascites', 'varices', 'histology']"
   ]
  },
  {
   "cell_type": "markdown",
   "metadata": {
    "papermill": {
     "duration": 0.036554,
     "end_time": "2021-03-23T01:54:10.388446",
     "exception": false,
     "start_time": "2021-03-23T01:54:10.351892",
     "status": "completed"
    },
    "tags": []
   },
   "source": [
    "#### 7. Checking the null values"
   ]
  },
  {
   "cell_type": "code",
   "execution_count": 15,
   "metadata": {
    "execution": {
     "iopub.execute_input": "2021-03-23T01:54:10.469643Z",
     "iopub.status.busy": "2021-03-23T01:54:10.468923Z",
     "iopub.status.idle": "2021-03-23T01:54:10.472048Z",
     "shell.execute_reply": "2021-03-23T01:54:10.472538Z"
    },
    "papermill": {
     "duration": 0.047513,
     "end_time": "2021-03-23T01:54:10.472680",
     "exception": false,
     "start_time": "2021-03-23T01:54:10.425167",
     "status": "completed"
    },
    "tags": []
   },
   "outputs": [
    {
     "data": {
      "text/plain": [
       "target         0\n",
       "age            0\n",
       "gender         0\n",
       "steroid        1\n",
       "antivirals     0\n",
       "fatigue        1\n",
       "malaise        1\n",
       "anorexia       1\n",
       "liverBig      10\n",
       "liverFirm     11\n",
       "spleen         5\n",
       "spiders        5\n",
       "ascites        5\n",
       "varices        5\n",
       "bili           6\n",
       "alk           29\n",
       "sgot           4\n",
       "albu          16\n",
       "protime       67\n",
       "histology      0\n",
       "dtype: int64"
      ]
     },
     "execution_count": 15,
     "metadata": {},
     "output_type": "execute_result"
    }
   ],
   "source": [
    "data.isna().sum()"
   ]
  },
  {
   "cell_type": "code",
   "execution_count": 16,
   "metadata": {
    "execution": {
     "iopub.execute_input": "2021-03-23T01:54:10.553171Z",
     "iopub.status.busy": "2021-03-23T01:54:10.552398Z",
     "iopub.status.idle": "2021-03-23T01:54:10.556117Z",
     "shell.execute_reply": "2021-03-23T01:54:10.555681Z"
    },
    "papermill": {
     "duration": 0.046681,
     "end_time": "2021-03-23T01:54:10.556229",
     "exception": false,
     "start_time": "2021-03-23T01:54:10.509548",
     "status": "completed"
    },
    "tags": []
   },
   "outputs": [
    {
     "data": {
      "text/plain": [
       "target         0\n",
       "age            0\n",
       "gender         0\n",
       "steroid        1\n",
       "antivirals     0\n",
       "fatigue        1\n",
       "malaise        1\n",
       "anorexia       1\n",
       "liverBig      10\n",
       "liverFirm     11\n",
       "spleen         5\n",
       "spiders        5\n",
       "ascites        5\n",
       "varices        5\n",
       "bili           6\n",
       "alk           29\n",
       "sgot           4\n",
       "albu          16\n",
       "protime       67\n",
       "histology      0\n",
       "dtype: int64"
      ]
     },
     "execution_count": 16,
     "metadata": {},
     "output_type": "execute_result"
    }
   ],
   "source": [
    "data.isnull().sum()"
   ]
  },
  {
   "cell_type": "markdown",
   "metadata": {
    "papermill": {
     "duration": 0.038211,
     "end_time": "2021-03-23T01:54:10.631681",
     "exception": false,
     "start_time": "2021-03-23T01:54:10.593470",
     "status": "completed"
    },
    "tags": []
   },
   "source": [
    "#### 8. Split the data into X and y"
   ]
  },
  {
   "cell_type": "code",
   "execution_count": 17,
   "metadata": {
    "execution": {
     "iopub.execute_input": "2021-03-23T01:54:10.725591Z",
     "iopub.status.busy": "2021-03-23T01:54:10.724704Z",
     "iopub.status.idle": "2021-03-23T01:54:10.727927Z",
     "shell.execute_reply": "2021-03-23T01:54:10.727429Z"
    },
    "papermill": {
     "duration": 0.05205,
     "end_time": "2021-03-23T01:54:10.728050",
     "exception": false,
     "start_time": "2021-03-23T01:54:10.676000",
     "status": "completed"
    },
    "tags": []
   },
   "outputs": [],
   "source": [
    "X = data.drop([\"target\"], axis = 1)"
   ]
  },
  {
   "cell_type": "code",
   "execution_count": 18,
   "metadata": {
    "execution": {
     "iopub.execute_input": "2021-03-23T01:54:10.819279Z",
     "iopub.status.busy": "2021-03-23T01:54:10.818360Z",
     "iopub.status.idle": "2021-03-23T01:54:10.821223Z",
     "shell.execute_reply": "2021-03-23T01:54:10.820649Z"
    },
    "papermill": {
     "duration": 0.05007,
     "end_time": "2021-03-23T01:54:10.821365",
     "exception": false,
     "start_time": "2021-03-23T01:54:10.771295",
     "status": "completed"
    },
    "tags": []
   },
   "outputs": [],
   "source": [
    "y = data[\"target\"]"
   ]
  },
  {
   "cell_type": "code",
   "execution_count": 19,
   "metadata": {
    "execution": {
     "iopub.execute_input": "2021-03-23T01:54:10.912847Z",
     "iopub.status.busy": "2021-03-23T01:54:10.912037Z",
     "iopub.status.idle": "2021-03-23T01:54:10.915672Z",
     "shell.execute_reply": "2021-03-23T01:54:10.916220Z"
    },
    "papermill": {
     "duration": 0.052828,
     "end_time": "2021-03-23T01:54:10.917527",
     "exception": false,
     "start_time": "2021-03-23T01:54:10.864699",
     "status": "completed"
    },
    "tags": []
   },
   "outputs": [
    {
     "name": "stdout",
     "output_type": "stream",
     "text": [
      "(155, 19) (155,)\n"
     ]
    }
   ],
   "source": [
    "print(X.shape, y.shape)"
   ]
  },
  {
   "cell_type": "code",
   "execution_count": null,
   "metadata": {},
   "outputs": [],
   "source": []
  },
  {
   "cell_type": "markdown",
   "metadata": {
    "papermill": {
     "duration": 0.041616,
     "end_time": "2021-03-23T01:54:11.002163",
     "exception": false,
     "start_time": "2021-03-23T01:54:10.960547",
     "status": "completed"
    },
    "tags": []
   },
   "source": [
    "#### 9. Split the data into X_train, X_test, y_train, y_test with test_size = 0.20 using sklearn"
   ]
  },
  {
   "cell_type": "code",
   "execution_count": 20,
   "metadata": {
    "execution": {
     "iopub.execute_input": "2021-03-23T01:54:11.091141Z",
     "iopub.status.busy": "2021-03-23T01:54:11.090346Z",
     "iopub.status.idle": "2021-03-23T01:54:11.093355Z",
     "shell.execute_reply": "2021-03-23T01:54:11.092928Z"
    },
    "papermill": {
     "duration": 0.050267,
     "end_time": "2021-03-23T01:54:11.093477",
     "exception": false,
     "start_time": "2021-03-23T01:54:11.043210",
     "status": "completed"
    },
    "tags": []
   },
   "outputs": [],
   "source": [
    "X_train, X_test, y_train, y_test = train_test_split(X, y, test_size = 0.2, random_state = 123)"
   ]
  },
  {
   "cell_type": "code",
   "execution_count": 21,
   "metadata": {
    "execution": {
     "iopub.execute_input": "2021-03-23T01:54:11.180283Z",
     "iopub.status.busy": "2021-03-23T01:54:11.179467Z",
     "iopub.status.idle": "2021-03-23T01:54:11.183594Z",
     "shell.execute_reply": "2021-03-23T01:54:11.184144Z"
    },
    "papermill": {
     "duration": 0.049446,
     "end_time": "2021-03-23T01:54:11.184336",
     "exception": false,
     "start_time": "2021-03-23T01:54:11.134890",
     "status": "completed"
    },
    "tags": []
   },
   "outputs": [
    {
     "name": "stdout",
     "output_type": "stream",
     "text": [
      "(124, 19)\n",
      "(31, 19)\n",
      "(124,)\n",
      "(31,)\n"
     ]
    }
   ],
   "source": [
    "## Print the shape of X_train, X_test, y_train, y_test\n",
    "print(X_train.shape)\n",
    "print(X_test.shape)\n",
    "print(y_train.shape)\n",
    "print(y_test.shape)"
   ]
  },
  {
   "cell_type": "markdown",
   "metadata": {
    "papermill": {
     "duration": 0.045168,
     "end_time": "2021-03-23T01:54:11.270239",
     "exception": false,
     "start_time": "2021-03-23T01:54:11.225071",
     "status": "completed"
    },
    "tags": []
   },
   "source": [
    "#### 10. Check null values in train and test, check value_counts in y_train and y_test"
   ]
  },
  {
   "cell_type": "code",
   "execution_count": 22,
   "metadata": {
    "execution": {
     "iopub.execute_input": "2021-03-23T01:54:11.357780Z",
     "iopub.status.busy": "2021-03-23T01:54:11.357058Z",
     "iopub.status.idle": "2021-03-23T01:54:11.360552Z",
     "shell.execute_reply": "2021-03-23T01:54:11.361206Z"
    },
    "papermill": {
     "duration": 0.050181,
     "end_time": "2021-03-23T01:54:11.361397",
     "exception": false,
     "start_time": "2021-03-23T01:54:11.311216",
     "status": "completed"
    },
    "tags": []
   },
   "outputs": [
    {
     "name": "stdout",
     "output_type": "stream",
     "text": [
      "target\n",
      "2    0.790323\n",
      "1    0.209677\n",
      "Name: count, dtype: float64\n"
     ]
    }
   ],
   "source": [
    "print(y_train.value_counts()/X_train.shape[0])"
   ]
  },
  {
   "cell_type": "code",
   "execution_count": 23,
   "metadata": {
    "execution": {
     "iopub.execute_input": "2021-03-23T01:54:11.455701Z",
     "iopub.status.busy": "2021-03-23T01:54:11.454955Z",
     "iopub.status.idle": "2021-03-23T01:54:11.459082Z",
     "shell.execute_reply": "2021-03-23T01:54:11.459780Z"
    },
    "papermill": {
     "duration": 0.052668,
     "end_time": "2021-03-23T01:54:11.459968",
     "exception": false,
     "start_time": "2021-03-23T01:54:11.407300",
     "status": "completed"
    },
    "scrolled": true,
    "tags": []
   },
   "outputs": [
    {
     "name": "stdout",
     "output_type": "stream",
     "text": [
      "target\n",
      "2    0.806452\n",
      "1    0.193548\n",
      "Name: count, dtype: float64\n"
     ]
    }
   ],
   "source": [
    "print(y_test.value_counts()/X_test.shape[0])"
   ]
  },
  {
   "cell_type": "code",
   "execution_count": 24,
   "metadata": {
    "execution": {
     "iopub.execute_input": "2021-03-23T01:54:11.556194Z",
     "iopub.status.busy": "2021-03-23T01:54:11.555300Z",
     "iopub.status.idle": "2021-03-23T01:54:11.559050Z",
     "shell.execute_reply": "2021-03-23T01:54:11.559580Z"
    },
    "papermill": {
     "duration": 0.05497,
     "end_time": "2021-03-23T01:54:11.559730",
     "exception": false,
     "start_time": "2021-03-23T01:54:11.504760",
     "status": "completed"
    },
    "scrolled": false,
    "tags": []
   },
   "outputs": [
    {
     "data": {
      "text/plain": [
       "age            0\n",
       "gender         0\n",
       "steroid        1\n",
       "antivirals     0\n",
       "fatigue        1\n",
       "malaise        1\n",
       "anorexia       1\n",
       "liverBig       7\n",
       "liverFirm      8\n",
       "spleen         4\n",
       "spiders        4\n",
       "ascites        4\n",
       "varices        4\n",
       "bili           6\n",
       "alk           23\n",
       "sgot           4\n",
       "albu          13\n",
       "protime       53\n",
       "histology      0\n",
       "dtype: int64"
      ]
     },
     "execution_count": 24,
     "metadata": {},
     "output_type": "execute_result"
    }
   ],
   "source": [
    "# null values in train\n",
    "X_train.isna().sum()"
   ]
  },
  {
   "cell_type": "code",
   "execution_count": 25,
   "metadata": {
    "execution": {
     "iopub.execute_input": "2021-03-23T01:54:11.649199Z",
     "iopub.status.busy": "2021-03-23T01:54:11.648410Z",
     "iopub.status.idle": "2021-03-23T01:54:11.651681Z",
     "shell.execute_reply": "2021-03-23T01:54:11.652081Z"
    },
    "papermill": {
     "duration": 0.050251,
     "end_time": "2021-03-23T01:54:11.652223",
     "exception": false,
     "start_time": "2021-03-23T01:54:11.601972",
     "status": "completed"
    },
    "scrolled": true,
    "tags": []
   },
   "outputs": [
    {
     "data": {
      "text/plain": [
       "age            0\n",
       "gender         0\n",
       "steroid        0\n",
       "antivirals     0\n",
       "fatigue        0\n",
       "malaise        0\n",
       "anorexia       0\n",
       "liverBig       3\n",
       "liverFirm      3\n",
       "spleen         1\n",
       "spiders        1\n",
       "ascites        1\n",
       "varices        1\n",
       "bili           0\n",
       "alk            6\n",
       "sgot           0\n",
       "albu           3\n",
       "protime       14\n",
       "histology      0\n",
       "dtype: int64"
      ]
     },
     "execution_count": 25,
     "metadata": {},
     "output_type": "execute_result"
    }
   ],
   "source": [
    "# null values in test\n",
    "X_test.isna().sum()"
   ]
  },
  {
   "cell_type": "markdown",
   "metadata": {
    "papermill": {
     "duration": 0.040544,
     "end_time": "2021-03-23T01:54:11.733191",
     "exception": false,
     "start_time": "2021-03-23T01:54:11.692647",
     "status": "completed"
    },
    "tags": []
   },
   "source": [
    "#### 11. Impute the Categorical Columns with mode and Numerical columns with mean"
   ]
  },
  {
   "cell_type": "code",
   "execution_count": 26,
   "metadata": {
    "execution": {
     "iopub.execute_input": "2021-03-23T01:54:11.821564Z",
     "iopub.status.busy": "2021-03-23T01:54:11.820775Z",
     "iopub.status.idle": "2021-03-23T01:54:11.823702Z",
     "shell.execute_reply": "2021-03-23T01:54:11.823272Z"
    },
    "papermill": {
     "duration": 0.049567,
     "end_time": "2021-03-23T01:54:11.823842",
     "exception": false,
     "start_time": "2021-03-23T01:54:11.774275",
     "status": "completed"
    },
    "scrolled": true,
    "tags": []
   },
   "outputs": [],
   "source": [
    "df_cat_train = X_train[cat_cols]\n",
    "df_cat_test = X_test[cat_cols]"
   ]
  },
  {
   "cell_type": "code",
   "execution_count": 27,
   "metadata": {
    "execution": {
     "iopub.execute_input": "2021-03-23T01:54:11.915235Z",
     "iopub.status.busy": "2021-03-23T01:54:11.914400Z",
     "iopub.status.idle": "2021-03-23T01:54:11.916942Z",
     "shell.execute_reply": "2021-03-23T01:54:11.917450Z"
    },
    "papermill": {
     "duration": 0.050171,
     "end_time": "2021-03-23T01:54:11.917601",
     "exception": false,
     "start_time": "2021-03-23T01:54:11.867430",
     "status": "completed"
    },
    "tags": []
   },
   "outputs": [],
   "source": [
    "# Impute on train\n",
    "# df_cat_train = df_cat_train.fillna(df_cat_train.mode().iloc[0])\n",
    "\n",
    "# Impute on test\n",
    "# df_cat_test = df_cat_test.fillna(df_cat_train.mode().iloc[0])"
   ]
  },
  {
   "cell_type": "code",
   "execution_count": 28,
   "metadata": {
    "execution": {
     "iopub.execute_input": "2021-03-23T01:54:12.009692Z",
     "iopub.status.busy": "2021-03-23T01:54:12.008967Z",
     "iopub.status.idle": "2021-03-23T01:54:12.218551Z",
     "shell.execute_reply": "2021-03-23T01:54:12.219022Z"
    },
    "papermill": {
     "duration": 0.258197,
     "end_time": "2021-03-23T01:54:12.219186",
     "exception": false,
     "start_time": "2021-03-23T01:54:11.960989",
     "status": "completed"
    },
    "tags": []
   },
   "outputs": [
    {
     "data": {
      "text/html": [
       "<style>#sk-container-id-1 {color: black;}#sk-container-id-1 pre{padding: 0;}#sk-container-id-1 div.sk-toggleable {background-color: white;}#sk-container-id-1 label.sk-toggleable__label {cursor: pointer;display: block;width: 100%;margin-bottom: 0;padding: 0.3em;box-sizing: border-box;text-align: center;}#sk-container-id-1 label.sk-toggleable__label-arrow:before {content: \"▸\";float: left;margin-right: 0.25em;color: #696969;}#sk-container-id-1 label.sk-toggleable__label-arrow:hover:before {color: black;}#sk-container-id-1 div.sk-estimator:hover label.sk-toggleable__label-arrow:before {color: black;}#sk-container-id-1 div.sk-toggleable__content {max-height: 0;max-width: 0;overflow: hidden;text-align: left;background-color: #f0f8ff;}#sk-container-id-1 div.sk-toggleable__content pre {margin: 0.2em;color: black;border-radius: 0.25em;background-color: #f0f8ff;}#sk-container-id-1 input.sk-toggleable__control:checked~div.sk-toggleable__content {max-height: 200px;max-width: 100%;overflow: auto;}#sk-container-id-1 input.sk-toggleable__control:checked~label.sk-toggleable__label-arrow:before {content: \"▾\";}#sk-container-id-1 div.sk-estimator input.sk-toggleable__control:checked~label.sk-toggleable__label {background-color: #d4ebff;}#sk-container-id-1 div.sk-label input.sk-toggleable__control:checked~label.sk-toggleable__label {background-color: #d4ebff;}#sk-container-id-1 input.sk-hidden--visually {border: 0;clip: rect(1px 1px 1px 1px);clip: rect(1px, 1px, 1px, 1px);height: 1px;margin: -1px;overflow: hidden;padding: 0;position: absolute;width: 1px;}#sk-container-id-1 div.sk-estimator {font-family: monospace;background-color: #f0f8ff;border: 1px dotted black;border-radius: 0.25em;box-sizing: border-box;margin-bottom: 0.5em;}#sk-container-id-1 div.sk-estimator:hover {background-color: #d4ebff;}#sk-container-id-1 div.sk-parallel-item::after {content: \"\";width: 100%;border-bottom: 1px solid gray;flex-grow: 1;}#sk-container-id-1 div.sk-label:hover label.sk-toggleable__label {background-color: #d4ebff;}#sk-container-id-1 div.sk-serial::before {content: \"\";position: absolute;border-left: 1px solid gray;box-sizing: border-box;top: 0;bottom: 0;left: 50%;z-index: 0;}#sk-container-id-1 div.sk-serial {display: flex;flex-direction: column;align-items: center;background-color: white;padding-right: 0.2em;padding-left: 0.2em;position: relative;}#sk-container-id-1 div.sk-item {position: relative;z-index: 1;}#sk-container-id-1 div.sk-parallel {display: flex;align-items: stretch;justify-content: center;background-color: white;position: relative;}#sk-container-id-1 div.sk-item::before, #sk-container-id-1 div.sk-parallel-item::before {content: \"\";position: absolute;border-left: 1px solid gray;box-sizing: border-box;top: 0;bottom: 0;left: 50%;z-index: -1;}#sk-container-id-1 div.sk-parallel-item {display: flex;flex-direction: column;z-index: 1;position: relative;background-color: white;}#sk-container-id-1 div.sk-parallel-item:first-child::after {align-self: flex-end;width: 50%;}#sk-container-id-1 div.sk-parallel-item:last-child::after {align-self: flex-start;width: 50%;}#sk-container-id-1 div.sk-parallel-item:only-child::after {width: 0;}#sk-container-id-1 div.sk-dashed-wrapped {border: 1px dashed gray;margin: 0 0.4em 0.5em 0.4em;box-sizing: border-box;padding-bottom: 0.4em;background-color: white;}#sk-container-id-1 div.sk-label label {font-family: monospace;font-weight: bold;display: inline-block;line-height: 1.2em;}#sk-container-id-1 div.sk-label-container {text-align: center;}#sk-container-id-1 div.sk-container {/* jupyter's `normalize.less` sets `[hidden] { display: none; }` but bootstrap.min.css set `[hidden] { display: none !important; }` so we also need the `!important` here to be able to override the default hidden behavior on the sphinx rendered scikit-learn.org. See: https://github.com/scikit-learn/scikit-learn/issues/21755 */display: inline-block !important;position: relative;}#sk-container-id-1 div.sk-text-repr-fallback {display: none;}</style><div id=\"sk-container-id-1\" class=\"sk-top-container\"><div class=\"sk-text-repr-fallback\"><pre>SimpleImputer(strategy=&#x27;most_frequent&#x27;)</pre><b>In a Jupyter environment, please rerun this cell to show the HTML representation or trust the notebook. <br />On GitHub, the HTML representation is unable to render, please try loading this page with nbviewer.org.</b></div><div class=\"sk-container\" hidden><div class=\"sk-item\"><div class=\"sk-estimator sk-toggleable\"><input class=\"sk-toggleable__control sk-hidden--visually\" id=\"sk-estimator-id-1\" type=\"checkbox\" checked><label for=\"sk-estimator-id-1\" class=\"sk-toggleable__label sk-toggleable__label-arrow\">SimpleImputer</label><div class=\"sk-toggleable__content\"><pre>SimpleImputer(strategy=&#x27;most_frequent&#x27;)</pre></div></div></div></div></div>"
      ],
      "text/plain": [
       "SimpleImputer(strategy='most_frequent')"
      ]
     },
     "execution_count": 28,
     "metadata": {},
     "output_type": "execute_result"
    }
   ],
   "source": [
    "from sklearn.impute import SimpleImputer\n",
    "cat_imputer = SimpleImputer(strategy='most_frequent')\n",
    "cat_imputer.fit(df_cat_train)"
   ]
  },
  {
   "cell_type": "code",
   "execution_count": 29,
   "metadata": {
    "execution": {
     "iopub.execute_input": "2021-03-23T01:54:12.359436Z",
     "iopub.status.busy": "2021-03-23T01:54:12.358558Z",
     "iopub.status.idle": "2021-03-23T01:54:12.363073Z",
     "shell.execute_reply": "2021-03-23T01:54:12.363470Z"
    },
    "papermill": {
     "duration": 0.090542,
     "end_time": "2021-03-23T01:54:12.363641",
     "exception": false,
     "start_time": "2021-03-23T01:54:12.273099",
     "status": "completed"
    },
    "tags": []
   },
   "outputs": [],
   "source": [
    "df_cat_train = pd.DataFrame(cat_imputer.transform(df_cat_train), columns=cat_cols)"
   ]
  },
  {
   "cell_type": "code",
   "execution_count": 30,
   "metadata": {
    "execution": {
     "iopub.execute_input": "2021-03-23T01:54:12.527854Z",
     "iopub.status.busy": "2021-03-23T01:54:12.526938Z",
     "iopub.status.idle": "2021-03-23T01:54:12.530604Z",
     "shell.execute_reply": "2021-03-23T01:54:12.531386Z"
    },
    "papermill": {
     "duration": 0.096446,
     "end_time": "2021-03-23T01:54:12.531683",
     "exception": false,
     "start_time": "2021-03-23T01:54:12.435237",
     "status": "completed"
    },
    "tags": []
   },
   "outputs": [],
   "source": [
    "df_cat_test = pd.DataFrame(cat_imputer.transform(df_cat_test), columns=cat_cols)"
   ]
  },
  {
   "cell_type": "code",
   "execution_count": 31,
   "metadata": {
    "execution": {
     "iopub.execute_input": "2021-03-23T01:54:12.682108Z",
     "iopub.status.busy": "2021-03-23T01:54:12.681215Z",
     "iopub.status.idle": "2021-03-23T01:54:12.685604Z",
     "shell.execute_reply": "2021-03-23T01:54:12.686178Z"
    },
    "papermill": {
     "duration": 0.079335,
     "end_time": "2021-03-23T01:54:12.686471",
     "exception": false,
     "start_time": "2021-03-23T01:54:12.607136",
     "status": "completed"
    },
    "tags": []
   },
   "outputs": [],
   "source": [
    "df_num_train = X_train[num_cols]\n",
    "df_num_test = X_test[num_cols]"
   ]
  },
  {
   "cell_type": "code",
   "execution_count": 32,
   "metadata": {
    "execution": {
     "iopub.execute_input": "2021-03-23T01:54:12.833365Z",
     "iopub.status.busy": "2021-03-23T01:54:12.829110Z",
     "iopub.status.idle": "2021-03-23T01:54:12.834437Z",
     "shell.execute_reply": "2021-03-23T01:54:12.833949Z"
    },
    "papermill": {
     "duration": 0.080102,
     "end_time": "2021-03-23T01:54:12.834567",
     "exception": false,
     "start_time": "2021-03-23T01:54:12.754465",
     "status": "completed"
    },
    "tags": []
   },
   "outputs": [],
   "source": [
    "# Impute on train\n",
    "# df_num_train = df_num_train.fillna(df_num_train.mean())\n",
    "\n",
    "#Impute on test\n",
    "# df_num_test = df_num_test.fillna(df_num_train.mean())"
   ]
  },
  {
   "cell_type": "code",
   "execution_count": 33,
   "metadata": {
    "execution": {
     "iopub.execute_input": "2021-03-23T01:54:13.027649Z",
     "iopub.status.busy": "2021-03-23T01:54:13.026928Z",
     "iopub.status.idle": "2021-03-23T01:54:13.034675Z",
     "shell.execute_reply": "2021-03-23T01:54:13.035537Z"
    },
    "papermill": {
     "duration": 0.10783,
     "end_time": "2021-03-23T01:54:13.035711",
     "exception": false,
     "start_time": "2021-03-23T01:54:12.927881",
     "status": "completed"
    },
    "tags": []
   },
   "outputs": [
    {
     "data": {
      "text/html": [
       "<style>#sk-container-id-2 {color: black;}#sk-container-id-2 pre{padding: 0;}#sk-container-id-2 div.sk-toggleable {background-color: white;}#sk-container-id-2 label.sk-toggleable__label {cursor: pointer;display: block;width: 100%;margin-bottom: 0;padding: 0.3em;box-sizing: border-box;text-align: center;}#sk-container-id-2 label.sk-toggleable__label-arrow:before {content: \"▸\";float: left;margin-right: 0.25em;color: #696969;}#sk-container-id-2 label.sk-toggleable__label-arrow:hover:before {color: black;}#sk-container-id-2 div.sk-estimator:hover label.sk-toggleable__label-arrow:before {color: black;}#sk-container-id-2 div.sk-toggleable__content {max-height: 0;max-width: 0;overflow: hidden;text-align: left;background-color: #f0f8ff;}#sk-container-id-2 div.sk-toggleable__content pre {margin: 0.2em;color: black;border-radius: 0.25em;background-color: #f0f8ff;}#sk-container-id-2 input.sk-toggleable__control:checked~div.sk-toggleable__content {max-height: 200px;max-width: 100%;overflow: auto;}#sk-container-id-2 input.sk-toggleable__control:checked~label.sk-toggleable__label-arrow:before {content: \"▾\";}#sk-container-id-2 div.sk-estimator input.sk-toggleable__control:checked~label.sk-toggleable__label {background-color: #d4ebff;}#sk-container-id-2 div.sk-label input.sk-toggleable__control:checked~label.sk-toggleable__label {background-color: #d4ebff;}#sk-container-id-2 input.sk-hidden--visually {border: 0;clip: rect(1px 1px 1px 1px);clip: rect(1px, 1px, 1px, 1px);height: 1px;margin: -1px;overflow: hidden;padding: 0;position: absolute;width: 1px;}#sk-container-id-2 div.sk-estimator {font-family: monospace;background-color: #f0f8ff;border: 1px dotted black;border-radius: 0.25em;box-sizing: border-box;margin-bottom: 0.5em;}#sk-container-id-2 div.sk-estimator:hover {background-color: #d4ebff;}#sk-container-id-2 div.sk-parallel-item::after {content: \"\";width: 100%;border-bottom: 1px solid gray;flex-grow: 1;}#sk-container-id-2 div.sk-label:hover label.sk-toggleable__label {background-color: #d4ebff;}#sk-container-id-2 div.sk-serial::before {content: \"\";position: absolute;border-left: 1px solid gray;box-sizing: border-box;top: 0;bottom: 0;left: 50%;z-index: 0;}#sk-container-id-2 div.sk-serial {display: flex;flex-direction: column;align-items: center;background-color: white;padding-right: 0.2em;padding-left: 0.2em;position: relative;}#sk-container-id-2 div.sk-item {position: relative;z-index: 1;}#sk-container-id-2 div.sk-parallel {display: flex;align-items: stretch;justify-content: center;background-color: white;position: relative;}#sk-container-id-2 div.sk-item::before, #sk-container-id-2 div.sk-parallel-item::before {content: \"\";position: absolute;border-left: 1px solid gray;box-sizing: border-box;top: 0;bottom: 0;left: 50%;z-index: -1;}#sk-container-id-2 div.sk-parallel-item {display: flex;flex-direction: column;z-index: 1;position: relative;background-color: white;}#sk-container-id-2 div.sk-parallel-item:first-child::after {align-self: flex-end;width: 50%;}#sk-container-id-2 div.sk-parallel-item:last-child::after {align-self: flex-start;width: 50%;}#sk-container-id-2 div.sk-parallel-item:only-child::after {width: 0;}#sk-container-id-2 div.sk-dashed-wrapped {border: 1px dashed gray;margin: 0 0.4em 0.5em 0.4em;box-sizing: border-box;padding-bottom: 0.4em;background-color: white;}#sk-container-id-2 div.sk-label label {font-family: monospace;font-weight: bold;display: inline-block;line-height: 1.2em;}#sk-container-id-2 div.sk-label-container {text-align: center;}#sk-container-id-2 div.sk-container {/* jupyter's `normalize.less` sets `[hidden] { display: none; }` but bootstrap.min.css set `[hidden] { display: none !important; }` so we also need the `!important` here to be able to override the default hidden behavior on the sphinx rendered scikit-learn.org. See: https://github.com/scikit-learn/scikit-learn/issues/21755 */display: inline-block !important;position: relative;}#sk-container-id-2 div.sk-text-repr-fallback {display: none;}</style><div id=\"sk-container-id-2\" class=\"sk-top-container\"><div class=\"sk-text-repr-fallback\"><pre>SimpleImputer(strategy=&#x27;median&#x27;)</pre><b>In a Jupyter environment, please rerun this cell to show the HTML representation or trust the notebook. <br />On GitHub, the HTML representation is unable to render, please try loading this page with nbviewer.org.</b></div><div class=\"sk-container\" hidden><div class=\"sk-item\"><div class=\"sk-estimator sk-toggleable\"><input class=\"sk-toggleable__control sk-hidden--visually\" id=\"sk-estimator-id-2\" type=\"checkbox\" checked><label for=\"sk-estimator-id-2\" class=\"sk-toggleable__label sk-toggleable__label-arrow\">SimpleImputer</label><div class=\"sk-toggleable__content\"><pre>SimpleImputer(strategy=&#x27;median&#x27;)</pre></div></div></div></div></div>"
      ],
      "text/plain": [
       "SimpleImputer(strategy='median')"
      ]
     },
     "execution_count": 33,
     "metadata": {},
     "output_type": "execute_result"
    }
   ],
   "source": [
    "num_imputer = SimpleImputer(strategy='median')\n",
    "num_imputer.fit(df_num_train[num_cols])"
   ]
  },
  {
   "cell_type": "code",
   "execution_count": 34,
   "metadata": {
    "execution": {
     "iopub.execute_input": "2021-03-23T01:54:13.149371Z",
     "iopub.status.busy": "2021-03-23T01:54:13.148631Z",
     "iopub.status.idle": "2021-03-23T01:54:13.151989Z",
     "shell.execute_reply": "2021-03-23T01:54:13.152526Z"
    },
    "papermill": {
     "duration": 0.054928,
     "end_time": "2021-03-23T01:54:13.152700",
     "exception": false,
     "start_time": "2021-03-23T01:54:13.097772",
     "status": "completed"
    },
    "tags": []
   },
   "outputs": [],
   "source": [
    "df_num_train = pd.DataFrame ( num_imputer.transform(df_num_train), columns= num_cols)"
   ]
  },
  {
   "cell_type": "code",
   "execution_count": 35,
   "metadata": {
    "execution": {
     "iopub.execute_input": "2021-03-23T01:54:13.282044Z",
     "iopub.status.busy": "2021-03-23T01:54:13.281360Z",
     "iopub.status.idle": "2021-03-23T01:54:13.284433Z",
     "shell.execute_reply": "2021-03-23T01:54:13.284954Z"
    },
    "papermill": {
     "duration": 0.073313,
     "end_time": "2021-03-23T01:54:13.285126",
     "exception": false,
     "start_time": "2021-03-23T01:54:13.211813",
     "status": "completed"
    },
    "tags": []
   },
   "outputs": [],
   "source": [
    "df_num_test =  pd.DataFrame(num_imputer.transform(df_num_test), columns=num_cols)"
   ]
  },
  {
   "cell_type": "code",
   "execution_count": 36,
   "metadata": {
    "execution": {
     "iopub.execute_input": "2021-03-23T01:54:13.428645Z",
     "iopub.status.busy": "2021-03-23T01:54:13.427865Z",
     "iopub.status.idle": "2021-03-23T01:54:13.431467Z",
     "shell.execute_reply": "2021-03-23T01:54:13.429300Z"
    },
    "papermill": {
     "duration": 0.083574,
     "end_time": "2021-03-23T01:54:13.431786",
     "exception": false,
     "start_time": "2021-03-23T01:54:13.348212",
     "status": "completed"
    },
    "tags": []
   },
   "outputs": [],
   "source": [
    "# Combine numeric and categorical in train\n",
    "X_train = pd.concat([df_num_train, df_cat_train], axis = 1)\n",
    "\n",
    "# Combine numeric and categorical in test\n",
    "X_test = pd.concat([df_num_test, df_cat_test], axis = 1)"
   ]
  },
  {
   "cell_type": "code",
   "execution_count": 37,
   "metadata": {
    "execution": {
     "iopub.execute_input": "2021-03-23T01:54:13.538718Z",
     "iopub.status.busy": "2021-03-23T01:54:13.537930Z",
     "iopub.status.idle": "2021-03-23T01:54:13.541576Z",
     "shell.execute_reply": "2021-03-23T01:54:13.541174Z"
    },
    "papermill": {
     "duration": 0.05184,
     "end_time": "2021-03-23T01:54:13.541692",
     "exception": false,
     "start_time": "2021-03-23T01:54:13.489852",
     "status": "completed"
    },
    "tags": []
   },
   "outputs": [
    {
     "data": {
      "text/plain": [
       "age           0\n",
       "bili          0\n",
       "alk           0\n",
       "sgot          0\n",
       "albu          0\n",
       "protime       0\n",
       "gender        0\n",
       "steroid       0\n",
       "antivirals    0\n",
       "fatigue       0\n",
       "malaise       0\n",
       "anorexia      0\n",
       "liverBig      0\n",
       "liverFirm     0\n",
       "spleen        0\n",
       "spiders       0\n",
       "ascites       0\n",
       "varices       0\n",
       "histology     0\n",
       "dtype: int64"
      ]
     },
     "execution_count": 37,
     "metadata": {},
     "output_type": "execute_result"
    }
   ],
   "source": [
    "X_train.isna().sum()"
   ]
  },
  {
   "cell_type": "code",
   "execution_count": 38,
   "metadata": {
    "execution": {
     "iopub.execute_input": "2021-03-23T01:54:13.632489Z",
     "iopub.status.busy": "2021-03-23T01:54:13.631697Z",
     "iopub.status.idle": "2021-03-23T01:54:13.635035Z",
     "shell.execute_reply": "2021-03-23T01:54:13.635453Z"
    },
    "papermill": {
     "duration": 0.051688,
     "end_time": "2021-03-23T01:54:13.635582",
     "exception": false,
     "start_time": "2021-03-23T01:54:13.583894",
     "status": "completed"
    },
    "tags": []
   },
   "outputs": [
    {
     "data": {
      "text/plain": [
       "age           0\n",
       "bili          0\n",
       "alk           0\n",
       "sgot          0\n",
       "albu          0\n",
       "protime       0\n",
       "gender        0\n",
       "steroid       0\n",
       "antivirals    0\n",
       "fatigue       0\n",
       "malaise       0\n",
       "anorexia      0\n",
       "liverBig      0\n",
       "liverFirm     0\n",
       "spleen        0\n",
       "spiders       0\n",
       "ascites       0\n",
       "varices       0\n",
       "histology     0\n",
       "dtype: int64"
      ]
     },
     "execution_count": 38,
     "metadata": {},
     "output_type": "execute_result"
    }
   ],
   "source": [
    "X_test.isna().sum()"
   ]
  },
  {
   "cell_type": "markdown",
   "metadata": {
    "papermill": {
     "duration": 0.04269,
     "end_time": "2021-03-23T01:54:13.720906",
     "exception": false,
     "start_time": "2021-03-23T01:54:13.678216",
     "status": "completed"
    },
    "tags": []
   },
   "source": [
    "#### Convert all the categorical columns to Integer Format before dummification (2.0 as 2 etc.)"
   ]
  },
  {
   "cell_type": "code",
   "execution_count": 39,
   "metadata": {
    "execution": {
     "iopub.execute_input": "2021-03-23T01:54:13.820444Z",
     "iopub.status.busy": "2021-03-23T01:54:13.819793Z",
     "iopub.status.idle": "2021-03-23T01:54:13.822331Z",
     "shell.execute_reply": "2021-03-23T01:54:13.822768Z"
    },
    "papermill": {
     "duration": 0.059586,
     "end_time": "2021-03-23T01:54:13.822988",
     "exception": false,
     "start_time": "2021-03-23T01:54:13.763402",
     "status": "completed"
    },
    "tags": []
   },
   "outputs": [],
   "source": [
    "# Train\n",
    "X_train[cat_cols] = X_train[cat_cols].astype('int')\n",
    "\n",
    "# Test\n",
    "X_test[cat_cols] = X_test[cat_cols].astype('int')"
   ]
  },
  {
   "cell_type": "markdown",
   "metadata": {
    "papermill": {
     "duration": 0.042444,
     "end_time": "2021-03-23T01:54:13.908132",
     "exception": false,
     "start_time": "2021-03-23T01:54:13.865688",
     "status": "completed"
    },
    "tags": []
   },
   "source": [
    "#### 12. Dummify the Categorical columns"
   ]
  },
  {
   "cell_type": "code",
   "execution_count": 40,
   "metadata": {
    "execution": {
     "iopub.execute_input": "2021-03-23T01:54:14.004430Z",
     "iopub.status.busy": "2021-03-23T01:54:14.003450Z",
     "iopub.status.idle": "2021-03-23T01:54:14.019612Z",
     "shell.execute_reply": "2021-03-23T01:54:14.019184Z"
    },
    "papermill": {
     "duration": 0.068831,
     "end_time": "2021-03-23T01:54:14.019728",
     "exception": false,
     "start_time": "2021-03-23T01:54:13.950897",
     "status": "completed"
    },
    "tags": []
   },
   "outputs": [],
   "source": [
    "## Convert Categorical Columns to Dummies\n",
    "# Train\n",
    "X_train = pd.get_dummies(X_train, columns=cat_cols, drop_first=True)\n",
    "\n",
    "# Test\n",
    "X_test = pd.get_dummies(X_test, columns=cat_cols, drop_first=True)"
   ]
  },
  {
   "cell_type": "code",
   "execution_count": 41,
   "metadata": {
    "execution": {
     "iopub.execute_input": "2021-03-23T01:54:14.110506Z",
     "iopub.status.busy": "2021-03-23T01:54:14.109761Z",
     "iopub.status.idle": "2021-03-23T01:54:14.113333Z",
     "shell.execute_reply": "2021-03-23T01:54:14.112908Z"
    },
    "papermill": {
     "duration": 0.050304,
     "end_time": "2021-03-23T01:54:14.113449",
     "exception": false,
     "start_time": "2021-03-23T01:54:14.063145",
     "status": "completed"
    },
    "tags": []
   },
   "outputs": [
    {
     "data": {
      "text/plain": [
       "Index(['age', 'bili', 'alk', 'sgot', 'albu', 'protime', 'gender_2',\n",
       "       'steroid_2', 'antivirals_2', 'fatigue_2', 'malaise_2', 'anorexia_2',\n",
       "       'liverBig_2', 'liverFirm_2', 'spleen_2', 'spiders_2', 'ascites_2',\n",
       "       'varices_2', 'histology_2'],\n",
       "      dtype='object')"
      ]
     },
     "execution_count": 41,
     "metadata": {},
     "output_type": "execute_result"
    }
   ],
   "source": [
    "X_train.columns"
   ]
  },
  {
   "cell_type": "code",
   "execution_count": 42,
   "metadata": {
    "execution": {
     "iopub.execute_input": "2021-03-23T01:54:14.205087Z",
     "iopub.status.busy": "2021-03-23T01:54:14.204274Z",
     "iopub.status.idle": "2021-03-23T01:54:14.207647Z",
     "shell.execute_reply": "2021-03-23T01:54:14.208074Z"
    },
    "papermill": {
     "duration": 0.051026,
     "end_time": "2021-03-23T01:54:14.208202",
     "exception": false,
     "start_time": "2021-03-23T01:54:14.157176",
     "status": "completed"
    },
    "tags": []
   },
   "outputs": [
    {
     "data": {
      "text/plain": [
       "Index(['age', 'bili', 'alk', 'sgot', 'albu', 'protime', 'gender_2',\n",
       "       'steroid_2', 'antivirals_2', 'fatigue_2', 'malaise_2', 'anorexia_2',\n",
       "       'liverBig_2', 'liverFirm_2', 'spleen_2', 'spiders_2', 'ascites_2',\n",
       "       'varices_2', 'histology_2'],\n",
       "      dtype='object')"
      ]
     },
     "execution_count": 42,
     "metadata": {},
     "output_type": "execute_result"
    }
   ],
   "source": [
    "X_test.columns"
   ]
  },
  {
   "cell_type": "markdown",
   "metadata": {
    "papermill": {
     "duration": 0.043075,
     "end_time": "2021-03-23T01:54:14.294924",
     "exception": false,
     "start_time": "2021-03-23T01:54:14.251849",
     "status": "completed"
    },
    "tags": []
   },
   "source": [
    "#### 13. Scale the numeric attributes [\"age\", \"bili\", \"alk\", \"sgot\", \"albu\", \"protime\"]"
   ]
  },
  {
   "cell_type": "code",
   "execution_count": 43,
   "metadata": {
    "execution": {
     "iopub.execute_input": "2021-03-23T01:54:14.386484Z",
     "iopub.status.busy": "2021-03-23T01:54:14.385779Z",
     "iopub.status.idle": "2021-03-23T01:54:14.388661Z",
     "shell.execute_reply": "2021-03-23T01:54:14.388163Z"
    },
    "papermill": {
     "duration": 0.049738,
     "end_time": "2021-03-23T01:54:14.388795",
     "exception": false,
     "start_time": "2021-03-23T01:54:14.339057",
     "status": "completed"
    },
    "tags": []
   },
   "outputs": [],
   "source": [
    "from sklearn.preprocessing import StandardScaler"
   ]
  },
  {
   "cell_type": "code",
   "execution_count": 44,
   "metadata": {
    "execution": {
     "iopub.execute_input": "2021-03-23T01:54:14.484368Z",
     "iopub.status.busy": "2021-03-23T01:54:14.483552Z",
     "iopub.status.idle": "2021-03-23T01:54:14.493904Z",
     "shell.execute_reply": "2021-03-23T01:54:14.493474Z"
    },
    "papermill": {
     "duration": 0.061592,
     "end_time": "2021-03-23T01:54:14.494019",
     "exception": false,
     "start_time": "2021-03-23T01:54:14.432427",
     "status": "completed"
    },
    "tags": []
   },
   "outputs": [],
   "source": [
    "#num_cols = [\"age\", \"bili\", \"alk\", \"sgot\", \"albu\", \"protime\"]\n",
    "scaler = StandardScaler()\n",
    "\n",
    "scaler.fit(X_train.loc[:,num_cols])\n",
    "\n",
    "# scale on train\n",
    "X_train.loc[:,num_cols] = scaler.transform(X_train.loc[:,num_cols])\n",
    "#X_train[num_cols] = scaler.transform(X_train[num_cols])\n",
    "\n",
    "# scale on test\n",
    "X_test.loc[:,num_cols] = scaler.transform(X_test.loc[:,num_cols])"
   ]
  },
  {
   "cell_type": "markdown",
   "metadata": {
    "papermill": {
     "duration": 0.043471,
     "end_time": "2021-03-23T01:54:14.581447",
     "exception": false,
     "start_time": "2021-03-23T01:54:14.537976",
     "status": "completed"
    },
    "tags": []
   },
   "source": [
    "## MODEL BUILDING - SVM"
   ]
  },
  {
   "cell_type": "code",
   "execution_count": 45,
   "metadata": {
    "execution": {
     "iopub.execute_input": "2021-03-23T01:54:14.672795Z",
     "iopub.status.busy": "2021-03-23T01:54:14.672101Z",
     "iopub.status.idle": "2021-03-23T01:54:14.674958Z",
     "shell.execute_reply": "2021-03-23T01:54:14.674426Z"
    },
    "papermill": {
     "duration": 0.049876,
     "end_time": "2021-03-23T01:54:14.675069",
     "exception": false,
     "start_time": "2021-03-23T01:54:14.625193",
     "status": "completed"
    },
    "tags": []
   },
   "outputs": [],
   "source": [
    "from sklearn.svm import SVC"
   ]
  },
  {
   "cell_type": "code",
   "execution_count": 46,
   "metadata": {
    "execution": {
     "iopub.execute_input": "2021-03-23T01:54:14.768239Z",
     "iopub.status.busy": "2021-03-23T01:54:14.767528Z",
     "iopub.status.idle": "2021-03-23T01:54:14.769904Z",
     "shell.execute_reply": "2021-03-23T01:54:14.770401Z"
    },
    "papermill": {
     "duration": 0.050388,
     "end_time": "2021-03-23T01:54:14.770530",
     "exception": false,
     "start_time": "2021-03-23T01:54:14.720142",
     "status": "completed"
    },
    "tags": []
   },
   "outputs": [],
   "source": [
    "# Create a SVC classifier using a linear kernel\n",
    "linear_svm = SVC(kernel='linear', C=1, random_state=0)"
   ]
  },
  {
   "cell_type": "code",
   "execution_count": 47,
   "metadata": {
    "execution": {
     "iopub.execute_input": "2021-03-23T01:54:14.865343Z",
     "iopub.status.busy": "2021-03-23T01:54:14.864594Z",
     "iopub.status.idle": "2021-03-23T01:54:14.870388Z",
     "shell.execute_reply": "2021-03-23T01:54:14.870890Z"
    },
    "papermill": {
     "duration": 0.056121,
     "end_time": "2021-03-23T01:54:14.871019",
     "exception": false,
     "start_time": "2021-03-23T01:54:14.814898",
     "status": "completed"
    },
    "tags": []
   },
   "outputs": [
    {
     "data": {
      "text/html": [
       "<style>#sk-container-id-3 {color: black;}#sk-container-id-3 pre{padding: 0;}#sk-container-id-3 div.sk-toggleable {background-color: white;}#sk-container-id-3 label.sk-toggleable__label {cursor: pointer;display: block;width: 100%;margin-bottom: 0;padding: 0.3em;box-sizing: border-box;text-align: center;}#sk-container-id-3 label.sk-toggleable__label-arrow:before {content: \"▸\";float: left;margin-right: 0.25em;color: #696969;}#sk-container-id-3 label.sk-toggleable__label-arrow:hover:before {color: black;}#sk-container-id-3 div.sk-estimator:hover label.sk-toggleable__label-arrow:before {color: black;}#sk-container-id-3 div.sk-toggleable__content {max-height: 0;max-width: 0;overflow: hidden;text-align: left;background-color: #f0f8ff;}#sk-container-id-3 div.sk-toggleable__content pre {margin: 0.2em;color: black;border-radius: 0.25em;background-color: #f0f8ff;}#sk-container-id-3 input.sk-toggleable__control:checked~div.sk-toggleable__content {max-height: 200px;max-width: 100%;overflow: auto;}#sk-container-id-3 input.sk-toggleable__control:checked~label.sk-toggleable__label-arrow:before {content: \"▾\";}#sk-container-id-3 div.sk-estimator input.sk-toggleable__control:checked~label.sk-toggleable__label {background-color: #d4ebff;}#sk-container-id-3 div.sk-label input.sk-toggleable__control:checked~label.sk-toggleable__label {background-color: #d4ebff;}#sk-container-id-3 input.sk-hidden--visually {border: 0;clip: rect(1px 1px 1px 1px);clip: rect(1px, 1px, 1px, 1px);height: 1px;margin: -1px;overflow: hidden;padding: 0;position: absolute;width: 1px;}#sk-container-id-3 div.sk-estimator {font-family: monospace;background-color: #f0f8ff;border: 1px dotted black;border-radius: 0.25em;box-sizing: border-box;margin-bottom: 0.5em;}#sk-container-id-3 div.sk-estimator:hover {background-color: #d4ebff;}#sk-container-id-3 div.sk-parallel-item::after {content: \"\";width: 100%;border-bottom: 1px solid gray;flex-grow: 1;}#sk-container-id-3 div.sk-label:hover label.sk-toggleable__label {background-color: #d4ebff;}#sk-container-id-3 div.sk-serial::before {content: \"\";position: absolute;border-left: 1px solid gray;box-sizing: border-box;top: 0;bottom: 0;left: 50%;z-index: 0;}#sk-container-id-3 div.sk-serial {display: flex;flex-direction: column;align-items: center;background-color: white;padding-right: 0.2em;padding-left: 0.2em;position: relative;}#sk-container-id-3 div.sk-item {position: relative;z-index: 1;}#sk-container-id-3 div.sk-parallel {display: flex;align-items: stretch;justify-content: center;background-color: white;position: relative;}#sk-container-id-3 div.sk-item::before, #sk-container-id-3 div.sk-parallel-item::before {content: \"\";position: absolute;border-left: 1px solid gray;box-sizing: border-box;top: 0;bottom: 0;left: 50%;z-index: -1;}#sk-container-id-3 div.sk-parallel-item {display: flex;flex-direction: column;z-index: 1;position: relative;background-color: white;}#sk-container-id-3 div.sk-parallel-item:first-child::after {align-self: flex-end;width: 50%;}#sk-container-id-3 div.sk-parallel-item:last-child::after {align-self: flex-start;width: 50%;}#sk-container-id-3 div.sk-parallel-item:only-child::after {width: 0;}#sk-container-id-3 div.sk-dashed-wrapped {border: 1px dashed gray;margin: 0 0.4em 0.5em 0.4em;box-sizing: border-box;padding-bottom: 0.4em;background-color: white;}#sk-container-id-3 div.sk-label label {font-family: monospace;font-weight: bold;display: inline-block;line-height: 1.2em;}#sk-container-id-3 div.sk-label-container {text-align: center;}#sk-container-id-3 div.sk-container {/* jupyter's `normalize.less` sets `[hidden] { display: none; }` but bootstrap.min.css set `[hidden] { display: none !important; }` so we also need the `!important` here to be able to override the default hidden behavior on the sphinx rendered scikit-learn.org. See: https://github.com/scikit-learn/scikit-learn/issues/21755 */display: inline-block !important;position: relative;}#sk-container-id-3 div.sk-text-repr-fallback {display: none;}</style><div id=\"sk-container-id-3\" class=\"sk-top-container\"><div class=\"sk-text-repr-fallback\"><pre>SVC(C=1, kernel=&#x27;linear&#x27;, random_state=0)</pre><b>In a Jupyter environment, please rerun this cell to show the HTML representation or trust the notebook. <br />On GitHub, the HTML representation is unable to render, please try loading this page with nbviewer.org.</b></div><div class=\"sk-container\" hidden><div class=\"sk-item\"><div class=\"sk-estimator sk-toggleable\"><input class=\"sk-toggleable__control sk-hidden--visually\" id=\"sk-estimator-id-3\" type=\"checkbox\" checked><label for=\"sk-estimator-id-3\" class=\"sk-toggleable__label sk-toggleable__label-arrow\">SVC</label><div class=\"sk-toggleable__content\"><pre>SVC(C=1, kernel=&#x27;linear&#x27;, random_state=0)</pre></div></div></div></div></div>"
      ],
      "text/plain": [
       "SVC(C=1, kernel='linear', random_state=0)"
      ]
     },
     "execution_count": 47,
     "metadata": {},
     "output_type": "execute_result"
    }
   ],
   "source": [
    "# Train the classifier\n",
    "linear_svm.fit(X=X_train, y= y_train)"
   ]
  },
  {
   "cell_type": "code",
   "execution_count": 48,
   "metadata": {
    "execution": {
     "iopub.execute_input": "2021-03-23T01:54:14.967574Z",
     "iopub.status.busy": "2021-03-23T01:54:14.966771Z",
     "iopub.status.idle": "2021-03-23T01:54:14.987544Z",
     "shell.execute_reply": "2021-03-23T01:54:14.987042Z"
    },
    "papermill": {
     "duration": 0.072494,
     "end_time": "2021-03-23T01:54:14.987651",
     "exception": false,
     "start_time": "2021-03-23T01:54:14.915157",
     "status": "completed"
    },
    "tags": []
   },
   "outputs": [
    {
     "name": "stdout",
     "output_type": "stream",
     "text": [
      "TRAIN Conf Matrix : \n",
      " [[17  9]\n",
      " [ 4 94]]\n",
      "\n",
      "TRAIN DATA ACCURACY 0.8951612903225806\n",
      "\n",
      "Train data f1-score for class '1' 0.7234042553191489\n",
      "\n",
      "Train data f1-score for class '2' 0.9353233830845772\n",
      "\n",
      "\n",
      "--------------------------------------\n",
      "\n",
      "\n",
      "TEST Conf Matrix : \n",
      " [[ 4  2]\n",
      " [ 1 24]]\n",
      "\n",
      "TEST DATA ACCURACY 0.9032258064516129\n",
      "\n",
      "Test data f1-score for class '1' 0.7272727272727272\n",
      "\n",
      "Test data f1-score for class '2' 0.9411764705882353\n"
     ]
    }
   ],
   "source": [
    "## Predict\n",
    "train_predictions = linear_svm.predict(X_train)\n",
    "test_predictions = linear_svm.predict(X_test)\n",
    "\n",
    "### Train data accuracy\n",
    "from sklearn.metrics import accuracy_score,f1_score,confusion_matrix\n",
    "\n",
    "print(\"TRAIN Conf Matrix : \\n\", confusion_matrix(y_train, train_predictions))\n",
    "print(\"\\nTRAIN DATA ACCURACY\",accuracy_score(y_train,train_predictions))\n",
    "print(\"\\nTrain data f1-score for class '1'\",f1_score(y_train,train_predictions,pos_label=1)) \n",
    "\n",
    "# This parameter indicates which label should be treated as the positive class in the calculation. \n",
    "# By default, the positive class is usually set to 1, but you can change it to any other class label present in your data.\n",
    "# This is especially important in binary classification problems where the labels might not be 0 and 1 (e.g., \"spam\" and \"not spam\").\n",
    "print(\"\\nTrain data f1-score for class '2'\",f1_score(y_train,train_predictions,pos_label=2))\n",
    "\n",
    "### Test data accuracy\n",
    "print(\"\\n\\n--------------------------------------\\n\\n\")\n",
    "\n",
    "print(\"TEST Conf Matrix : \\n\", confusion_matrix(y_test, test_predictions))\n",
    "print(\"\\nTEST DATA ACCURACY\",accuracy_score(y_test,test_predictions))\n",
    "print(\"\\nTest data f1-score for class '1'\",f1_score(y_test,test_predictions,pos_label=1))\n",
    "print(\"\\nTest data f1-score for class '2'\",f1_score(y_test,test_predictions,pos_label=2))"
   ]
  },
  {
   "cell_type": "markdown",
   "metadata": {
    "papermill": {
     "duration": 0.045787,
     "end_time": "2021-03-23T01:54:15.078788",
     "exception": false,
     "start_time": "2021-03-23T01:54:15.033001",
     "status": "completed"
    },
    "tags": []
   },
   "source": [
    "####  Non Linear SVM (RBF)"
   ]
  },
  {
   "cell_type": "markdown",
   "metadata": {
    "papermill": {
     "duration": 0.044588,
     "end_time": "2021-03-23T01:54:15.168552",
     "exception": false,
     "start_time": "2021-03-23T01:54:15.123964",
     "status": "completed"
    },
    "tags": []
   },
   "source": [
    "Radial Basis Function is a commonly used kernel in SVC:<br>\n",
    "\n",
    "\n",
    "where <math xmlns=\"http://www.w3.org/1998/Math/MathML\">\n",
    "  <mrow class=\"MJX-TeXAtom-ORD\">\n",
    "    <mo stretchy=\"false\">|</mo>\n",
    "  </mrow>\n",
    "  <mrow class=\"MJX-TeXAtom-ORD\">\n",
    "    <mo stretchy=\"false\">|</mo>\n",
    "  </mrow>\n",
    "  <mrow class=\"MJX-TeXAtom-ORD\">\n",
    "    <mi mathvariant=\"bold\">x</mi>\n",
    "      <sub>i</sub>\n",
    "  </mrow>\n",
    "  <mo>&#x2212;<!-- − --></mo>\n",
    "  <mrow class=\"MJX-TeXAtom-ORD\">\n",
    "    <msup>\n",
    "      <mi mathvariant=\"bold\">x</mi>\n",
    "      <sub>j</sub>\n",
    "    </msup>\n",
    "  </mrow>\n",
    "  <mrow class=\"MJX-TeXAtom-ORD\">\n",
    "    <mo stretchy=\"false\">|</mo>\n",
    "  </mrow>\n",
    "  <msup>\n",
    "    <mrow class=\"MJX-TeXAtom-ORD\">\n",
    "      <mo stretchy=\"false\">|</mo>\n",
    "    </mrow>\n",
    "    <mrow class=\"MJX-TeXAtom-ORD\">\n",
    "      <sup>2</sup>\n",
    "    </mrow>\n",
    "  </msup>\n",
    "</math>  is the squared Euclidean distance between two data points x<sub>i</sub> and x<sub>j</sub>\n",
    "\n",
    "It is only important to know that an SVC classifier using an RBF kernel has two parameters: gamma and C.\n",
    "\n",
    "<strong>Gamma:</strong>\n",
    "\n",
    "- Gamma is a parameter of the RBF kernel and can be thought of as the ‘spread’ of the kernel and therefore the decision region. When gamma is low, the ‘curve’ of the decision boundary is very low and thus the decision region is very broad. When gamma is high, the ‘curve’ of the decision boundary is high, which creates islands of decision-boundaries around data points.\n",
    "\n",
    "<strong>C:</strong>\n",
    "\n",
    "- C is a parameter of the SVC learner and is the penalty for misclassifying a data point. When C is small, the classifier is okay with misclassified data points (high bias, low variance). When C is large, the classifier is heavily penalized for misclassified data and therefore bends over backwards avoid any misclassified data points (low bias, high variance).\n",
    "\n",
    "\n",
    "<strong>Kernel Trick:</strong><br>\n",
    "Image you have a two-dimensional non-linearly separable dataset, you would like to classify it using SVM. It looks like not possible because the data is not linearly separable. However, if we transform the two-dimensional data to a higher dimension, say, three-dimension or even ten-dimension, we would be able to find a hyperplane to separate the data.\n",
    "\n",
    "<img src=\"kernel_trick.png\">\n",
    "\n",
    "The problem is, if we have a large dataset containing, say, millions of examples, the transformation will take a long time to run.<br>\n",
    "To solve this problem, we actually only care about the result of the dot product (x<sub>i</sub>.x<sub>j</sub>)<br>\n",
    "<br>If there is a function which could calculate the dot product and the result is the same as when we transform the data into higher dimension, it would be fantastic. This function is called a kernel function.<br>\n",
    "<br>In essence, what the kernel trick does for us is to offer a more efficient and less expensive way to transform data into higher dimensions."
   ]
  },
  {
   "cell_type": "code",
   "execution_count": 49,
   "metadata": {
    "execution": {
     "iopub.execute_input": "2021-03-23T01:54:15.264367Z",
     "iopub.status.busy": "2021-03-23T01:54:15.263631Z",
     "iopub.status.idle": "2021-03-23T01:54:15.267189Z",
     "shell.execute_reply": "2021-03-23T01:54:15.266775Z"
    },
    "papermill": {
     "duration": 0.053716,
     "end_time": "2021-03-23T01:54:15.267305",
     "exception": false,
     "start_time": "2021-03-23T01:54:15.213589",
     "status": "completed"
    },
    "tags": []
   },
   "outputs": [
    {
     "data": {
      "text/html": [
       "<style>#sk-container-id-4 {color: black;}#sk-container-id-4 pre{padding: 0;}#sk-container-id-4 div.sk-toggleable {background-color: white;}#sk-container-id-4 label.sk-toggleable__label {cursor: pointer;display: block;width: 100%;margin-bottom: 0;padding: 0.3em;box-sizing: border-box;text-align: center;}#sk-container-id-4 label.sk-toggleable__label-arrow:before {content: \"▸\";float: left;margin-right: 0.25em;color: #696969;}#sk-container-id-4 label.sk-toggleable__label-arrow:hover:before {color: black;}#sk-container-id-4 div.sk-estimator:hover label.sk-toggleable__label-arrow:before {color: black;}#sk-container-id-4 div.sk-toggleable__content {max-height: 0;max-width: 0;overflow: hidden;text-align: left;background-color: #f0f8ff;}#sk-container-id-4 div.sk-toggleable__content pre {margin: 0.2em;color: black;border-radius: 0.25em;background-color: #f0f8ff;}#sk-container-id-4 input.sk-toggleable__control:checked~div.sk-toggleable__content {max-height: 200px;max-width: 100%;overflow: auto;}#sk-container-id-4 input.sk-toggleable__control:checked~label.sk-toggleable__label-arrow:before {content: \"▾\";}#sk-container-id-4 div.sk-estimator input.sk-toggleable__control:checked~label.sk-toggleable__label {background-color: #d4ebff;}#sk-container-id-4 div.sk-label input.sk-toggleable__control:checked~label.sk-toggleable__label {background-color: #d4ebff;}#sk-container-id-4 input.sk-hidden--visually {border: 0;clip: rect(1px 1px 1px 1px);clip: rect(1px, 1px, 1px, 1px);height: 1px;margin: -1px;overflow: hidden;padding: 0;position: absolute;width: 1px;}#sk-container-id-4 div.sk-estimator {font-family: monospace;background-color: #f0f8ff;border: 1px dotted black;border-radius: 0.25em;box-sizing: border-box;margin-bottom: 0.5em;}#sk-container-id-4 div.sk-estimator:hover {background-color: #d4ebff;}#sk-container-id-4 div.sk-parallel-item::after {content: \"\";width: 100%;border-bottom: 1px solid gray;flex-grow: 1;}#sk-container-id-4 div.sk-label:hover label.sk-toggleable__label {background-color: #d4ebff;}#sk-container-id-4 div.sk-serial::before {content: \"\";position: absolute;border-left: 1px solid gray;box-sizing: border-box;top: 0;bottom: 0;left: 50%;z-index: 0;}#sk-container-id-4 div.sk-serial {display: flex;flex-direction: column;align-items: center;background-color: white;padding-right: 0.2em;padding-left: 0.2em;position: relative;}#sk-container-id-4 div.sk-item {position: relative;z-index: 1;}#sk-container-id-4 div.sk-parallel {display: flex;align-items: stretch;justify-content: center;background-color: white;position: relative;}#sk-container-id-4 div.sk-item::before, #sk-container-id-4 div.sk-parallel-item::before {content: \"\";position: absolute;border-left: 1px solid gray;box-sizing: border-box;top: 0;bottom: 0;left: 50%;z-index: -1;}#sk-container-id-4 div.sk-parallel-item {display: flex;flex-direction: column;z-index: 1;position: relative;background-color: white;}#sk-container-id-4 div.sk-parallel-item:first-child::after {align-self: flex-end;width: 50%;}#sk-container-id-4 div.sk-parallel-item:last-child::after {align-self: flex-start;width: 50%;}#sk-container-id-4 div.sk-parallel-item:only-child::after {width: 0;}#sk-container-id-4 div.sk-dashed-wrapped {border: 1px dashed gray;margin: 0 0.4em 0.5em 0.4em;box-sizing: border-box;padding-bottom: 0.4em;background-color: white;}#sk-container-id-4 div.sk-label label {font-family: monospace;font-weight: bold;display: inline-block;line-height: 1.2em;}#sk-container-id-4 div.sk-label-container {text-align: center;}#sk-container-id-4 div.sk-container {/* jupyter's `normalize.less` sets `[hidden] { display: none; }` but bootstrap.min.css set `[hidden] { display: none !important; }` so we also need the `!important` here to be able to override the default hidden behavior on the sphinx rendered scikit-learn.org. See: https://github.com/scikit-learn/scikit-learn/issues/21755 */display: inline-block !important;position: relative;}#sk-container-id-4 div.sk-text-repr-fallback {display: none;}</style><div id=\"sk-container-id-4\" class=\"sk-top-container\"><div class=\"sk-text-repr-fallback\"><pre>SVC(C=1, gamma=0.01, random_state=0)</pre><b>In a Jupyter environment, please rerun this cell to show the HTML representation or trust the notebook. <br />On GitHub, the HTML representation is unable to render, please try loading this page with nbviewer.org.</b></div><div class=\"sk-container\" hidden><div class=\"sk-item\"><div class=\"sk-estimator sk-toggleable\"><input class=\"sk-toggleable__control sk-hidden--visually\" id=\"sk-estimator-id-4\" type=\"checkbox\" checked><label for=\"sk-estimator-id-4\" class=\"sk-toggleable__label sk-toggleable__label-arrow\">SVC</label><div class=\"sk-toggleable__content\"><pre>SVC(C=1, gamma=0.01, random_state=0)</pre></div></div></div></div></div>"
      ],
      "text/plain": [
       "SVC(C=1, gamma=0.01, random_state=0)"
      ]
     },
     "execution_count": 49,
     "metadata": {},
     "output_type": "execute_result"
    }
   ],
   "source": [
    "## Create an SVC object and print it to see the arguments\n",
    "svc = SVC(kernel='rbf', random_state=0, gamma=0.01, C=1)\n",
    "svc"
   ]
  },
  {
   "cell_type": "code",
   "execution_count": 50,
   "metadata": {
    "execution": {
     "iopub.execute_input": "2021-03-23T01:54:15.365118Z",
     "iopub.status.busy": "2021-03-23T01:54:15.364356Z",
     "iopub.status.idle": "2021-03-23T01:54:15.370302Z",
     "shell.execute_reply": "2021-03-23T01:54:15.369789Z"
    },
    "papermill": {
     "duration": 0.057692,
     "end_time": "2021-03-23T01:54:15.370412",
     "exception": false,
     "start_time": "2021-03-23T01:54:15.312720",
     "status": "completed"
    },
    "tags": []
   },
   "outputs": [
    {
     "data": {
      "text/html": [
       "<style>#sk-container-id-5 {color: black;}#sk-container-id-5 pre{padding: 0;}#sk-container-id-5 div.sk-toggleable {background-color: white;}#sk-container-id-5 label.sk-toggleable__label {cursor: pointer;display: block;width: 100%;margin-bottom: 0;padding: 0.3em;box-sizing: border-box;text-align: center;}#sk-container-id-5 label.sk-toggleable__label-arrow:before {content: \"▸\";float: left;margin-right: 0.25em;color: #696969;}#sk-container-id-5 label.sk-toggleable__label-arrow:hover:before {color: black;}#sk-container-id-5 div.sk-estimator:hover label.sk-toggleable__label-arrow:before {color: black;}#sk-container-id-5 div.sk-toggleable__content {max-height: 0;max-width: 0;overflow: hidden;text-align: left;background-color: #f0f8ff;}#sk-container-id-5 div.sk-toggleable__content pre {margin: 0.2em;color: black;border-radius: 0.25em;background-color: #f0f8ff;}#sk-container-id-5 input.sk-toggleable__control:checked~div.sk-toggleable__content {max-height: 200px;max-width: 100%;overflow: auto;}#sk-container-id-5 input.sk-toggleable__control:checked~label.sk-toggleable__label-arrow:before {content: \"▾\";}#sk-container-id-5 div.sk-estimator input.sk-toggleable__control:checked~label.sk-toggleable__label {background-color: #d4ebff;}#sk-container-id-5 div.sk-label input.sk-toggleable__control:checked~label.sk-toggleable__label {background-color: #d4ebff;}#sk-container-id-5 input.sk-hidden--visually {border: 0;clip: rect(1px 1px 1px 1px);clip: rect(1px, 1px, 1px, 1px);height: 1px;margin: -1px;overflow: hidden;padding: 0;position: absolute;width: 1px;}#sk-container-id-5 div.sk-estimator {font-family: monospace;background-color: #f0f8ff;border: 1px dotted black;border-radius: 0.25em;box-sizing: border-box;margin-bottom: 0.5em;}#sk-container-id-5 div.sk-estimator:hover {background-color: #d4ebff;}#sk-container-id-5 div.sk-parallel-item::after {content: \"\";width: 100%;border-bottom: 1px solid gray;flex-grow: 1;}#sk-container-id-5 div.sk-label:hover label.sk-toggleable__label {background-color: #d4ebff;}#sk-container-id-5 div.sk-serial::before {content: \"\";position: absolute;border-left: 1px solid gray;box-sizing: border-box;top: 0;bottom: 0;left: 50%;z-index: 0;}#sk-container-id-5 div.sk-serial {display: flex;flex-direction: column;align-items: center;background-color: white;padding-right: 0.2em;padding-left: 0.2em;position: relative;}#sk-container-id-5 div.sk-item {position: relative;z-index: 1;}#sk-container-id-5 div.sk-parallel {display: flex;align-items: stretch;justify-content: center;background-color: white;position: relative;}#sk-container-id-5 div.sk-item::before, #sk-container-id-5 div.sk-parallel-item::before {content: \"\";position: absolute;border-left: 1px solid gray;box-sizing: border-box;top: 0;bottom: 0;left: 50%;z-index: -1;}#sk-container-id-5 div.sk-parallel-item {display: flex;flex-direction: column;z-index: 1;position: relative;background-color: white;}#sk-container-id-5 div.sk-parallel-item:first-child::after {align-self: flex-end;width: 50%;}#sk-container-id-5 div.sk-parallel-item:last-child::after {align-self: flex-start;width: 50%;}#sk-container-id-5 div.sk-parallel-item:only-child::after {width: 0;}#sk-container-id-5 div.sk-dashed-wrapped {border: 1px dashed gray;margin: 0 0.4em 0.5em 0.4em;box-sizing: border-box;padding-bottom: 0.4em;background-color: white;}#sk-container-id-5 div.sk-label label {font-family: monospace;font-weight: bold;display: inline-block;line-height: 1.2em;}#sk-container-id-5 div.sk-label-container {text-align: center;}#sk-container-id-5 div.sk-container {/* jupyter's `normalize.less` sets `[hidden] { display: none; }` but bootstrap.min.css set `[hidden] { display: none !important; }` so we also need the `!important` here to be able to override the default hidden behavior on the sphinx rendered scikit-learn.org. See: https://github.com/scikit-learn/scikit-learn/issues/21755 */display: inline-block !important;position: relative;}#sk-container-id-5 div.sk-text-repr-fallback {display: none;}</style><div id=\"sk-container-id-5\" class=\"sk-top-container\"><div class=\"sk-text-repr-fallback\"><pre>SVC(C=1, gamma=0.01, random_state=0)</pre><b>In a Jupyter environment, please rerun this cell to show the HTML representation or trust the notebook. <br />On GitHub, the HTML representation is unable to render, please try loading this page with nbviewer.org.</b></div><div class=\"sk-container\" hidden><div class=\"sk-item\"><div class=\"sk-estimator sk-toggleable\"><input class=\"sk-toggleable__control sk-hidden--visually\" id=\"sk-estimator-id-5\" type=\"checkbox\" checked><label for=\"sk-estimator-id-5\" class=\"sk-toggleable__label sk-toggleable__label-arrow\">SVC</label><div class=\"sk-toggleable__content\"><pre>SVC(C=1, gamma=0.01, random_state=0)</pre></div></div></div></div></div>"
      ],
      "text/plain": [
       "SVC(C=1, gamma=0.01, random_state=0)"
      ]
     },
     "execution_count": 50,
     "metadata": {},
     "output_type": "execute_result"
    }
   ],
   "source": [
    "## Train the model\n",
    "svc.fit(X=X_train, y= y_train)"
   ]
  },
  {
   "cell_type": "code",
   "execution_count": 51,
   "metadata": {
    "execution": {
     "iopub.execute_input": "2021-03-23T01:54:15.470049Z",
     "iopub.status.busy": "2021-03-23T01:54:15.469211Z",
     "iopub.status.idle": "2021-03-23T01:54:15.487328Z",
     "shell.execute_reply": "2021-03-23T01:54:15.487916Z"
    },
    "papermill": {
     "duration": 0.07239,
     "end_time": "2021-03-23T01:54:15.488094",
     "exception": false,
     "start_time": "2021-03-23T01:54:15.415704",
     "status": "completed"
    },
    "tags": []
   },
   "outputs": [
    {
     "name": "stdout",
     "output_type": "stream",
     "text": [
      "TRAIN Conf Matrix : \n",
      " [[ 5 21]\n",
      " [ 0 98]]\n",
      "\n",
      "TRAIN DATA ACCURACY 0.8306451612903226\n",
      "\n",
      "Train data f1-score for class '1' 0.32258064516129037\n",
      "\n",
      "Train data f1-score for class '2' 0.9032258064516129\n",
      "\n",
      "\n",
      "--------------------------------------\n",
      "\n",
      "\n",
      "TEST Conf Matrix : \n",
      " [[ 1  5]\n",
      " [ 0 25]]\n",
      "\n",
      "TEST DATA ACCURACY 0.8387096774193549\n",
      "\n",
      "Test data f1-score for class '1' 0.2857142857142857\n",
      "\n",
      "Test data f1-score for class '2' 0.9090909090909091\n"
     ]
    }
   ],
   "source": [
    "## Predict\n",
    "train_predictions = svc.predict(X_train)\n",
    "test_predictions = svc.predict(X_test)\n",
    "\n",
    "### Train data accuracy\n",
    "\n",
    "print(\"TRAIN Conf Matrix : \\n\", confusion_matrix(y_train, train_predictions))\n",
    "print(\"\\nTRAIN DATA ACCURACY\",accuracy_score(y_train,train_predictions))\n",
    "print(\"\\nTrain data f1-score for class '1'\",f1_score(y_train,train_predictions,pos_label=1))\n",
    "print(\"\\nTrain data f1-score for class '2'\",f1_score(y_train,train_predictions,pos_label=2))\n",
    "\n",
    "### Test data accuracy\n",
    "print(\"\\n\\n--------------------------------------\\n\\n\")\n",
    "\n",
    "print(\"TEST Conf Matrix : \\n\", confusion_matrix(y_test, test_predictions))\n",
    "print(\"\\nTEST DATA ACCURACY\",accuracy_score(y_test,test_predictions))\n",
    "print(\"\\nTest data f1-score for class '1'\",f1_score(y_test,test_predictions,pos_label=1))\n",
    "print(\"\\nTest data f1-score for class '2'\",f1_score(y_test,test_predictions,pos_label=2))"
   ]
  },
  {
   "cell_type": "markdown",
   "metadata": {
    "papermill": {
     "duration": 0.045684,
     "end_time": "2021-03-23T01:54:15.580370",
     "exception": false,
     "start_time": "2021-03-23T01:54:15.534686",
     "status": "completed"
    },
    "tags": []
   },
   "source": [
    "### SVM with Grid Search for Paramater Tuning"
   ]
  },
  {
   "cell_type": "code",
   "execution_count": 52,
   "metadata": {
    "execution": {
     "iopub.execute_input": "2021-03-23T01:54:15.678097Z",
     "iopub.status.busy": "2021-03-23T01:54:15.677321Z",
     "iopub.status.idle": "2021-03-23T01:54:15.679962Z",
     "shell.execute_reply": "2021-03-23T01:54:15.679545Z"
    },
    "papermill": {
     "duration": 0.053999,
     "end_time": "2021-03-23T01:54:15.680075",
     "exception": false,
     "start_time": "2021-03-23T01:54:15.626076",
     "status": "completed"
    },
    "tags": []
   },
   "outputs": [],
   "source": [
    "## Use Grid Search for parameter tuning\n",
    "\n",
    "from sklearn.model_selection import GridSearchCV\n",
    "\n",
    "svc_grid = SVC()\n",
    " \n",
    "param_grid = { \n",
    "                'C': [0.001, 0.01, 0.1, 1, 10, 100 ],\n",
    "                'gamma': [0, 0.0001, 0.001, 0.01, 0.1, 1, 10, 100], \n",
    "                'kernel':['linear', 'rbf', 'poly' ]\n",
    "             }\n",
    "\n",
    "svc_cv_grid = GridSearchCV(estimator = svc_grid, param_grid = param_grid, cv = 5, verbose=3)"
   ]
  },
  {
   "cell_type": "code",
   "execution_count": 53,
   "metadata": {
    "execution": {
     "iopub.execute_input": "2021-03-23T01:54:15.777989Z",
     "iopub.status.busy": "2021-03-23T01:54:15.777169Z",
     "iopub.status.idle": "2021-03-23T01:54:20.946400Z",
     "shell.execute_reply": "2021-03-23T01:54:20.946985Z"
    },
    "papermill": {
     "duration": 5.221163,
     "end_time": "2021-03-23T01:54:20.947157",
     "exception": false,
     "start_time": "2021-03-23T01:54:15.725994",
     "status": "completed"
    },
    "tags": []
   },
   "outputs": [
    {
     "name": "stdout",
     "output_type": "stream",
     "text": [
      "Fitting 5 folds for each of 144 candidates, totalling 720 fits\n",
      "[CV 1/5] END ...C=0.001, gamma=0, kernel=linear;, score=0.760 total time=   0.0s\n",
      "[CV 2/5] END ...C=0.001, gamma=0, kernel=linear;, score=0.800 total time=   0.0s\n",
      "[CV 3/5] END ...C=0.001, gamma=0, kernel=linear;, score=0.800 total time=   0.0s\n",
      "[CV 4/5] END ...C=0.001, gamma=0, kernel=linear;, score=0.800 total time=   0.0s\n",
      "[CV 5/5] END ...C=0.001, gamma=0, kernel=linear;, score=0.792 total time=   0.0s\n",
      "[CV 1/5] END ......C=0.001, gamma=0, kernel=rbf;, score=0.760 total time=   0.0s\n",
      "[CV 2/5] END ......C=0.001, gamma=0, kernel=rbf;, score=0.800 total time=   0.0s\n",
      "[CV 3/5] END ......C=0.001, gamma=0, kernel=rbf;, score=0.800 total time=   0.0s\n",
      "[CV 4/5] END ......C=0.001, gamma=0, kernel=rbf;, score=0.800 total time=   0.0s\n",
      "[CV 5/5] END ......C=0.001, gamma=0, kernel=rbf;, score=0.792 total time=   0.0s\n",
      "[CV 1/5] END .....C=0.001, gamma=0, kernel=poly;, score=0.760 total time=   0.0s\n",
      "[CV 2/5] END .....C=0.001, gamma=0, kernel=poly;, score=0.800 total time=   0.0s\n",
      "[CV 3/5] END .....C=0.001, gamma=0, kernel=poly;, score=0.800 total time=   0.0s\n",
      "[CV 4/5] END .....C=0.001, gamma=0, kernel=poly;, score=0.800 total time=   0.0s\n",
      "[CV 5/5] END .....C=0.001, gamma=0, kernel=poly;, score=0.792 total time=   0.0s\n",
      "[CV 1/5] END C=0.001, gamma=0.0001, kernel=linear;, score=0.760 total time=   0.0s\n",
      "[CV 2/5] END C=0.001, gamma=0.0001, kernel=linear;, score=0.800 total time=   0.0s\n",
      "[CV 3/5] END C=0.001, gamma=0.0001, kernel=linear;, score=0.800 total time=   0.0s\n"
     ]
    },
    {
     "name": "stdout",
     "output_type": "stream",
     "text": [
      "[CV 4/5] END C=0.001, gamma=0.0001, kernel=linear;, score=0.800 total time=   0.0s\n",
      "[CV 5/5] END C=0.001, gamma=0.0001, kernel=linear;, score=0.792 total time=   0.0s\n",
      "[CV 1/5] END .C=0.001, gamma=0.0001, kernel=rbf;, score=0.760 total time=   0.0s\n",
      "[CV 2/5] END .C=0.001, gamma=0.0001, kernel=rbf;, score=0.800 total time=   0.0s\n",
      "[CV 3/5] END .C=0.001, gamma=0.0001, kernel=rbf;, score=0.800 total time=   0.0s\n",
      "[CV 4/5] END .C=0.001, gamma=0.0001, kernel=rbf;, score=0.800 total time=   0.0s\n",
      "[CV 5/5] END .C=0.001, gamma=0.0001, kernel=rbf;, score=0.792 total time=   0.0s\n",
      "[CV 1/5] END C=0.001, gamma=0.0001, kernel=poly;, score=0.760 total time=   0.0s\n",
      "[CV 2/5] END C=0.001, gamma=0.0001, kernel=poly;, score=0.800 total time=   0.0s\n",
      "[CV 3/5] END C=0.001, gamma=0.0001, kernel=poly;, score=0.800 total time=   0.0s\n",
      "[CV 4/5] END C=0.001, gamma=0.0001, kernel=poly;, score=0.800 total time=   0.0s\n",
      "[CV 5/5] END C=0.001, gamma=0.0001, kernel=poly;, score=0.792 total time=   0.0s\n",
      "[CV 1/5] END C=0.001, gamma=0.001, kernel=linear;, score=0.760 total time=   0.0s\n",
      "[CV 2/5] END C=0.001, gamma=0.001, kernel=linear;, score=0.800 total time=   0.0s\n",
      "[CV 3/5] END C=0.001, gamma=0.001, kernel=linear;, score=0.800 total time=   0.0s\n",
      "[CV 4/5] END C=0.001, gamma=0.001, kernel=linear;, score=0.800 total time=   0.0s\n",
      "[CV 5/5] END C=0.001, gamma=0.001, kernel=linear;, score=0.792 total time=   0.0s\n",
      "[CV 1/5] END ..C=0.001, gamma=0.001, kernel=rbf;, score=0.760 total time=   0.0s\n",
      "[CV 2/5] END ..C=0.001, gamma=0.001, kernel=rbf;, score=0.800 total time=   0.0s\n",
      "[CV 3/5] END ..C=0.001, gamma=0.001, kernel=rbf;, score=0.800 total time=   0.0s\n",
      "[CV 4/5] END ..C=0.001, gamma=0.001, kernel=rbf;, score=0.800 total time=   0.0s\n",
      "[CV 5/5] END ..C=0.001, gamma=0.001, kernel=rbf;, score=0.792 total time=   0.0s\n",
      "[CV 1/5] END .C=0.001, gamma=0.001, kernel=poly;, score=0.760 total time=   0.0s\n",
      "[CV 2/5] END .C=0.001, gamma=0.001, kernel=poly;, score=0.800 total time=   0.0s\n",
      "[CV 3/5] END .C=0.001, gamma=0.001, kernel=poly;, score=0.800 total time=   0.0s\n",
      "[CV 4/5] END .C=0.001, gamma=0.001, kernel=poly;, score=0.800 total time=   0.0s\n",
      "[CV 5/5] END .C=0.001, gamma=0.001, kernel=poly;, score=0.792 total time=   0.0s\n",
      "[CV 1/5] END C=0.001, gamma=0.01, kernel=linear;, score=0.760 total time=   0.0s\n",
      "[CV 2/5] END C=0.001, gamma=0.01, kernel=linear;, score=0.800 total time=   0.0s\n",
      "[CV 3/5] END C=0.001, gamma=0.01, kernel=linear;, score=0.800 total time=   0.0s\n",
      "[CV 4/5] END C=0.001, gamma=0.01, kernel=linear;, score=0.800 total time=   0.0s\n",
      "[CV 5/5] END C=0.001, gamma=0.01, kernel=linear;, score=0.792 total time=   0.0s\n",
      "[CV 1/5] END ...C=0.001, gamma=0.01, kernel=rbf;, score=0.760 total time=   0.0s\n",
      "[CV 2/5] END ...C=0.001, gamma=0.01, kernel=rbf;, score=0.800 total time=   0.0s\n",
      "[CV 3/5] END ...C=0.001, gamma=0.01, kernel=rbf;, score=0.800 total time=   0.0s\n",
      "[CV 4/5] END ...C=0.001, gamma=0.01, kernel=rbf;, score=0.800 total time=   0.0s\n",
      "[CV 5/5] END ...C=0.001, gamma=0.01, kernel=rbf;, score=0.792 total time=   0.0s\n",
      "[CV 1/5] END ..C=0.001, gamma=0.01, kernel=poly;, score=0.760 total time=   0.0s\n",
      "[CV 2/5] END ..C=0.001, gamma=0.01, kernel=poly;, score=0.800 total time=   0.0s\n",
      "[CV 3/5] END ..C=0.001, gamma=0.01, kernel=poly;, score=0.800 total time=   0.0s\n",
      "[CV 4/5] END ..C=0.001, gamma=0.01, kernel=poly;, score=0.800 total time=   0.0s\n",
      "[CV 5/5] END ..C=0.001, gamma=0.01, kernel=poly;, score=0.792 total time=   0.0s\n",
      "[CV 1/5] END .C=0.001, gamma=0.1, kernel=linear;, score=0.760 total time=   0.0s\n",
      "[CV 2/5] END .C=0.001, gamma=0.1, kernel=linear;, score=0.800 total time=   0.0s\n",
      "[CV 3/5] END .C=0.001, gamma=0.1, kernel=linear;, score=0.800 total time=   0.0s\n",
      "[CV 4/5] END .C=0.001, gamma=0.1, kernel=linear;, score=0.800 total time=   0.0s\n",
      "[CV 5/5] END .C=0.001, gamma=0.1, kernel=linear;, score=0.792 total time=   0.0s\n",
      "[CV 1/5] END ....C=0.001, gamma=0.1, kernel=rbf;, score=0.760 total time=   0.0s\n",
      "[CV 2/5] END ....C=0.001, gamma=0.1, kernel=rbf;, score=0.800 total time=   0.0s\n",
      "[CV 3/5] END ....C=0.001, gamma=0.1, kernel=rbf;, score=0.800 total time=   0.0s\n",
      "[CV 4/5] END ....C=0.001, gamma=0.1, kernel=rbf;, score=0.800 total time=   0.0s\n",
      "[CV 5/5] END ....C=0.001, gamma=0.1, kernel=rbf;, score=0.792 total time=   0.0s\n",
      "[CV 1/5] END ...C=0.001, gamma=0.1, kernel=poly;, score=0.760 total time=   0.0s\n",
      "[CV 2/5] END ...C=0.001, gamma=0.1, kernel=poly;, score=0.800 total time=   0.0s\n",
      "[CV 3/5] END ...C=0.001, gamma=0.1, kernel=poly;, score=0.800 total time=   0.0s\n",
      "[CV 4/5] END ...C=0.001, gamma=0.1, kernel=poly;, score=0.800 total time=   0.0s\n",
      "[CV 5/5] END ...C=0.001, gamma=0.1, kernel=poly;, score=0.792 total time=   0.0s\n",
      "[CV 1/5] END ...C=0.001, gamma=1, kernel=linear;, score=0.760 total time=   0.0s\n",
      "[CV 2/5] END ...C=0.001, gamma=1, kernel=linear;, score=0.800 total time=   0.0s\n",
      "[CV 3/5] END ...C=0.001, gamma=1, kernel=linear;, score=0.800 total time=   0.0s\n",
      "[CV 4/5] END ...C=0.001, gamma=1, kernel=linear;, score=0.800 total time=   0.0s\n",
      "[CV 5/5] END ...C=0.001, gamma=1, kernel=linear;, score=0.792 total time=   0.0s\n",
      "[CV 1/5] END ......C=0.001, gamma=1, kernel=rbf;, score=0.760 total time=   0.0s\n",
      "[CV 2/5] END ......C=0.001, gamma=1, kernel=rbf;, score=0.800 total time=   0.0s\n",
      "[CV 3/5] END ......C=0.001, gamma=1, kernel=rbf;, score=0.800 total time=   0.0s\n",
      "[CV 4/5] END ......C=0.001, gamma=1, kernel=rbf;, score=0.800 total time=   0.0s\n",
      "[CV 5/5] END ......C=0.001, gamma=1, kernel=rbf;, score=0.792 total time=   0.0s\n",
      "[CV 1/5] END .....C=0.001, gamma=1, kernel=poly;, score=0.880 total time=   0.0s\n",
      "[CV 2/5] END .....C=0.001, gamma=1, kernel=poly;, score=0.880 total time=   0.0s\n",
      "[CV 3/5] END .....C=0.001, gamma=1, kernel=poly;, score=0.800 total time=   0.0s\n",
      "[CV 4/5] END .....C=0.001, gamma=1, kernel=poly;, score=0.840 total time=   0.0s\n",
      "[CV 5/5] END .....C=0.001, gamma=1, kernel=poly;, score=0.917 total time=   0.0s\n",
      "[CV 1/5] END ..C=0.001, gamma=10, kernel=linear;, score=0.760 total time=   0.0s\n",
      "[CV 2/5] END ..C=0.001, gamma=10, kernel=linear;, score=0.800 total time=   0.0s\n",
      "[CV 3/5] END ..C=0.001, gamma=10, kernel=linear;, score=0.800 total time=   0.0s\n",
      "[CV 4/5] END ..C=0.001, gamma=10, kernel=linear;, score=0.800 total time=   0.0s\n",
      "[CV 5/5] END ..C=0.001, gamma=10, kernel=linear;, score=0.792 total time=   0.0s\n",
      "[CV 1/5] END .....C=0.001, gamma=10, kernel=rbf;, score=0.760 total time=   0.0s\n",
      "[CV 2/5] END .....C=0.001, gamma=10, kernel=rbf;, score=0.800 total time=   0.0s\n",
      "[CV 3/5] END .....C=0.001, gamma=10, kernel=rbf;, score=0.800 total time=   0.0s\n",
      "[CV 4/5] END .....C=0.001, gamma=10, kernel=rbf;, score=0.800 total time=   0.0s\n",
      "[CV 5/5] END .....C=0.001, gamma=10, kernel=rbf;, score=0.792 total time=   0.0s\n",
      "[CV 1/5] END ....C=0.001, gamma=10, kernel=poly;, score=0.880 total time=   0.0s\n",
      "[CV 2/5] END ....C=0.001, gamma=10, kernel=poly;, score=0.840 total time=   0.0s\n",
      "[CV 3/5] END ....C=0.001, gamma=10, kernel=poly;, score=0.800 total time=   0.0s\n",
      "[CV 4/5] END ....C=0.001, gamma=10, kernel=poly;, score=0.800 total time=   0.0s\n",
      "[CV 5/5] END ....C=0.001, gamma=10, kernel=poly;, score=0.750 total time=   0.0s\n",
      "[CV 1/5] END .C=0.001, gamma=100, kernel=linear;, score=0.760 total time=   0.0s\n",
      "[CV 2/5] END .C=0.001, gamma=100, kernel=linear;, score=0.800 total time=   0.0s\n",
      "[CV 3/5] END .C=0.001, gamma=100, kernel=linear;, score=0.800 total time=   0.0s\n",
      "[CV 4/5] END .C=0.001, gamma=100, kernel=linear;, score=0.800 total time=   0.0s\n",
      "[CV 5/5] END .C=0.001, gamma=100, kernel=linear;, score=0.792 total time=   0.0s\n",
      "[CV 1/5] END ....C=0.001, gamma=100, kernel=rbf;, score=0.760 total time=   0.0s\n",
      "[CV 2/5] END ....C=0.001, gamma=100, kernel=rbf;, score=0.800 total time=   0.0s\n",
      "[CV 3/5] END ....C=0.001, gamma=100, kernel=rbf;, score=0.800 total time=   0.0s\n",
      "[CV 4/5] END ....C=0.001, gamma=100, kernel=rbf;, score=0.800 total time=   0.0s\n",
      "[CV 5/5] END ....C=0.001, gamma=100, kernel=rbf;, score=0.792 total time=   0.0s\n",
      "[CV 1/5] END ...C=0.001, gamma=100, kernel=poly;, score=0.880 total time=   0.0s\n",
      "[CV 2/5] END ...C=0.001, gamma=100, kernel=poly;, score=0.840 total time=   0.0s\n",
      "[CV 3/5] END ...C=0.001, gamma=100, kernel=poly;, score=0.800 total time=   0.0s\n",
      "[CV 4/5] END ...C=0.001, gamma=100, kernel=poly;, score=0.800 total time=   0.0s\n",
      "[CV 5/5] END ...C=0.001, gamma=100, kernel=poly;, score=0.750 total time=   0.0s\n",
      "[CV 1/5] END ....C=0.01, gamma=0, kernel=linear;, score=0.760 total time=   0.0s\n",
      "[CV 2/5] END ....C=0.01, gamma=0, kernel=linear;, score=0.800 total time=   0.0s\n",
      "[CV 3/5] END ....C=0.01, gamma=0, kernel=linear;, score=0.800 total time=   0.0s\n",
      "[CV 4/5] END ....C=0.01, gamma=0, kernel=linear;, score=0.800 total time=   0.0s\n",
      "[CV 5/5] END ....C=0.01, gamma=0, kernel=linear;, score=0.792 total time=   0.0s\n",
      "[CV 1/5] END .......C=0.01, gamma=0, kernel=rbf;, score=0.760 total time=   0.0s\n",
      "[CV 2/5] END .......C=0.01, gamma=0, kernel=rbf;, score=0.800 total time=   0.0s\n",
      "[CV 3/5] END .......C=0.01, gamma=0, kernel=rbf;, score=0.800 total time=   0.0s\n",
      "[CV 4/5] END .......C=0.01, gamma=0, kernel=rbf;, score=0.800 total time=   0.0s\n",
      "[CV 5/5] END .......C=0.01, gamma=0, kernel=rbf;, score=0.792 total time=   0.0s\n",
      "[CV 1/5] END ......C=0.01, gamma=0, kernel=poly;, score=0.760 total time=   0.0s\n",
      "[CV 2/5] END ......C=0.01, gamma=0, kernel=poly;, score=0.800 total time=   0.0s\n",
      "[CV 3/5] END ......C=0.01, gamma=0, kernel=poly;, score=0.800 total time=   0.0s\n",
      "[CV 4/5] END ......C=0.01, gamma=0, kernel=poly;, score=0.800 total time=   0.0s\n",
      "[CV 5/5] END ......C=0.01, gamma=0, kernel=poly;, score=0.792 total time=   0.0s\n",
      "[CV 1/5] END C=0.01, gamma=0.0001, kernel=linear;, score=0.760 total time=   0.0s\n",
      "[CV 2/5] END C=0.01, gamma=0.0001, kernel=linear;, score=0.800 total time=   0.0s\n",
      "[CV 3/5] END C=0.01, gamma=0.0001, kernel=linear;, score=0.800 total time=   0.0s\n",
      "[CV 4/5] END C=0.01, gamma=0.0001, kernel=linear;, score=0.800 total time=   0.0s\n",
      "[CV 5/5] END C=0.01, gamma=0.0001, kernel=linear;, score=0.792 total time=   0.0s\n",
      "[CV 1/5] END ..C=0.01, gamma=0.0001, kernel=rbf;, score=0.760 total time=   0.0s\n",
      "[CV 2/5] END ..C=0.01, gamma=0.0001, kernel=rbf;, score=0.800 total time=   0.0s\n",
      "[CV 3/5] END ..C=0.01, gamma=0.0001, kernel=rbf;, score=0.800 total time=   0.0s\n",
      "[CV 4/5] END ..C=0.01, gamma=0.0001, kernel=rbf;, score=0.800 total time=   0.0s\n",
      "[CV 5/5] END ..C=0.01, gamma=0.0001, kernel=rbf;, score=0.792 total time=   0.0s\n",
      "[CV 1/5] END .C=0.01, gamma=0.0001, kernel=poly;, score=0.760 total time=   0.0s\n",
      "[CV 2/5] END .C=0.01, gamma=0.0001, kernel=poly;, score=0.800 total time=   0.0s\n",
      "[CV 3/5] END .C=0.01, gamma=0.0001, kernel=poly;, score=0.800 total time=   0.0s\n",
      "[CV 4/5] END .C=0.01, gamma=0.0001, kernel=poly;, score=0.800 total time=   0.0s\n",
      "[CV 5/5] END .C=0.01, gamma=0.0001, kernel=poly;, score=0.792 total time=   0.0s\n",
      "[CV 1/5] END C=0.01, gamma=0.001, kernel=linear;, score=0.760 total time=   0.0s\n",
      "[CV 2/5] END C=0.01, gamma=0.001, kernel=linear;, score=0.800 total time=   0.0s\n",
      "[CV 3/5] END C=0.01, gamma=0.001, kernel=linear;, score=0.800 total time=   0.0s\n",
      "[CV 4/5] END C=0.01, gamma=0.001, kernel=linear;, score=0.800 total time=   0.0s\n",
      "[CV 5/5] END C=0.01, gamma=0.001, kernel=linear;, score=0.792 total time=   0.0s\n",
      "[CV 1/5] END ...C=0.01, gamma=0.001, kernel=rbf;, score=0.760 total time=   0.0s\n",
      "[CV 2/5] END ...C=0.01, gamma=0.001, kernel=rbf;, score=0.800 total time=   0.0s\n",
      "[CV 3/5] END ...C=0.01, gamma=0.001, kernel=rbf;, score=0.800 total time=   0.0s\n",
      "[CV 4/5] END ...C=0.01, gamma=0.001, kernel=rbf;, score=0.800 total time=   0.0s\n",
      "[CV 5/5] END ...C=0.01, gamma=0.001, kernel=rbf;, score=0.792 total time=   0.0s\n",
      "[CV 1/5] END ..C=0.01, gamma=0.001, kernel=poly;, score=0.760 total time=   0.0s\n",
      "[CV 2/5] END ..C=0.01, gamma=0.001, kernel=poly;, score=0.800 total time=   0.0s\n",
      "[CV 3/5] END ..C=0.01, gamma=0.001, kernel=poly;, score=0.800 total time=   0.0s\n",
      "[CV 4/5] END ..C=0.01, gamma=0.001, kernel=poly;, score=0.800 total time=   0.0s\n",
      "[CV 5/5] END ..C=0.01, gamma=0.001, kernel=poly;, score=0.792 total time=   0.0s\n",
      "[CV 1/5] END .C=0.01, gamma=0.01, kernel=linear;, score=0.760 total time=   0.0s\n",
      "[CV 2/5] END .C=0.01, gamma=0.01, kernel=linear;, score=0.800 total time=   0.0s\n",
      "[CV 3/5] END .C=0.01, gamma=0.01, kernel=linear;, score=0.800 total time=   0.0s\n",
      "[CV 4/5] END .C=0.01, gamma=0.01, kernel=linear;, score=0.800 total time=   0.0s\n",
      "[CV 5/5] END .C=0.01, gamma=0.01, kernel=linear;, score=0.792 total time=   0.0s\n",
      "[CV 1/5] END ....C=0.01, gamma=0.01, kernel=rbf;, score=0.760 total time=   0.0s\n",
      "[CV 2/5] END ....C=0.01, gamma=0.01, kernel=rbf;, score=0.800 total time=   0.0s\n",
      "[CV 3/5] END ....C=0.01, gamma=0.01, kernel=rbf;, score=0.800 total time=   0.0s\n",
      "[CV 4/5] END ....C=0.01, gamma=0.01, kernel=rbf;, score=0.800 total time=   0.0s\n",
      "[CV 5/5] END ....C=0.01, gamma=0.01, kernel=rbf;, score=0.792 total time=   0.0s\n",
      "[CV 1/5] END ...C=0.01, gamma=0.01, kernel=poly;, score=0.760 total time=   0.0s\n",
      "[CV 2/5] END ...C=0.01, gamma=0.01, kernel=poly;, score=0.800 total time=   0.0s\n",
      "[CV 3/5] END ...C=0.01, gamma=0.01, kernel=poly;, score=0.800 total time=   0.0s\n",
      "[CV 4/5] END ...C=0.01, gamma=0.01, kernel=poly;, score=0.800 total time=   0.0s\n",
      "[CV 5/5] END ...C=0.01, gamma=0.01, kernel=poly;, score=0.792 total time=   0.0s\n",
      "[CV 1/5] END ..C=0.01, gamma=0.1, kernel=linear;, score=0.760 total time=   0.0s\n",
      "[CV 2/5] END ..C=0.01, gamma=0.1, kernel=linear;, score=0.800 total time=   0.0s\n",
      "[CV 3/5] END ..C=0.01, gamma=0.1, kernel=linear;, score=0.800 total time=   0.0s\n",
      "[CV 4/5] END ..C=0.01, gamma=0.1, kernel=linear;, score=0.800 total time=   0.0s\n",
      "[CV 5/5] END ..C=0.01, gamma=0.1, kernel=linear;, score=0.792 total time=   0.0s\n",
      "[CV 1/5] END .....C=0.01, gamma=0.1, kernel=rbf;, score=0.760 total time=   0.0s\n",
      "[CV 2/5] END .....C=0.01, gamma=0.1, kernel=rbf;, score=0.800 total time=   0.0s\n",
      "[CV 3/5] END .....C=0.01, gamma=0.1, kernel=rbf;, score=0.800 total time=   0.0s\n",
      "[CV 4/5] END .....C=0.01, gamma=0.1, kernel=rbf;, score=0.800 total time=   0.0s\n",
      "[CV 5/5] END .....C=0.01, gamma=0.1, kernel=rbf;, score=0.792 total time=   0.0s\n",
      "[CV 1/5] END ....C=0.01, gamma=0.1, kernel=poly;, score=0.760 total time=   0.0s\n",
      "[CV 2/5] END ....C=0.01, gamma=0.1, kernel=poly;, score=0.800 total time=   0.0s\n",
      "[CV 3/5] END ....C=0.01, gamma=0.1, kernel=poly;, score=0.800 total time=   0.0s\n",
      "[CV 4/5] END ....C=0.01, gamma=0.1, kernel=poly;, score=0.800 total time=   0.0s\n",
      "[CV 5/5] END ....C=0.01, gamma=0.1, kernel=poly;, score=0.792 total time=   0.0s\n",
      "[CV 1/5] END ....C=0.01, gamma=1, kernel=linear;, score=0.760 total time=   0.0s\n",
      "[CV 2/5] END ....C=0.01, gamma=1, kernel=linear;, score=0.800 total time=   0.0s\n",
      "[CV 3/5] END ....C=0.01, gamma=1, kernel=linear;, score=0.800 total time=   0.0s\n",
      "[CV 4/5] END ....C=0.01, gamma=1, kernel=linear;, score=0.800 total time=   0.0s\n",
      "[CV 5/5] END ....C=0.01, gamma=1, kernel=linear;, score=0.792 total time=   0.0s\n",
      "[CV 1/5] END .......C=0.01, gamma=1, kernel=rbf;, score=0.760 total time=   0.0s\n",
      "[CV 2/5] END .......C=0.01, gamma=1, kernel=rbf;, score=0.800 total time=   0.0s\n",
      "[CV 3/5] END .......C=0.01, gamma=1, kernel=rbf;, score=0.800 total time=   0.0s\n",
      "[CV 4/5] END .......C=0.01, gamma=1, kernel=rbf;, score=0.800 total time=   0.0s\n",
      "[CV 5/5] END .......C=0.01, gamma=1, kernel=rbf;, score=0.792 total time=   0.0s\n",
      "[CV 1/5] END ......C=0.01, gamma=1, kernel=poly;, score=0.880 total time=   0.0s\n",
      "[CV 2/5] END ......C=0.01, gamma=1, kernel=poly;, score=0.840 total time=   0.0s\n",
      "[CV 3/5] END ......C=0.01, gamma=1, kernel=poly;, score=0.800 total time=   0.0s\n",
      "[CV 4/5] END ......C=0.01, gamma=1, kernel=poly;, score=0.800 total time=   0.0s\n",
      "[CV 5/5] END ......C=0.01, gamma=1, kernel=poly;, score=0.750 total time=   0.0s\n",
      "[CV 1/5] END ...C=0.01, gamma=10, kernel=linear;, score=0.760 total time=   0.0s\n",
      "[CV 2/5] END ...C=0.01, gamma=10, kernel=linear;, score=0.800 total time=   0.0s\n",
      "[CV 3/5] END ...C=0.01, gamma=10, kernel=linear;, score=0.800 total time=   0.0s\n",
      "[CV 4/5] END ...C=0.01, gamma=10, kernel=linear;, score=0.800 total time=   0.0s\n",
      "[CV 5/5] END ...C=0.01, gamma=10, kernel=linear;, score=0.792 total time=   0.0s\n",
      "[CV 1/5] END ......C=0.01, gamma=10, kernel=rbf;, score=0.760 total time=   0.0s\n",
      "[CV 2/5] END ......C=0.01, gamma=10, kernel=rbf;, score=0.800 total time=   0.0s\n",
      "[CV 3/5] END ......C=0.01, gamma=10, kernel=rbf;, score=0.800 total time=   0.0s\n",
      "[CV 4/5] END ......C=0.01, gamma=10, kernel=rbf;, score=0.800 total time=   0.0s\n",
      "[CV 5/5] END ......C=0.01, gamma=10, kernel=rbf;, score=0.792 total time=   0.0s\n",
      "[CV 1/5] END .....C=0.01, gamma=10, kernel=poly;, score=0.880 total time=   0.0s\n",
      "[CV 2/5] END .....C=0.01, gamma=10, kernel=poly;, score=0.840 total time=   0.0s\n",
      "[CV 3/5] END .....C=0.01, gamma=10, kernel=poly;, score=0.800 total time=   0.0s\n",
      "[CV 4/5] END .....C=0.01, gamma=10, kernel=poly;, score=0.800 total time=   0.0s\n",
      "[CV 5/5] END .....C=0.01, gamma=10, kernel=poly;, score=0.750 total time=   0.0s\n",
      "[CV 1/5] END ..C=0.01, gamma=100, kernel=linear;, score=0.760 total time=   0.0s\n",
      "[CV 2/5] END ..C=0.01, gamma=100, kernel=linear;, score=0.800 total time=   0.0s\n",
      "[CV 3/5] END ..C=0.01, gamma=100, kernel=linear;, score=0.800 total time=   0.0s\n",
      "[CV 4/5] END ..C=0.01, gamma=100, kernel=linear;, score=0.800 total time=   0.0s\n",
      "[CV 5/5] END ..C=0.01, gamma=100, kernel=linear;, score=0.792 total time=   0.0s\n",
      "[CV 1/5] END .....C=0.01, gamma=100, kernel=rbf;, score=0.760 total time=   0.0s\n",
      "[CV 2/5] END .....C=0.01, gamma=100, kernel=rbf;, score=0.800 total time=   0.0s\n",
      "[CV 3/5] END .....C=0.01, gamma=100, kernel=rbf;, score=0.800 total time=   0.0s\n",
      "[CV 4/5] END .....C=0.01, gamma=100, kernel=rbf;, score=0.800 total time=   0.0s\n",
      "[CV 5/5] END .....C=0.01, gamma=100, kernel=rbf;, score=0.792 total time=   0.0s\n",
      "[CV 1/5] END ....C=0.01, gamma=100, kernel=poly;, score=0.880 total time=   0.0s\n",
      "[CV 2/5] END ....C=0.01, gamma=100, kernel=poly;, score=0.840 total time=   0.0s\n",
      "[CV 3/5] END ....C=0.01, gamma=100, kernel=poly;, score=0.800 total time=   0.0s\n",
      "[CV 4/5] END ....C=0.01, gamma=100, kernel=poly;, score=0.800 total time=   0.0s\n",
      "[CV 5/5] END ....C=0.01, gamma=100, kernel=poly;, score=0.750 total time=   0.0s\n",
      "[CV 1/5] END .....C=0.1, gamma=0, kernel=linear;, score=0.720 total time=   0.0s\n",
      "[CV 2/5] END .....C=0.1, gamma=0, kernel=linear;, score=0.960 total time=   0.0s\n",
      "[CV 3/5] END .....C=0.1, gamma=0, kernel=linear;, score=0.760 total time=   0.0s\n",
      "[CV 4/5] END .....C=0.1, gamma=0, kernel=linear;, score=0.800 total time=   0.0s\n",
      "[CV 5/5] END .....C=0.1, gamma=0, kernel=linear;, score=0.917 total time=   0.0s\n",
      "[CV 1/5] END ........C=0.1, gamma=0, kernel=rbf;, score=0.760 total time=   0.0s\n",
      "[CV 2/5] END ........C=0.1, gamma=0, kernel=rbf;, score=0.800 total time=   0.0s\n",
      "[CV 3/5] END ........C=0.1, gamma=0, kernel=rbf;, score=0.800 total time=   0.0s\n",
      "[CV 4/5] END ........C=0.1, gamma=0, kernel=rbf;, score=0.800 total time=   0.0s\n",
      "[CV 5/5] END ........C=0.1, gamma=0, kernel=rbf;, score=0.792 total time=   0.0s\n",
      "[CV 1/5] END .......C=0.1, gamma=0, kernel=poly;, score=0.760 total time=   0.0s\n",
      "[CV 2/5] END .......C=0.1, gamma=0, kernel=poly;, score=0.800 total time=   0.0s\n",
      "[CV 3/5] END .......C=0.1, gamma=0, kernel=poly;, score=0.800 total time=   0.0s\n",
      "[CV 4/5] END .......C=0.1, gamma=0, kernel=poly;, score=0.800 total time=   0.0s\n",
      "[CV 5/5] END .......C=0.1, gamma=0, kernel=poly;, score=0.792 total time=   0.0s\n",
      "[CV 1/5] END C=0.1, gamma=0.0001, kernel=linear;, score=0.720 total time=   0.0s\n",
      "[CV 2/5] END C=0.1, gamma=0.0001, kernel=linear;, score=0.960 total time=   0.0s\n",
      "[CV 3/5] END C=0.1, gamma=0.0001, kernel=linear;, score=0.760 total time=   0.0s\n",
      "[CV 4/5] END C=0.1, gamma=0.0001, kernel=linear;, score=0.800 total time=   0.0s\n",
      "[CV 5/5] END C=0.1, gamma=0.0001, kernel=linear;, score=0.917 total time=   0.0s\n",
      "[CV 1/5] END ...C=0.1, gamma=0.0001, kernel=rbf;, score=0.760 total time=   0.0s\n",
      "[CV 2/5] END ...C=0.1, gamma=0.0001, kernel=rbf;, score=0.800 total time=   0.0s\n",
      "[CV 3/5] END ...C=0.1, gamma=0.0001, kernel=rbf;, score=0.800 total time=   0.0s\n",
      "[CV 4/5] END ...C=0.1, gamma=0.0001, kernel=rbf;, score=0.800 total time=   0.0s\n",
      "[CV 5/5] END ...C=0.1, gamma=0.0001, kernel=rbf;, score=0.792 total time=   0.0s\n",
      "[CV 1/5] END ..C=0.1, gamma=0.0001, kernel=poly;, score=0.760 total time=   0.0s\n",
      "[CV 2/5] END ..C=0.1, gamma=0.0001, kernel=poly;, score=0.800 total time=   0.0s\n",
      "[CV 3/5] END ..C=0.1, gamma=0.0001, kernel=poly;, score=0.800 total time=   0.0s\n",
      "[CV 4/5] END ..C=0.1, gamma=0.0001, kernel=poly;, score=0.800 total time=   0.0s\n",
      "[CV 5/5] END ..C=0.1, gamma=0.0001, kernel=poly;, score=0.792 total time=   0.0s\n",
      "[CV 1/5] END .C=0.1, gamma=0.001, kernel=linear;, score=0.720 total time=   0.0s\n",
      "[CV 2/5] END .C=0.1, gamma=0.001, kernel=linear;, score=0.960 total time=   0.0s\n",
      "[CV 3/5] END .C=0.1, gamma=0.001, kernel=linear;, score=0.760 total time=   0.0s\n",
      "[CV 4/5] END .C=0.1, gamma=0.001, kernel=linear;, score=0.800 total time=   0.0s\n",
      "[CV 5/5] END .C=0.1, gamma=0.001, kernel=linear;, score=0.917 total time=   0.0s\n",
      "[CV 1/5] END ....C=0.1, gamma=0.001, kernel=rbf;, score=0.760 total time=   0.0s\n",
      "[CV 2/5] END ....C=0.1, gamma=0.001, kernel=rbf;, score=0.800 total time=   0.0s\n",
      "[CV 3/5] END ....C=0.1, gamma=0.001, kernel=rbf;, score=0.800 total time=   0.0s\n",
      "[CV 4/5] END ....C=0.1, gamma=0.001, kernel=rbf;, score=0.800 total time=   0.0s\n",
      "[CV 5/5] END ....C=0.1, gamma=0.001, kernel=rbf;, score=0.792 total time=   0.0s\n",
      "[CV 1/5] END ...C=0.1, gamma=0.001, kernel=poly;, score=0.760 total time=   0.0s\n",
      "[CV 2/5] END ...C=0.1, gamma=0.001, kernel=poly;, score=0.800 total time=   0.0s\n",
      "[CV 3/5] END ...C=0.1, gamma=0.001, kernel=poly;, score=0.800 total time=   0.0s\n",
      "[CV 4/5] END ...C=0.1, gamma=0.001, kernel=poly;, score=0.800 total time=   0.0s\n",
      "[CV 5/5] END ...C=0.1, gamma=0.001, kernel=poly;, score=0.792 total time=   0.0s\n",
      "[CV 1/5] END ..C=0.1, gamma=0.01, kernel=linear;, score=0.720 total time=   0.0s\n",
      "[CV 2/5] END ..C=0.1, gamma=0.01, kernel=linear;, score=0.960 total time=   0.0s\n",
      "[CV 3/5] END ..C=0.1, gamma=0.01, kernel=linear;, score=0.760 total time=   0.0s\n",
      "[CV 4/5] END ..C=0.1, gamma=0.01, kernel=linear;, score=0.800 total time=   0.0s\n",
      "[CV 5/5] END ..C=0.1, gamma=0.01, kernel=linear;, score=0.917 total time=   0.0s\n",
      "[CV 1/5] END .....C=0.1, gamma=0.01, kernel=rbf;, score=0.760 total time=   0.0s\n",
      "[CV 2/5] END .....C=0.1, gamma=0.01, kernel=rbf;, score=0.800 total time=   0.0s\n",
      "[CV 3/5] END .....C=0.1, gamma=0.01, kernel=rbf;, score=0.800 total time=   0.0s\n",
      "[CV 4/5] END .....C=0.1, gamma=0.01, kernel=rbf;, score=0.800 total time=   0.0s\n",
      "[CV 5/5] END .....C=0.1, gamma=0.01, kernel=rbf;, score=0.792 total time=   0.0s\n",
      "[CV 1/5] END ....C=0.1, gamma=0.01, kernel=poly;, score=0.760 total time=   0.0s\n",
      "[CV 2/5] END ....C=0.1, gamma=0.01, kernel=poly;, score=0.800 total time=   0.0s\n",
      "[CV 3/5] END ....C=0.1, gamma=0.01, kernel=poly;, score=0.800 total time=   0.0s\n",
      "[CV 4/5] END ....C=0.1, gamma=0.01, kernel=poly;, score=0.800 total time=   0.0s\n",
      "[CV 5/5] END ....C=0.1, gamma=0.01, kernel=poly;, score=0.792 total time=   0.0s\n",
      "[CV 1/5] END ...C=0.1, gamma=0.1, kernel=linear;, score=0.720 total time=   0.0s\n",
      "[CV 2/5] END ...C=0.1, gamma=0.1, kernel=linear;, score=0.960 total time=   0.0s\n",
      "[CV 3/5] END ...C=0.1, gamma=0.1, kernel=linear;, score=0.760 total time=   0.0s\n",
      "[CV 4/5] END ...C=0.1, gamma=0.1, kernel=linear;, score=0.800 total time=   0.0s\n",
      "[CV 5/5] END ...C=0.1, gamma=0.1, kernel=linear;, score=0.917 total time=   0.0s\n",
      "[CV 1/5] END ......C=0.1, gamma=0.1, kernel=rbf;, score=0.760 total time=   0.0s\n",
      "[CV 2/5] END ......C=0.1, gamma=0.1, kernel=rbf;, score=0.800 total time=   0.0s\n",
      "[CV 3/5] END ......C=0.1, gamma=0.1, kernel=rbf;, score=0.800 total time=   0.0s\n",
      "[CV 4/5] END ......C=0.1, gamma=0.1, kernel=rbf;, score=0.800 total time=   0.0s\n",
      "[CV 5/5] END ......C=0.1, gamma=0.1, kernel=rbf;, score=0.792 total time=   0.0s\n",
      "[CV 1/5] END .....C=0.1, gamma=0.1, kernel=poly;, score=0.760 total time=   0.0s\n",
      "[CV 2/5] END .....C=0.1, gamma=0.1, kernel=poly;, score=0.800 total time=   0.0s\n",
      "[CV 3/5] END .....C=0.1, gamma=0.1, kernel=poly;, score=0.800 total time=   0.0s\n",
      "[CV 4/5] END .....C=0.1, gamma=0.1, kernel=poly;, score=0.800 total time=   0.0s\n",
      "[CV 5/5] END .....C=0.1, gamma=0.1, kernel=poly;, score=0.833 total time=   0.0s\n",
      "[CV 1/5] END .....C=0.1, gamma=1, kernel=linear;, score=0.720 total time=   0.0s\n",
      "[CV 2/5] END .....C=0.1, gamma=1, kernel=linear;, score=0.960 total time=   0.0s\n",
      "[CV 3/5] END .....C=0.1, gamma=1, kernel=linear;, score=0.760 total time=   0.0s\n",
      "[CV 4/5] END .....C=0.1, gamma=1, kernel=linear;, score=0.800 total time=   0.0s\n",
      "[CV 5/5] END .....C=0.1, gamma=1, kernel=linear;, score=0.917 total time=   0.0s\n",
      "[CV 1/5] END ........C=0.1, gamma=1, kernel=rbf;, score=0.760 total time=   0.0s\n",
      "[CV 2/5] END ........C=0.1, gamma=1, kernel=rbf;, score=0.800 total time=   0.0s\n",
      "[CV 3/5] END ........C=0.1, gamma=1, kernel=rbf;, score=0.800 total time=   0.0s\n",
      "[CV 4/5] END ........C=0.1, gamma=1, kernel=rbf;, score=0.800 total time=   0.0s\n",
      "[CV 5/5] END ........C=0.1, gamma=1, kernel=rbf;, score=0.792 total time=   0.0s\n",
      "[CV 1/5] END .......C=0.1, gamma=1, kernel=poly;, score=0.880 total time=   0.0s\n",
      "[CV 2/5] END .......C=0.1, gamma=1, kernel=poly;, score=0.840 total time=   0.0s\n",
      "[CV 3/5] END .......C=0.1, gamma=1, kernel=poly;, score=0.800 total time=   0.0s\n",
      "[CV 4/5] END .......C=0.1, gamma=1, kernel=poly;, score=0.800 total time=   0.0s\n",
      "[CV 5/5] END .......C=0.1, gamma=1, kernel=poly;, score=0.750 total time=   0.0s\n",
      "[CV 1/5] END ....C=0.1, gamma=10, kernel=linear;, score=0.720 total time=   0.0s\n",
      "[CV 2/5] END ....C=0.1, gamma=10, kernel=linear;, score=0.960 total time=   0.0s\n",
      "[CV 3/5] END ....C=0.1, gamma=10, kernel=linear;, score=0.760 total time=   0.0s\n",
      "[CV 4/5] END ....C=0.1, gamma=10, kernel=linear;, score=0.800 total time=   0.0s\n",
      "[CV 5/5] END ....C=0.1, gamma=10, kernel=linear;, score=0.917 total time=   0.0s\n",
      "[CV 1/5] END .......C=0.1, gamma=10, kernel=rbf;, score=0.760 total time=   0.0s\n",
      "[CV 2/5] END .......C=0.1, gamma=10, kernel=rbf;, score=0.800 total time=   0.0s\n",
      "[CV 3/5] END .......C=0.1, gamma=10, kernel=rbf;, score=0.800 total time=   0.0s\n",
      "[CV 4/5] END .......C=0.1, gamma=10, kernel=rbf;, score=0.800 total time=   0.0s\n",
      "[CV 5/5] END .......C=0.1, gamma=10, kernel=rbf;, score=0.792 total time=   0.0s\n",
      "[CV 1/5] END ......C=0.1, gamma=10, kernel=poly;, score=0.880 total time=   0.0s\n",
      "[CV 2/5] END ......C=0.1, gamma=10, kernel=poly;, score=0.840 total time=   0.0s\n",
      "[CV 3/5] END ......C=0.1, gamma=10, kernel=poly;, score=0.800 total time=   0.0s\n",
      "[CV 4/5] END ......C=0.1, gamma=10, kernel=poly;, score=0.800 total time=   0.0s\n",
      "[CV 5/5] END ......C=0.1, gamma=10, kernel=poly;, score=0.750 total time=   0.0s\n",
      "[CV 1/5] END ...C=0.1, gamma=100, kernel=linear;, score=0.720 total time=   0.0s\n",
      "[CV 2/5] END ...C=0.1, gamma=100, kernel=linear;, score=0.960 total time=   0.0s\n",
      "[CV 3/5] END ...C=0.1, gamma=100, kernel=linear;, score=0.760 total time=   0.0s\n",
      "[CV 4/5] END ...C=0.1, gamma=100, kernel=linear;, score=0.800 total time=   0.0s\n",
      "[CV 5/5] END ...C=0.1, gamma=100, kernel=linear;, score=0.917 total time=   0.0s\n",
      "[CV 1/5] END ......C=0.1, gamma=100, kernel=rbf;, score=0.760 total time=   0.0s\n",
      "[CV 2/5] END ......C=0.1, gamma=100, kernel=rbf;, score=0.800 total time=   0.0s\n",
      "[CV 3/5] END ......C=0.1, gamma=100, kernel=rbf;, score=0.800 total time=   0.0s\n",
      "[CV 4/5] END ......C=0.1, gamma=100, kernel=rbf;, score=0.800 total time=   0.0s\n",
      "[CV 5/5] END ......C=0.1, gamma=100, kernel=rbf;, score=0.792 total time=   0.0s\n",
      "[CV 1/5] END .....C=0.1, gamma=100, kernel=poly;, score=0.880 total time=   0.0s\n",
      "[CV 2/5] END .....C=0.1, gamma=100, kernel=poly;, score=0.840 total time=   0.0s\n",
      "[CV 3/5] END .....C=0.1, gamma=100, kernel=poly;, score=0.800 total time=   0.0s\n",
      "[CV 4/5] END .....C=0.1, gamma=100, kernel=poly;, score=0.800 total time=   0.0s\n",
      "[CV 5/5] END .....C=0.1, gamma=100, kernel=poly;, score=0.750 total time=   0.0s\n",
      "[CV 1/5] END .......C=1, gamma=0, kernel=linear;, score=0.840 total time=   0.0s\n",
      "[CV 2/5] END .......C=1, gamma=0, kernel=linear;, score=0.880 total time=   0.0s\n",
      "[CV 3/5] END .......C=1, gamma=0, kernel=linear;, score=0.800 total time=   0.0s\n",
      "[CV 4/5] END .......C=1, gamma=0, kernel=linear;, score=0.720 total time=   0.0s\n",
      "[CV 5/5] END .......C=1, gamma=0, kernel=linear;, score=0.917 total time=   0.0s\n",
      "[CV 1/5] END ..........C=1, gamma=0, kernel=rbf;, score=0.760 total time=   0.0s\n",
      "[CV 2/5] END ..........C=1, gamma=0, kernel=rbf;, score=0.800 total time=   0.0s\n",
      "[CV 3/5] END ..........C=1, gamma=0, kernel=rbf;, score=0.800 total time=   0.0s\n",
      "[CV 4/5] END ..........C=1, gamma=0, kernel=rbf;, score=0.800 total time=   0.0s\n",
      "[CV 5/5] END ..........C=1, gamma=0, kernel=rbf;, score=0.792 total time=   0.0s\n",
      "[CV 1/5] END .........C=1, gamma=0, kernel=poly;, score=0.760 total time=   0.0s\n",
      "[CV 2/5] END .........C=1, gamma=0, kernel=poly;, score=0.800 total time=   0.0s\n",
      "[CV 3/5] END .........C=1, gamma=0, kernel=poly;, score=0.800 total time=   0.0s\n",
      "[CV 4/5] END .........C=1, gamma=0, kernel=poly;, score=0.800 total time=   0.0s\n",
      "[CV 5/5] END .........C=1, gamma=0, kernel=poly;, score=0.792 total time=   0.0s\n",
      "[CV 1/5] END ..C=1, gamma=0.0001, kernel=linear;, score=0.840 total time=   0.0s\n",
      "[CV 2/5] END ..C=1, gamma=0.0001, kernel=linear;, score=0.880 total time=   0.0s\n",
      "[CV 3/5] END ..C=1, gamma=0.0001, kernel=linear;, score=0.800 total time=   0.0s\n",
      "[CV 4/5] END ..C=1, gamma=0.0001, kernel=linear;, score=0.720 total time=   0.0s\n",
      "[CV 5/5] END ..C=1, gamma=0.0001, kernel=linear;, score=0.917 total time=   0.0s\n",
      "[CV 1/5] END .....C=1, gamma=0.0001, kernel=rbf;, score=0.760 total time=   0.0s\n",
      "[CV 2/5] END .....C=1, gamma=0.0001, kernel=rbf;, score=0.800 total time=   0.0s\n",
      "[CV 3/5] END .....C=1, gamma=0.0001, kernel=rbf;, score=0.800 total time=   0.0s\n",
      "[CV 4/5] END .....C=1, gamma=0.0001, kernel=rbf;, score=0.800 total time=   0.0s\n",
      "[CV 5/5] END .....C=1, gamma=0.0001, kernel=rbf;, score=0.792 total time=   0.0s\n",
      "[CV 1/5] END ....C=1, gamma=0.0001, kernel=poly;, score=0.760 total time=   0.0s\n",
      "[CV 2/5] END ....C=1, gamma=0.0001, kernel=poly;, score=0.800 total time=   0.0s\n",
      "[CV 3/5] END ....C=1, gamma=0.0001, kernel=poly;, score=0.800 total time=   0.0s\n",
      "[CV 4/5] END ....C=1, gamma=0.0001, kernel=poly;, score=0.800 total time=   0.0s\n",
      "[CV 5/5] END ....C=1, gamma=0.0001, kernel=poly;, score=0.792 total time=   0.0s\n",
      "[CV 1/5] END ...C=1, gamma=0.001, kernel=linear;, score=0.840 total time=   0.0s\n",
      "[CV 2/5] END ...C=1, gamma=0.001, kernel=linear;, score=0.880 total time=   0.0s\n",
      "[CV 3/5] END ...C=1, gamma=0.001, kernel=linear;, score=0.800 total time=   0.0s\n",
      "[CV 4/5] END ...C=1, gamma=0.001, kernel=linear;, score=0.720 total time=   0.0s\n",
      "[CV 5/5] END ...C=1, gamma=0.001, kernel=linear;, score=0.917 total time=   0.0s\n",
      "[CV 1/5] END ......C=1, gamma=0.001, kernel=rbf;, score=0.760 total time=   0.0s\n",
      "[CV 2/5] END ......C=1, gamma=0.001, kernel=rbf;, score=0.800 total time=   0.0s\n",
      "[CV 3/5] END ......C=1, gamma=0.001, kernel=rbf;, score=0.800 total time=   0.0s\n",
      "[CV 4/5] END ......C=1, gamma=0.001, kernel=rbf;, score=0.800 total time=   0.0s\n",
      "[CV 5/5] END ......C=1, gamma=0.001, kernel=rbf;, score=0.792 total time=   0.0s\n",
      "[CV 1/5] END .....C=1, gamma=0.001, kernel=poly;, score=0.760 total time=   0.0s\n",
      "[CV 2/5] END .....C=1, gamma=0.001, kernel=poly;, score=0.800 total time=   0.0s\n",
      "[CV 3/5] END .....C=1, gamma=0.001, kernel=poly;, score=0.800 total time=   0.0s\n",
      "[CV 4/5] END .....C=1, gamma=0.001, kernel=poly;, score=0.800 total time=   0.0s\n",
      "[CV 5/5] END .....C=1, gamma=0.001, kernel=poly;, score=0.792 total time=   0.0s\n",
      "[CV 1/5] END ....C=1, gamma=0.01, kernel=linear;, score=0.840 total time=   0.0s\n",
      "[CV 2/5] END ....C=1, gamma=0.01, kernel=linear;, score=0.880 total time=   0.0s\n",
      "[CV 3/5] END ....C=1, gamma=0.01, kernel=linear;, score=0.800 total time=   0.0s\n",
      "[CV 4/5] END ....C=1, gamma=0.01, kernel=linear;, score=0.720 total time=   0.0s\n",
      "[CV 5/5] END ....C=1, gamma=0.01, kernel=linear;, score=0.917 total time=   0.0s\n",
      "[CV 1/5] END .......C=1, gamma=0.01, kernel=rbf;, score=0.760 total time=   0.0s\n",
      "[CV 2/5] END .......C=1, gamma=0.01, kernel=rbf;, score=0.800 total time=   0.0s\n",
      "[CV 3/5] END .......C=1, gamma=0.01, kernel=rbf;, score=0.800 total time=   0.0s\n",
      "[CV 4/5] END .......C=1, gamma=0.01, kernel=rbf;, score=0.800 total time=   0.0s\n",
      "[CV 5/5] END .......C=1, gamma=0.01, kernel=rbf;, score=0.833 total time=   0.0s\n",
      "[CV 1/5] END ......C=1, gamma=0.01, kernel=poly;, score=0.760 total time=   0.0s\n",
      "[CV 2/5] END ......C=1, gamma=0.01, kernel=poly;, score=0.800 total time=   0.0s\n",
      "[CV 3/5] END ......C=1, gamma=0.01, kernel=poly;, score=0.800 total time=   0.0s\n",
      "[CV 4/5] END ......C=1, gamma=0.01, kernel=poly;, score=0.800 total time=   0.0s\n",
      "[CV 5/5] END ......C=1, gamma=0.01, kernel=poly;, score=0.792 total time=   0.0s\n",
      "[CV 1/5] END .....C=1, gamma=0.1, kernel=linear;, score=0.840 total time=   0.0s\n",
      "[CV 2/5] END .....C=1, gamma=0.1, kernel=linear;, score=0.880 total time=   0.0s\n",
      "[CV 3/5] END .....C=1, gamma=0.1, kernel=linear;, score=0.800 total time=   0.0s\n",
      "[CV 4/5] END .....C=1, gamma=0.1, kernel=linear;, score=0.720 total time=   0.0s\n",
      "[CV 5/5] END .....C=1, gamma=0.1, kernel=linear;, score=0.917 total time=   0.0s\n",
      "[CV 1/5] END ........C=1, gamma=0.1, kernel=rbf;, score=0.760 total time=   0.0s\n",
      "[CV 2/5] END ........C=1, gamma=0.1, kernel=rbf;, score=0.840 total time=   0.0s\n",
      "[CV 3/5] END ........C=1, gamma=0.1, kernel=rbf;, score=0.800 total time=   0.0s\n",
      "[CV 4/5] END ........C=1, gamma=0.1, kernel=rbf;, score=0.880 total time=   0.0s\n",
      "[CV 5/5] END ........C=1, gamma=0.1, kernel=rbf;, score=0.875 total time=   0.0s\n",
      "[CV 1/5] END .......C=1, gamma=0.1, kernel=poly;, score=0.880 total time=   0.0s\n",
      "[CV 2/5] END .......C=1, gamma=0.1, kernel=poly;, score=0.880 total time=   0.0s\n",
      "[CV 3/5] END .......C=1, gamma=0.1, kernel=poly;, score=0.800 total time=   0.0s\n",
      "[CV 4/5] END .......C=1, gamma=0.1, kernel=poly;, score=0.840 total time=   0.0s\n",
      "[CV 5/5] END .......C=1, gamma=0.1, kernel=poly;, score=0.917 total time=   0.0s\n",
      "[CV 1/5] END .......C=1, gamma=1, kernel=linear;, score=0.840 total time=   0.0s\n",
      "[CV 2/5] END .......C=1, gamma=1, kernel=linear;, score=0.880 total time=   0.0s\n",
      "[CV 3/5] END .......C=1, gamma=1, kernel=linear;, score=0.800 total time=   0.0s\n",
      "[CV 4/5] END .......C=1, gamma=1, kernel=linear;, score=0.720 total time=   0.0s\n",
      "[CV 5/5] END .......C=1, gamma=1, kernel=linear;, score=0.917 total time=   0.0s\n",
      "[CV 1/5] END ..........C=1, gamma=1, kernel=rbf;, score=0.760 total time=   0.0s\n",
      "[CV 2/5] END ..........C=1, gamma=1, kernel=rbf;, score=0.800 total time=   0.0s\n",
      "[CV 3/5] END ..........C=1, gamma=1, kernel=rbf;, score=0.800 total time=   0.0s\n",
      "[CV 4/5] END ..........C=1, gamma=1, kernel=rbf;, score=0.800 total time=   0.0s\n",
      "[CV 5/5] END ..........C=1, gamma=1, kernel=rbf;, score=0.792 total time=   0.0s\n",
      "[CV 1/5] END .........C=1, gamma=1, kernel=poly;, score=0.880 total time=   0.0s\n",
      "[CV 2/5] END .........C=1, gamma=1, kernel=poly;, score=0.840 total time=   0.0s\n",
      "[CV 3/5] END .........C=1, gamma=1, kernel=poly;, score=0.800 total time=   0.0s\n",
      "[CV 4/5] END .........C=1, gamma=1, kernel=poly;, score=0.800 total time=   0.0s\n",
      "[CV 5/5] END .........C=1, gamma=1, kernel=poly;, score=0.750 total time=   0.0s\n",
      "[CV 1/5] END ......C=1, gamma=10, kernel=linear;, score=0.840 total time=   0.0s\n",
      "[CV 2/5] END ......C=1, gamma=10, kernel=linear;, score=0.880 total time=   0.0s\n",
      "[CV 3/5] END ......C=1, gamma=10, kernel=linear;, score=0.800 total time=   0.0s\n",
      "[CV 4/5] END ......C=1, gamma=10, kernel=linear;, score=0.720 total time=   0.0s\n",
      "[CV 5/5] END ......C=1, gamma=10, kernel=linear;, score=0.917 total time=   0.0s\n",
      "[CV 1/5] END .........C=1, gamma=10, kernel=rbf;, score=0.760 total time=   0.0s\n",
      "[CV 2/5] END .........C=1, gamma=10, kernel=rbf;, score=0.800 total time=   0.0s\n",
      "[CV 3/5] END .........C=1, gamma=10, kernel=rbf;, score=0.800 total time=   0.0s\n",
      "[CV 4/5] END .........C=1, gamma=10, kernel=rbf;, score=0.800 total time=   0.0s\n",
      "[CV 5/5] END .........C=1, gamma=10, kernel=rbf;, score=0.792 total time=   0.0s\n",
      "[CV 1/5] END ........C=1, gamma=10, kernel=poly;, score=0.880 total time=   0.0s\n",
      "[CV 2/5] END ........C=1, gamma=10, kernel=poly;, score=0.840 total time=   0.0s\n",
      "[CV 3/5] END ........C=1, gamma=10, kernel=poly;, score=0.800 total time=   0.0s\n",
      "[CV 4/5] END ........C=1, gamma=10, kernel=poly;, score=0.800 total time=   0.0s\n",
      "[CV 5/5] END ........C=1, gamma=10, kernel=poly;, score=0.750 total time=   0.0s\n",
      "[CV 1/5] END .....C=1, gamma=100, kernel=linear;, score=0.840 total time=   0.0s\n",
      "[CV 2/5] END .....C=1, gamma=100, kernel=linear;, score=0.880 total time=   0.0s\n",
      "[CV 3/5] END .....C=1, gamma=100, kernel=linear;, score=0.800 total time=   0.0s\n",
      "[CV 4/5] END .....C=1, gamma=100, kernel=linear;, score=0.720 total time=   0.0s\n",
      "[CV 5/5] END .....C=1, gamma=100, kernel=linear;, score=0.917 total time=   0.0s\n",
      "[CV 1/5] END ........C=1, gamma=100, kernel=rbf;, score=0.760 total time=   0.0s\n",
      "[CV 2/5] END ........C=1, gamma=100, kernel=rbf;, score=0.800 total time=   0.0s\n",
      "[CV 3/5] END ........C=1, gamma=100, kernel=rbf;, score=0.800 total time=   0.0s\n",
      "[CV 4/5] END ........C=1, gamma=100, kernel=rbf;, score=0.800 total time=   0.0s\n",
      "[CV 5/5] END ........C=1, gamma=100, kernel=rbf;, score=0.792 total time=   0.0s\n",
      "[CV 1/5] END .......C=1, gamma=100, kernel=poly;, score=0.880 total time=   0.0s\n",
      "[CV 2/5] END .......C=1, gamma=100, kernel=poly;, score=0.840 total time=   0.0s\n",
      "[CV 3/5] END .......C=1, gamma=100, kernel=poly;, score=0.800 total time=   0.0s\n",
      "[CV 4/5] END .......C=1, gamma=100, kernel=poly;, score=0.800 total time=   0.0s\n",
      "[CV 5/5] END .......C=1, gamma=100, kernel=poly;, score=0.750 total time=   0.0s\n",
      "[CV 1/5] END ......C=10, gamma=0, kernel=linear;, score=0.920 total time=   0.0s\n",
      "[CV 2/5] END ......C=10, gamma=0, kernel=linear;, score=0.920 total time=   0.0s\n",
      "[CV 3/5] END ......C=10, gamma=0, kernel=linear;, score=0.720 total time=   0.0s\n",
      "[CV 4/5] END ......C=10, gamma=0, kernel=linear;, score=0.720 total time=   0.0s\n",
      "[CV 5/5] END ......C=10, gamma=0, kernel=linear;, score=0.875 total time=   0.0s\n",
      "[CV 1/5] END .........C=10, gamma=0, kernel=rbf;, score=0.760 total time=   0.0s\n",
      "[CV 2/5] END .........C=10, gamma=0, kernel=rbf;, score=0.800 total time=   0.0s\n",
      "[CV 3/5] END .........C=10, gamma=0, kernel=rbf;, score=0.800 total time=   0.0s\n",
      "[CV 4/5] END .........C=10, gamma=0, kernel=rbf;, score=0.800 total time=   0.0s\n",
      "[CV 5/5] END .........C=10, gamma=0, kernel=rbf;, score=0.792 total time=   0.0s\n",
      "[CV 1/5] END ........C=10, gamma=0, kernel=poly;, score=0.760 total time=   0.0s\n",
      "[CV 2/5] END ........C=10, gamma=0, kernel=poly;, score=0.800 total time=   0.0s\n",
      "[CV 3/5] END ........C=10, gamma=0, kernel=poly;, score=0.800 total time=   0.0s\n",
      "[CV 4/5] END ........C=10, gamma=0, kernel=poly;, score=0.800 total time=   0.0s\n",
      "[CV 5/5] END ........C=10, gamma=0, kernel=poly;, score=0.792 total time=   0.0s\n",
      "[CV 1/5] END .C=10, gamma=0.0001, kernel=linear;, score=0.920 total time=   0.0s\n",
      "[CV 2/5] END .C=10, gamma=0.0001, kernel=linear;, score=0.920 total time=   0.0s\n",
      "[CV 3/5] END .C=10, gamma=0.0001, kernel=linear;, score=0.720 total time=   0.0s\n",
      "[CV 4/5] END .C=10, gamma=0.0001, kernel=linear;, score=0.720 total time=   0.0s\n",
      "[CV 5/5] END .C=10, gamma=0.0001, kernel=linear;, score=0.875 total time=   0.0s\n",
      "[CV 1/5] END ....C=10, gamma=0.0001, kernel=rbf;, score=0.760 total time=   0.0s\n",
      "[CV 2/5] END ....C=10, gamma=0.0001, kernel=rbf;, score=0.800 total time=   0.0s\n",
      "[CV 3/5] END ....C=10, gamma=0.0001, kernel=rbf;, score=0.800 total time=   0.0s\n",
      "[CV 4/5] END ....C=10, gamma=0.0001, kernel=rbf;, score=0.800 total time=   0.0s\n",
      "[CV 5/5] END ....C=10, gamma=0.0001, kernel=rbf;, score=0.792 total time=   0.0s\n",
      "[CV 1/5] END ...C=10, gamma=0.0001, kernel=poly;, score=0.760 total time=   0.0s\n",
      "[CV 2/5] END ...C=10, gamma=0.0001, kernel=poly;, score=0.800 total time=   0.0s\n",
      "[CV 3/5] END ...C=10, gamma=0.0001, kernel=poly;, score=0.800 total time=   0.0s\n",
      "[CV 4/5] END ...C=10, gamma=0.0001, kernel=poly;, score=0.800 total time=   0.0s\n",
      "[CV 5/5] END ...C=10, gamma=0.0001, kernel=poly;, score=0.792 total time=   0.0s\n",
      "[CV 1/5] END ..C=10, gamma=0.001, kernel=linear;, score=0.920 total time=   0.0s\n",
      "[CV 2/5] END ..C=10, gamma=0.001, kernel=linear;, score=0.920 total time=   0.0s\n",
      "[CV 3/5] END ..C=10, gamma=0.001, kernel=linear;, score=0.720 total time=   0.0s\n",
      "[CV 4/5] END ..C=10, gamma=0.001, kernel=linear;, score=0.720 total time=   0.0s\n",
      "[CV 5/5] END ..C=10, gamma=0.001, kernel=linear;, score=0.875 total time=   0.0s\n",
      "[CV 1/5] END .....C=10, gamma=0.001, kernel=rbf;, score=0.760 total time=   0.0s\n",
      "[CV 2/5] END .....C=10, gamma=0.001, kernel=rbf;, score=0.800 total time=   0.0s\n",
      "[CV 3/5] END .....C=10, gamma=0.001, kernel=rbf;, score=0.800 total time=   0.0s\n",
      "[CV 4/5] END .....C=10, gamma=0.001, kernel=rbf;, score=0.800 total time=   0.0s\n",
      "[CV 5/5] END .....C=10, gamma=0.001, kernel=rbf;, score=0.833 total time=   0.0s\n",
      "[CV 1/5] END ....C=10, gamma=0.001, kernel=poly;, score=0.760 total time=   0.0s\n",
      "[CV 2/5] END ....C=10, gamma=0.001, kernel=poly;, score=0.800 total time=   0.0s\n",
      "[CV 3/5] END ....C=10, gamma=0.001, kernel=poly;, score=0.800 total time=   0.0s\n",
      "[CV 4/5] END ....C=10, gamma=0.001, kernel=poly;, score=0.800 total time=   0.0s\n",
      "[CV 5/5] END ....C=10, gamma=0.001, kernel=poly;, score=0.792 total time=   0.0s\n",
      "[CV 1/5] END ...C=10, gamma=0.01, kernel=linear;, score=0.920 total time=   0.0s\n",
      "[CV 2/5] END ...C=10, gamma=0.01, kernel=linear;, score=0.920 total time=   0.0s\n",
      "[CV 3/5] END ...C=10, gamma=0.01, kernel=linear;, score=0.720 total time=   0.0s\n",
      "[CV 4/5] END ...C=10, gamma=0.01, kernel=linear;, score=0.720 total time=   0.0s\n",
      "[CV 5/5] END ...C=10, gamma=0.01, kernel=linear;, score=0.875 total time=   0.0s\n",
      "[CV 1/5] END ......C=10, gamma=0.01, kernel=rbf;, score=0.800 total time=   0.0s\n",
      "[CV 2/5] END ......C=10, gamma=0.01, kernel=rbf;, score=0.960 total time=   0.0s\n",
      "[CV 3/5] END ......C=10, gamma=0.01, kernel=rbf;, score=0.760 total time=   0.0s\n",
      "[CV 4/5] END ......C=10, gamma=0.01, kernel=rbf;, score=0.800 total time=   0.0s\n",
      "[CV 5/5] END ......C=10, gamma=0.01, kernel=rbf;, score=0.917 total time=   0.0s\n",
      "[CV 1/5] END .....C=10, gamma=0.01, kernel=poly;, score=0.760 total time=   0.0s\n",
      "[CV 2/5] END .....C=10, gamma=0.01, kernel=poly;, score=0.800 total time=   0.0s\n",
      "[CV 3/5] END .....C=10, gamma=0.01, kernel=poly;, score=0.800 total time=   0.0s\n",
      "[CV 4/5] END .....C=10, gamma=0.01, kernel=poly;, score=0.800 total time=   0.0s\n",
      "[CV 5/5] END .....C=10, gamma=0.01, kernel=poly;, score=0.792 total time=   0.0s\n",
      "[CV 1/5] END ....C=10, gamma=0.1, kernel=linear;, score=0.920 total time=   0.0s\n",
      "[CV 2/5] END ....C=10, gamma=0.1, kernel=linear;, score=0.920 total time=   0.0s\n",
      "[CV 3/5] END ....C=10, gamma=0.1, kernel=linear;, score=0.720 total time=   0.0s\n",
      "[CV 4/5] END ....C=10, gamma=0.1, kernel=linear;, score=0.720 total time=   0.0s\n",
      "[CV 5/5] END ....C=10, gamma=0.1, kernel=linear;, score=0.875 total time=   0.0s\n",
      "[CV 1/5] END .......C=10, gamma=0.1, kernel=rbf;, score=0.840 total time=   0.0s\n",
      "[CV 2/5] END .......C=10, gamma=0.1, kernel=rbf;, score=0.800 total time=   0.0s\n",
      "[CV 3/5] END .......C=10, gamma=0.1, kernel=rbf;, score=0.760 total time=   0.0s\n",
      "[CV 4/5] END .......C=10, gamma=0.1, kernel=rbf;, score=0.840 total time=   0.0s\n",
      "[CV 5/5] END .......C=10, gamma=0.1, kernel=rbf;, score=0.792 total time=   0.0s\n",
      "[CV 1/5] END ......C=10, gamma=0.1, kernel=poly;, score=0.880 total time=   0.0s\n",
      "[CV 2/5] END ......C=10, gamma=0.1, kernel=poly;, score=0.840 total time=   0.0s\n",
      "[CV 3/5] END ......C=10, gamma=0.1, kernel=poly;, score=0.800 total time=   0.0s\n",
      "[CV 4/5] END ......C=10, gamma=0.1, kernel=poly;, score=0.800 total time=   0.0s\n",
      "[CV 5/5] END ......C=10, gamma=0.1, kernel=poly;, score=0.750 total time=   0.0s\n",
      "[CV 1/5] END ......C=10, gamma=1, kernel=linear;, score=0.920 total time=   0.0s\n",
      "[CV 2/5] END ......C=10, gamma=1, kernel=linear;, score=0.920 total time=   0.0s\n",
      "[CV 3/5] END ......C=10, gamma=1, kernel=linear;, score=0.720 total time=   0.0s\n",
      "[CV 4/5] END ......C=10, gamma=1, kernel=linear;, score=0.720 total time=   0.0s\n",
      "[CV 5/5] END ......C=10, gamma=1, kernel=linear;, score=0.875 total time=   0.0s\n",
      "[CV 1/5] END .........C=10, gamma=1, kernel=rbf;, score=0.760 total time=   0.0s\n",
      "[CV 2/5] END .........C=10, gamma=1, kernel=rbf;, score=0.800 total time=   0.0s\n",
      "[CV 3/5] END .........C=10, gamma=1, kernel=rbf;, score=0.800 total time=   0.0s\n",
      "[CV 4/5] END .........C=10, gamma=1, kernel=rbf;, score=0.800 total time=   0.0s\n",
      "[CV 5/5] END .........C=10, gamma=1, kernel=rbf;, score=0.792 total time=   0.0s\n",
      "[CV 1/5] END ........C=10, gamma=1, kernel=poly;, score=0.880 total time=   0.0s\n",
      "[CV 2/5] END ........C=10, gamma=1, kernel=poly;, score=0.840 total time=   0.0s\n",
      "[CV 3/5] END ........C=10, gamma=1, kernel=poly;, score=0.800 total time=   0.0s\n",
      "[CV 4/5] END ........C=10, gamma=1, kernel=poly;, score=0.800 total time=   0.0s\n",
      "[CV 5/5] END ........C=10, gamma=1, kernel=poly;, score=0.750 total time=   0.0s\n",
      "[CV 1/5] END .....C=10, gamma=10, kernel=linear;, score=0.920 total time=   0.0s\n",
      "[CV 2/5] END .....C=10, gamma=10, kernel=linear;, score=0.920 total time=   0.0s\n",
      "[CV 3/5] END .....C=10, gamma=10, kernel=linear;, score=0.720 total time=   0.0s\n",
      "[CV 4/5] END .....C=10, gamma=10, kernel=linear;, score=0.720 total time=   0.0s\n",
      "[CV 5/5] END .....C=10, gamma=10, kernel=linear;, score=0.875 total time=   0.0s\n",
      "[CV 1/5] END ........C=10, gamma=10, kernel=rbf;, score=0.760 total time=   0.0s\n",
      "[CV 2/5] END ........C=10, gamma=10, kernel=rbf;, score=0.800 total time=   0.0s\n",
      "[CV 3/5] END ........C=10, gamma=10, kernel=rbf;, score=0.800 total time=   0.0s\n",
      "[CV 4/5] END ........C=10, gamma=10, kernel=rbf;, score=0.800 total time=   0.0s\n",
      "[CV 5/5] END ........C=10, gamma=10, kernel=rbf;, score=0.792 total time=   0.0s\n",
      "[CV 1/5] END .......C=10, gamma=10, kernel=poly;, score=0.880 total time=   0.0s\n",
      "[CV 2/5] END .......C=10, gamma=10, kernel=poly;, score=0.840 total time=   0.0s\n",
      "[CV 3/5] END .......C=10, gamma=10, kernel=poly;, score=0.800 total time=   0.0s\n",
      "[CV 4/5] END .......C=10, gamma=10, kernel=poly;, score=0.800 total time=   0.0s\n",
      "[CV 5/5] END .......C=10, gamma=10, kernel=poly;, score=0.750 total time=   0.0s\n",
      "[CV 1/5] END ....C=10, gamma=100, kernel=linear;, score=0.920 total time=   0.0s\n",
      "[CV 2/5] END ....C=10, gamma=100, kernel=linear;, score=0.920 total time=   0.0s\n",
      "[CV 3/5] END ....C=10, gamma=100, kernel=linear;, score=0.720 total time=   0.0s\n",
      "[CV 4/5] END ....C=10, gamma=100, kernel=linear;, score=0.720 total time=   0.0s\n",
      "[CV 5/5] END ....C=10, gamma=100, kernel=linear;, score=0.875 total time=   0.0s\n",
      "[CV 1/5] END .......C=10, gamma=100, kernel=rbf;, score=0.760 total time=   0.0s\n",
      "[CV 2/5] END .......C=10, gamma=100, kernel=rbf;, score=0.800 total time=   0.0s\n",
      "[CV 3/5] END .......C=10, gamma=100, kernel=rbf;, score=0.800 total time=   0.0s\n",
      "[CV 4/5] END .......C=10, gamma=100, kernel=rbf;, score=0.800 total time=   0.0s\n",
      "[CV 5/5] END .......C=10, gamma=100, kernel=rbf;, score=0.792 total time=   0.0s\n",
      "[CV 1/5] END ......C=10, gamma=100, kernel=poly;, score=0.880 total time=   0.0s\n",
      "[CV 2/5] END ......C=10, gamma=100, kernel=poly;, score=0.840 total time=   0.0s\n",
      "[CV 3/5] END ......C=10, gamma=100, kernel=poly;, score=0.800 total time=   0.0s\n",
      "[CV 4/5] END ......C=10, gamma=100, kernel=poly;, score=0.800 total time=   0.0s\n",
      "[CV 5/5] END ......C=10, gamma=100, kernel=poly;, score=0.750 total time=   0.0s\n",
      "[CV 1/5] END .....C=100, gamma=0, kernel=linear;, score=0.920 total time=   0.0s\n",
      "[CV 2/5] END .....C=100, gamma=0, kernel=linear;, score=0.920 total time=   0.0s\n",
      "[CV 3/5] END .....C=100, gamma=0, kernel=linear;, score=0.760 total time=   0.0s\n",
      "[CV 4/5] END .....C=100, gamma=0, kernel=linear;, score=0.760 total time=   0.0s\n",
      "[CV 5/5] END .....C=100, gamma=0, kernel=linear;, score=0.833 total time=   0.0s\n",
      "[CV 1/5] END ........C=100, gamma=0, kernel=rbf;, score=0.760 total time=   0.0s\n",
      "[CV 2/5] END ........C=100, gamma=0, kernel=rbf;, score=0.800 total time=   0.0s\n",
      "[CV 3/5] END ........C=100, gamma=0, kernel=rbf;, score=0.800 total time=   0.0s\n",
      "[CV 4/5] END ........C=100, gamma=0, kernel=rbf;, score=0.800 total time=   0.0s\n",
      "[CV 5/5] END ........C=100, gamma=0, kernel=rbf;, score=0.792 total time=   0.0s\n",
      "[CV 1/5] END .......C=100, gamma=0, kernel=poly;, score=0.760 total time=   0.0s\n",
      "[CV 2/5] END .......C=100, gamma=0, kernel=poly;, score=0.800 total time=   0.0s\n",
      "[CV 3/5] END .......C=100, gamma=0, kernel=poly;, score=0.800 total time=   0.0s\n",
      "[CV 4/5] END .......C=100, gamma=0, kernel=poly;, score=0.800 total time=   0.0s\n",
      "[CV 5/5] END .......C=100, gamma=0, kernel=poly;, score=0.792 total time=   0.0s\n",
      "[CV 1/5] END C=100, gamma=0.0001, kernel=linear;, score=0.920 total time=   0.0s\n",
      "[CV 2/5] END C=100, gamma=0.0001, kernel=linear;, score=0.920 total time=   0.0s\n",
      "[CV 3/5] END C=100, gamma=0.0001, kernel=linear;, score=0.760 total time=   0.0s\n",
      "[CV 4/5] END C=100, gamma=0.0001, kernel=linear;, score=0.760 total time=   0.0s\n",
      "[CV 5/5] END C=100, gamma=0.0001, kernel=linear;, score=0.833 total time=   0.0s\n",
      "[CV 1/5] END ...C=100, gamma=0.0001, kernel=rbf;, score=0.760 total time=   0.0s\n",
      "[CV 2/5] END ...C=100, gamma=0.0001, kernel=rbf;, score=0.800 total time=   0.0s\n",
      "[CV 3/5] END ...C=100, gamma=0.0001, kernel=rbf;, score=0.800 total time=   0.0s\n",
      "[CV 4/5] END ...C=100, gamma=0.0001, kernel=rbf;, score=0.800 total time=   0.0s\n",
      "[CV 5/5] END ...C=100, gamma=0.0001, kernel=rbf;, score=0.833 total time=   0.0s\n",
      "[CV 1/5] END ..C=100, gamma=0.0001, kernel=poly;, score=0.760 total time=   0.0s\n",
      "[CV 2/5] END ..C=100, gamma=0.0001, kernel=poly;, score=0.800 total time=   0.0s\n",
      "[CV 3/5] END ..C=100, gamma=0.0001, kernel=poly;, score=0.800 total time=   0.0s\n",
      "[CV 4/5] END ..C=100, gamma=0.0001, kernel=poly;, score=0.800 total time=   0.0s\n",
      "[CV 5/5] END ..C=100, gamma=0.0001, kernel=poly;, score=0.792 total time=   0.0s\n",
      "[CV 1/5] END .C=100, gamma=0.001, kernel=linear;, score=0.920 total time=   0.0s\n",
      "[CV 2/5] END .C=100, gamma=0.001, kernel=linear;, score=0.920 total time=   0.0s\n",
      "[CV 3/5] END .C=100, gamma=0.001, kernel=linear;, score=0.760 total time=   0.0s\n",
      "[CV 4/5] END .C=100, gamma=0.001, kernel=linear;, score=0.760 total time=   0.0s\n",
      "[CV 5/5] END .C=100, gamma=0.001, kernel=linear;, score=0.833 total time=   0.0s\n",
      "[CV 1/5] END ....C=100, gamma=0.001, kernel=rbf;, score=0.800 total time=   0.0s\n",
      "[CV 2/5] END ....C=100, gamma=0.001, kernel=rbf;, score=0.920 total time=   0.0s\n",
      "[CV 3/5] END ....C=100, gamma=0.001, kernel=rbf;, score=0.760 total time=   0.0s\n",
      "[CV 4/5] END ....C=100, gamma=0.001, kernel=rbf;, score=0.800 total time=   0.0s\n",
      "[CV 5/5] END ....C=100, gamma=0.001, kernel=rbf;, score=0.917 total time=   0.0s\n",
      "[CV 1/5] END ...C=100, gamma=0.001, kernel=poly;, score=0.760 total time=   0.0s\n",
      "[CV 2/5] END ...C=100, gamma=0.001, kernel=poly;, score=0.800 total time=   0.0s\n",
      "[CV 3/5] END ...C=100, gamma=0.001, kernel=poly;, score=0.800 total time=   0.0s\n",
      "[CV 4/5] END ...C=100, gamma=0.001, kernel=poly;, score=0.800 total time=   0.0s\n",
      "[CV 5/5] END ...C=100, gamma=0.001, kernel=poly;, score=0.792 total time=   0.0s\n",
      "[CV 1/5] END ..C=100, gamma=0.01, kernel=linear;, score=0.920 total time=   0.0s\n",
      "[CV 2/5] END ..C=100, gamma=0.01, kernel=linear;, score=0.920 total time=   0.0s\n",
      "[CV 3/5] END ..C=100, gamma=0.01, kernel=linear;, score=0.760 total time=   0.0s\n",
      "[CV 4/5] END ..C=100, gamma=0.01, kernel=linear;, score=0.760 total time=   0.0s\n",
      "[CV 5/5] END ..C=100, gamma=0.01, kernel=linear;, score=0.833 total time=   0.0s\n",
      "[CV 1/5] END .....C=100, gamma=0.01, kernel=rbf;, score=0.880 total time=   0.0s\n",
      "[CV 2/5] END .....C=100, gamma=0.01, kernel=rbf;, score=0.920 total time=   0.0s\n",
      "[CV 3/5] END .....C=100, gamma=0.01, kernel=rbf;, score=0.760 total time=   0.0s\n",
      "[CV 4/5] END .....C=100, gamma=0.01, kernel=rbf;, score=0.680 total time=   0.0s\n",
      "[CV 5/5] END .....C=100, gamma=0.01, kernel=rbf;, score=0.667 total time=   0.0s\n",
      "[CV 1/5] END ....C=100, gamma=0.01, kernel=poly;, score=0.760 total time=   0.0s\n",
      "[CV 2/5] END ....C=100, gamma=0.01, kernel=poly;, score=0.800 total time=   0.0s\n",
      "[CV 3/5] END ....C=100, gamma=0.01, kernel=poly;, score=0.800 total time=   0.0s\n",
      "[CV 4/5] END ....C=100, gamma=0.01, kernel=poly;, score=0.800 total time=   0.0s\n",
      "[CV 5/5] END ....C=100, gamma=0.01, kernel=poly;, score=0.833 total time=   0.0s\n",
      "[CV 1/5] END ...C=100, gamma=0.1, kernel=linear;, score=0.920 total time=   0.0s\n",
      "[CV 2/5] END ...C=100, gamma=0.1, kernel=linear;, score=0.920 total time=   0.0s\n",
      "[CV 3/5] END ...C=100, gamma=0.1, kernel=linear;, score=0.760 total time=   0.0s\n",
      "[CV 4/5] END ...C=100, gamma=0.1, kernel=linear;, score=0.760 total time=   0.0s\n",
      "[CV 5/5] END ...C=100, gamma=0.1, kernel=linear;, score=0.833 total time=   0.0s\n",
      "[CV 1/5] END ......C=100, gamma=0.1, kernel=rbf;, score=0.840 total time=   0.0s\n",
      "[CV 2/5] END ......C=100, gamma=0.1, kernel=rbf;, score=0.760 total time=   0.0s\n",
      "[CV 3/5] END ......C=100, gamma=0.1, kernel=rbf;, score=0.760 total time=   0.0s\n",
      "[CV 4/5] END ......C=100, gamma=0.1, kernel=rbf;, score=0.840 total time=   0.0s\n",
      "[CV 5/5] END ......C=100, gamma=0.1, kernel=rbf;, score=0.792 total time=   0.0s\n",
      "[CV 1/5] END .....C=100, gamma=0.1, kernel=poly;, score=0.880 total time=   0.0s\n",
      "[CV 2/5] END .....C=100, gamma=0.1, kernel=poly;, score=0.840 total time=   0.0s\n",
      "[CV 3/5] END .....C=100, gamma=0.1, kernel=poly;, score=0.800 total time=   0.0s\n",
      "[CV 4/5] END .....C=100, gamma=0.1, kernel=poly;, score=0.800 total time=   0.0s\n",
      "[CV 5/5] END .....C=100, gamma=0.1, kernel=poly;, score=0.750 total time=   0.0s\n",
      "[CV 1/5] END .....C=100, gamma=1, kernel=linear;, score=0.920 total time=   0.0s\n",
      "[CV 2/5] END .....C=100, gamma=1, kernel=linear;, score=0.920 total time=   0.0s\n",
      "[CV 3/5] END .....C=100, gamma=1, kernel=linear;, score=0.760 total time=   0.0s\n",
      "[CV 4/5] END .....C=100, gamma=1, kernel=linear;, score=0.760 total time=   0.0s\n",
      "[CV 5/5] END .....C=100, gamma=1, kernel=linear;, score=0.833 total time=   0.0s\n",
      "[CV 1/5] END ........C=100, gamma=1, kernel=rbf;, score=0.760 total time=   0.0s\n",
      "[CV 2/5] END ........C=100, gamma=1, kernel=rbf;, score=0.800 total time=   0.0s\n",
      "[CV 3/5] END ........C=100, gamma=1, kernel=rbf;, score=0.800 total time=   0.0s\n",
      "[CV 4/5] END ........C=100, gamma=1, kernel=rbf;, score=0.800 total time=   0.0s\n",
      "[CV 5/5] END ........C=100, gamma=1, kernel=rbf;, score=0.792 total time=   0.0s\n",
      "[CV 1/5] END .......C=100, gamma=1, kernel=poly;, score=0.880 total time=   0.0s\n",
      "[CV 2/5] END .......C=100, gamma=1, kernel=poly;, score=0.840 total time=   0.0s\n",
      "[CV 3/5] END .......C=100, gamma=1, kernel=poly;, score=0.800 total time=   0.0s\n",
      "[CV 4/5] END .......C=100, gamma=1, kernel=poly;, score=0.800 total time=   0.0s\n",
      "[CV 5/5] END .......C=100, gamma=1, kernel=poly;, score=0.750 total time=   0.0s\n",
      "[CV 1/5] END ....C=100, gamma=10, kernel=linear;, score=0.920 total time=   0.0s\n",
      "[CV 2/5] END ....C=100, gamma=10, kernel=linear;, score=0.920 total time=   0.0s\n",
      "[CV 3/5] END ....C=100, gamma=10, kernel=linear;, score=0.760 total time=   0.0s\n",
      "[CV 4/5] END ....C=100, gamma=10, kernel=linear;, score=0.760 total time=   0.0s\n",
      "[CV 5/5] END ....C=100, gamma=10, kernel=linear;, score=0.833 total time=   0.0s\n",
      "[CV 1/5] END .......C=100, gamma=10, kernel=rbf;, score=0.760 total time=   0.0s\n",
      "[CV 2/5] END .......C=100, gamma=10, kernel=rbf;, score=0.800 total time=   0.0s\n",
      "[CV 3/5] END .......C=100, gamma=10, kernel=rbf;, score=0.800 total time=   0.0s\n",
      "[CV 4/5] END .......C=100, gamma=10, kernel=rbf;, score=0.800 total time=   0.0s\n",
      "[CV 5/5] END .......C=100, gamma=10, kernel=rbf;, score=0.792 total time=   0.0s\n",
      "[CV 1/5] END ......C=100, gamma=10, kernel=poly;, score=0.880 total time=   0.0s\n",
      "[CV 2/5] END ......C=100, gamma=10, kernel=poly;, score=0.840 total time=   0.0s\n",
      "[CV 3/5] END ......C=100, gamma=10, kernel=poly;, score=0.800 total time=   0.0s\n",
      "[CV 4/5] END ......C=100, gamma=10, kernel=poly;, score=0.800 total time=   0.0s\n",
      "[CV 5/5] END ......C=100, gamma=10, kernel=poly;, score=0.750 total time=   0.0s\n",
      "[CV 1/5] END ...C=100, gamma=100, kernel=linear;, score=0.920 total time=   0.0s\n",
      "[CV 2/5] END ...C=100, gamma=100, kernel=linear;, score=0.920 total time=   0.0s\n",
      "[CV 3/5] END ...C=100, gamma=100, kernel=linear;, score=0.760 total time=   0.0s\n",
      "[CV 4/5] END ...C=100, gamma=100, kernel=linear;, score=0.760 total time=   0.0s\n",
      "[CV 5/5] END ...C=100, gamma=100, kernel=linear;, score=0.833 total time=   0.0s\n",
      "[CV 1/5] END ......C=100, gamma=100, kernel=rbf;, score=0.760 total time=   0.0s\n",
      "[CV 2/5] END ......C=100, gamma=100, kernel=rbf;, score=0.800 total time=   0.0s\n",
      "[CV 3/5] END ......C=100, gamma=100, kernel=rbf;, score=0.800 total time=   0.0s\n",
      "[CV 4/5] END ......C=100, gamma=100, kernel=rbf;, score=0.800 total time=   0.0s\n",
      "[CV 5/5] END ......C=100, gamma=100, kernel=rbf;, score=0.792 total time=   0.0s\n",
      "[CV 1/5] END .....C=100, gamma=100, kernel=poly;, score=0.880 total time=   0.0s\n",
      "[CV 2/5] END .....C=100, gamma=100, kernel=poly;, score=0.840 total time=   0.0s\n",
      "[CV 3/5] END .....C=100, gamma=100, kernel=poly;, score=0.800 total time=   0.0s\n",
      "[CV 4/5] END .....C=100, gamma=100, kernel=poly;, score=0.800 total time=   0.0s\n",
      "[CV 5/5] END .....C=100, gamma=100, kernel=poly;, score=0.750 total time=   0.0s\n"
     ]
    },
    {
     "data": {
      "text/html": [
       "<style>#sk-container-id-6 {color: black;}#sk-container-id-6 pre{padding: 0;}#sk-container-id-6 div.sk-toggleable {background-color: white;}#sk-container-id-6 label.sk-toggleable__label {cursor: pointer;display: block;width: 100%;margin-bottom: 0;padding: 0.3em;box-sizing: border-box;text-align: center;}#sk-container-id-6 label.sk-toggleable__label-arrow:before {content: \"▸\";float: left;margin-right: 0.25em;color: #696969;}#sk-container-id-6 label.sk-toggleable__label-arrow:hover:before {color: black;}#sk-container-id-6 div.sk-estimator:hover label.sk-toggleable__label-arrow:before {color: black;}#sk-container-id-6 div.sk-toggleable__content {max-height: 0;max-width: 0;overflow: hidden;text-align: left;background-color: #f0f8ff;}#sk-container-id-6 div.sk-toggleable__content pre {margin: 0.2em;color: black;border-radius: 0.25em;background-color: #f0f8ff;}#sk-container-id-6 input.sk-toggleable__control:checked~div.sk-toggleable__content {max-height: 200px;max-width: 100%;overflow: auto;}#sk-container-id-6 input.sk-toggleable__control:checked~label.sk-toggleable__label-arrow:before {content: \"▾\";}#sk-container-id-6 div.sk-estimator input.sk-toggleable__control:checked~label.sk-toggleable__label {background-color: #d4ebff;}#sk-container-id-6 div.sk-label input.sk-toggleable__control:checked~label.sk-toggleable__label {background-color: #d4ebff;}#sk-container-id-6 input.sk-hidden--visually {border: 0;clip: rect(1px 1px 1px 1px);clip: rect(1px, 1px, 1px, 1px);height: 1px;margin: -1px;overflow: hidden;padding: 0;position: absolute;width: 1px;}#sk-container-id-6 div.sk-estimator {font-family: monospace;background-color: #f0f8ff;border: 1px dotted black;border-radius: 0.25em;box-sizing: border-box;margin-bottom: 0.5em;}#sk-container-id-6 div.sk-estimator:hover {background-color: #d4ebff;}#sk-container-id-6 div.sk-parallel-item::after {content: \"\";width: 100%;border-bottom: 1px solid gray;flex-grow: 1;}#sk-container-id-6 div.sk-label:hover label.sk-toggleable__label {background-color: #d4ebff;}#sk-container-id-6 div.sk-serial::before {content: \"\";position: absolute;border-left: 1px solid gray;box-sizing: border-box;top: 0;bottom: 0;left: 50%;z-index: 0;}#sk-container-id-6 div.sk-serial {display: flex;flex-direction: column;align-items: center;background-color: white;padding-right: 0.2em;padding-left: 0.2em;position: relative;}#sk-container-id-6 div.sk-item {position: relative;z-index: 1;}#sk-container-id-6 div.sk-parallel {display: flex;align-items: stretch;justify-content: center;background-color: white;position: relative;}#sk-container-id-6 div.sk-item::before, #sk-container-id-6 div.sk-parallel-item::before {content: \"\";position: absolute;border-left: 1px solid gray;box-sizing: border-box;top: 0;bottom: 0;left: 50%;z-index: -1;}#sk-container-id-6 div.sk-parallel-item {display: flex;flex-direction: column;z-index: 1;position: relative;background-color: white;}#sk-container-id-6 div.sk-parallel-item:first-child::after {align-self: flex-end;width: 50%;}#sk-container-id-6 div.sk-parallel-item:last-child::after {align-self: flex-start;width: 50%;}#sk-container-id-6 div.sk-parallel-item:only-child::after {width: 0;}#sk-container-id-6 div.sk-dashed-wrapped {border: 1px dashed gray;margin: 0 0.4em 0.5em 0.4em;box-sizing: border-box;padding-bottom: 0.4em;background-color: white;}#sk-container-id-6 div.sk-label label {font-family: monospace;font-weight: bold;display: inline-block;line-height: 1.2em;}#sk-container-id-6 div.sk-label-container {text-align: center;}#sk-container-id-6 div.sk-container {/* jupyter's `normalize.less` sets `[hidden] { display: none; }` but bootstrap.min.css set `[hidden] { display: none !important; }` so we also need the `!important` here to be able to override the default hidden behavior on the sphinx rendered scikit-learn.org. See: https://github.com/scikit-learn/scikit-learn/issues/21755 */display: inline-block !important;position: relative;}#sk-container-id-6 div.sk-text-repr-fallback {display: none;}</style><div id=\"sk-container-id-6\" class=\"sk-top-container\"><div class=\"sk-text-repr-fallback\"><pre>GridSearchCV(cv=5, estimator=SVC(),\n",
       "             param_grid={&#x27;C&#x27;: [0.001, 0.01, 0.1, 1, 10, 100],\n",
       "                         &#x27;gamma&#x27;: [0, 0.0001, 0.001, 0.01, 0.1, 1, 10, 100],\n",
       "                         &#x27;kernel&#x27;: [&#x27;linear&#x27;, &#x27;rbf&#x27;, &#x27;poly&#x27;]},\n",
       "             verbose=3)</pre><b>In a Jupyter environment, please rerun this cell to show the HTML representation or trust the notebook. <br />On GitHub, the HTML representation is unable to render, please try loading this page with nbviewer.org.</b></div><div class=\"sk-container\" hidden><div class=\"sk-item sk-dashed-wrapped\"><div class=\"sk-label-container\"><div class=\"sk-label sk-toggleable\"><input class=\"sk-toggleable__control sk-hidden--visually\" id=\"sk-estimator-id-6\" type=\"checkbox\" ><label for=\"sk-estimator-id-6\" class=\"sk-toggleable__label sk-toggleable__label-arrow\">GridSearchCV</label><div class=\"sk-toggleable__content\"><pre>GridSearchCV(cv=5, estimator=SVC(),\n",
       "             param_grid={&#x27;C&#x27;: [0.001, 0.01, 0.1, 1, 10, 100],\n",
       "                         &#x27;gamma&#x27;: [0, 0.0001, 0.001, 0.01, 0.1, 1, 10, 100],\n",
       "                         &#x27;kernel&#x27;: [&#x27;linear&#x27;, &#x27;rbf&#x27;, &#x27;poly&#x27;]},\n",
       "             verbose=3)</pre></div></div></div><div class=\"sk-parallel\"><div class=\"sk-parallel-item\"><div class=\"sk-item\"><div class=\"sk-label-container\"><div class=\"sk-label sk-toggleable\"><input class=\"sk-toggleable__control sk-hidden--visually\" id=\"sk-estimator-id-7\" type=\"checkbox\" ><label for=\"sk-estimator-id-7\" class=\"sk-toggleable__label sk-toggleable__label-arrow\">estimator: SVC</label><div class=\"sk-toggleable__content\"><pre>SVC()</pre></div></div></div><div class=\"sk-serial\"><div class=\"sk-item\"><div class=\"sk-estimator sk-toggleable\"><input class=\"sk-toggleable__control sk-hidden--visually\" id=\"sk-estimator-id-8\" type=\"checkbox\" ><label for=\"sk-estimator-id-8\" class=\"sk-toggleable__label sk-toggleable__label-arrow\">SVC</label><div class=\"sk-toggleable__content\"><pre>SVC()</pre></div></div></div></div></div></div></div></div></div></div>"
      ],
      "text/plain": [
       "GridSearchCV(cv=5, estimator=SVC(),\n",
       "             param_grid={'C': [0.001, 0.01, 0.1, 1, 10, 100],\n",
       "                         'gamma': [0, 0.0001, 0.001, 0.01, 0.1, 1, 10, 100],\n",
       "                         'kernel': ['linear', 'rbf', 'poly']},\n",
       "             verbose=3)"
      ]
     },
     "execution_count": 53,
     "metadata": {},
     "output_type": "execute_result"
    }
   ],
   "source": [
    "## Fit the grid search model\n",
    "svc_cv_grid.fit(X=X_train, y=y_train)"
   ]
  },
  {
   "cell_type": "code",
   "execution_count": 54,
   "metadata": {
    "execution": {
     "iopub.execute_input": "2021-03-23T01:54:21.064360Z",
     "iopub.status.busy": "2021-03-23T01:54:21.063565Z",
     "iopub.status.idle": "2021-03-23T01:54:21.067247Z",
     "shell.execute_reply": "2021-03-23T01:54:21.066846Z"
    },
    "papermill": {
     "duration": 0.063351,
     "end_time": "2021-03-23T01:54:21.067359",
     "exception": false,
     "start_time": "2021-03-23T01:54:21.004008",
     "status": "completed"
    },
    "tags": []
   },
   "outputs": [
    {
     "data": {
      "text/plain": [
       "{'C': 0.001, 'gamma': 1, 'kernel': 'poly'}"
      ]
     },
     "execution_count": 54,
     "metadata": {},
     "output_type": "execute_result"
    }
   ],
   "source": [
    "# Get the best parameters\n",
    "svc_cv_grid.best_params_"
   ]
  },
  {
   "cell_type": "code",
   "execution_count": 55,
   "metadata": {
    "execution": {
     "iopub.execute_input": "2021-03-23T01:54:21.182937Z",
     "iopub.status.busy": "2021-03-23T01:54:21.182273Z",
     "iopub.status.idle": "2021-03-23T01:54:21.185201Z",
     "shell.execute_reply": "2021-03-23T01:54:21.184791Z"
    },
    "papermill": {
     "duration": 0.062049,
     "end_time": "2021-03-23T01:54:21.185312",
     "exception": false,
     "start_time": "2021-03-23T01:54:21.123263",
     "status": "completed"
    },
    "tags": []
   },
   "outputs": [],
   "source": [
    "svc_best = svc_cv_grid.best_estimator_"
   ]
  },
  {
   "cell_type": "code",
   "execution_count": 56,
   "metadata": {
    "execution": {
     "iopub.execute_input": "2021-03-23T01:54:21.304803Z",
     "iopub.status.busy": "2021-03-23T01:54:21.303976Z",
     "iopub.status.idle": "2021-03-23T01:54:21.319391Z",
     "shell.execute_reply": "2021-03-23T01:54:21.319982Z"
    },
    "papermill": {
     "duration": 0.078943,
     "end_time": "2021-03-23T01:54:21.320156",
     "exception": false,
     "start_time": "2021-03-23T01:54:21.241213",
     "status": "completed"
    },
    "tags": []
   },
   "outputs": [
    {
     "name": "stdout",
     "output_type": "stream",
     "text": [
      "TRAIN DATA ACCURACY 0.9516129032258065\n",
      "\n",
      "Train data f1-score for class '1' 0.8695652173913044\n",
      "\n",
      "Train data f1-score for class '2' 0.9702970297029703\n",
      "\n",
      "\n",
      "--------------------------------------\n",
      "\n",
      "\n",
      "TEST DATA ACCURACY 0.8709677419354839\n",
      "\n",
      "Test data f1-score for class '1' 0.6666666666666666\n",
      "\n",
      "Test data f1-score for class '2' 0.92\n"
     ]
    }
   ],
   "source": [
    "## Predict\n",
    "train_predictions = svc_best.predict(X_train)\n",
    "test_predictions = svc_best.predict(X_test)\n",
    "\n",
    "print(\"TRAIN DATA ACCURACY\",accuracy_score(y_train,train_predictions))\n",
    "print(\"\\nTrain data f1-score for class '1'\",f1_score(y_train,train_predictions,pos_label=1))\n",
    "print(\"\\nTrain data f1-score for class '2'\",f1_score(y_train,train_predictions,pos_label=2))\n",
    "\n",
    "### Test data accuracy\n",
    "print(\"\\n\\n--------------------------------------\\n\\n\")\n",
    "print(\"TEST DATA ACCURACY\",accuracy_score(y_test,test_predictions))\n",
    "print(\"\\nTest data f1-score for class '1'\",f1_score(y_test,test_predictions,pos_label=1))\n",
    "print(\"\\nTest data f1-score for class '2'\",f1_score(y_test,test_predictions,pos_label=2))"
   ]
  },
  {
   "cell_type": "code",
   "execution_count": null,
   "metadata": {
    "papermill": {
     "duration": 0.05593,
     "end_time": "2021-03-23T01:54:21.433598",
     "exception": false,
     "start_time": "2021-03-23T01:54:21.377668",
     "status": "completed"
    },
    "tags": []
   },
   "outputs": [],
   "source": []
  },
  {
   "cell_type": "code",
   "execution_count": null,
   "metadata": {},
   "outputs": [],
   "source": []
  }
 ],
 "metadata": {
  "kernelspec": {
   "display_name": "Python 3",
   "language": "python",
   "name": "python3"
  },
  "language_info": {
   "codemirror_mode": {
    "name": "ipython",
    "version": 3
   },
   "file_extension": ".py",
   "mimetype": "text/x-python",
   "name": "python",
   "nbconvert_exporter": "python",
   "pygments_lexer": "ipython3",
   "version": "3.12.0"
  },
  "papermill": {
   "default_parameters": {},
   "duration": 19.367045,
   "end_time": "2021-03-23T01:54:21.998475",
   "environment_variables": {},
   "exception": null,
   "input_path": "__notebook__.ipynb",
   "output_path": "__notebook__.ipynb",
   "parameters": {},
   "start_time": "2021-03-23T01:54:02.631430",
   "version": "2.2.2"
  }
 },
 "nbformat": 4,
 "nbformat_minor": 4
}

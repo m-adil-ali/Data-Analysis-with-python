{
 "cells": [
  {
   "cell_type": "markdown",
   "metadata": {},
   "source": [
    "# Machine Learning"
   ]
  },
  {
   "cell_type": "markdown",
   "metadata": {},
   "source": [
    "## Machine Learning vs. Traditional Programming\n",
    "\n",
    "| Feature | Machine Learning | Traditional Programming |\n",
    "|---|---|---|\n",
    "| **Problem Solving** | Learns from data to solve complex problems | Requires explicit instructions and logic for each step |\n",
    "| **Model Creation** | Model is automatically generated through training data | Programmer manually writes all code and logic |\n",
    "| **Adaptability** | Can adapt to new data and improve performance | Requires code changes to adapt to new situations |\n",
    "| **Focus** |  Finding patterns and relationships in data |  Defining clear instructions and logic |\n",
    "| **Examples** | Spam filtering, image recognition, recommendation systems |  Web applications, mobile apps, video games |\n"
   ]
  },
  {
   "cell_type": "code",
   "execution_count": null,
   "metadata": {},
   "outputs": [],
   "source": []
  }
 ],
 "metadata": {
  "kernelspec": {
   "display_name": "Python 3",
   "language": "python",
   "name": "python3"
  },
  "language_info": {
   "codemirror_mode": {
    "name": "ipython",
    "version": 3
   },
   "file_extension": ".py",
   "mimetype": "text/x-python",
   "name": "python",
   "nbconvert_exporter": "python",
   "pygments_lexer": "ipython3",
   "version": "3.12.0"
  }
 },
 "nbformat": 4,
 "nbformat_minor": 2
}
